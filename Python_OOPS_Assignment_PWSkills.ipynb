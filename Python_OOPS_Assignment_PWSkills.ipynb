{
 "cells": [
  {
   "cell_type": "markdown",
   "id": "0db8149a-1c5a-42e0-adca-4db23103dbf7",
   "metadata": {},
   "source": [
    "Q1. What are the five key concepts of Object-Oriented Programming (OOP)?\n",
    "\n",
    "Ans:-The five key concepts of Object-Oriented Programming (OOP) are:\n",
    "\n",
    "1. Encapsulation: This concept involves bundling data and methods that operate on that data within a single unit, called a class or object. Encapsulation helps to hide internal implementation details and protect data from external interference.\n",
    "\n",
    "2. Abstraction: Abstraction is the practice of exposing only the necessary information to the outside world while hiding the internal details. This helps to reduce complexity, improve modularity, and increase reusability.\n",
    "\n",
    "3. Inheritance: Inheritance allows one class to inherit the properties and behavior of another class. The child class inherits all the fields and methods of the parent class and can also add new fields and methods or override the ones inherited from the parent class.\n",
    "\n",
    "4. Polymorphism: Polymorphism is the ability of an object to take on multiple forms. This can be achieved through method overloading (multiple methods with the same name but different parameters) or method overriding (a child class providing a different implementation of a method already defined in its parent class).\n",
    "\n",
    "5. Composition: Composition is the concept of creating objects from other objects or collections of objects. This allows for the creation of complex objects from simpler ones, promoting reusability and modularity.\n",
    "\n",
    "These five key concepts form the foundation of Object-Oriented Programming and enable developers to create robust, scalable, and maintainable software systems."
   ]
  },
  {
   "cell_type": "markdown",
   "id": "98e68667-48fd-42e7-964a-10629849624b",
   "metadata": {},
   "source": [
    "Q2. Write a Python class for a `Car` with attributes for `make`, `model`, and `year`. Include a method to display\n",
    "the car's information?\n",
    "\n",
    "Ans:- Here is the python class for car with attributes for make, model and year:"
   ]
  },
  {
   "cell_type": "code",
   "execution_count": 1,
   "id": "27686f1e-95c1-447a-8c84-e32667759630",
   "metadata": {},
   "outputs": [
    {
     "name": "stdout",
     "output_type": "stream",
     "text": [
      "Make: TATA\n",
      "Model: SAFARI\n",
      "Year: 2022\n"
     ]
    }
   ],
   "source": [
    "#Code for the above question\n",
    "class Car:           #Class representing a car with attributes for make, model, and year.\n",
    "    def __init__(self, make, model, year):      #Initialize a Car object with make, model, and year.\n",
    "        self.make = make\n",
    "        self.model = model\n",
    "        self.year = year\n",
    "    def display_info(self):\n",
    "        print(f\"Make: {self.make}\")\n",
    "        print(f\"Model: {self.model}\")\n",
    "        print(f\"Year: {self.year}\")\n",
    "\n",
    "my_car = Car(\"TATA\", \"SAFARI\", 2022)\n",
    "my_car.display_info()"
   ]
  },
  {
   "cell_type": "markdown",
   "id": "5a56eb73-c139-4d35-9825-d1e112dd5b01",
   "metadata": {},
   "source": [
    "In this implementation:\n",
    "\n",
    "- The __init__ method initializes a Car object with make, model, and year attributes.\n",
    "- The display_info method prints out the car's information in a formatted manner.\n",
    "\n",
    "You can create multiple Car objects with different attributes and display their information using the display_info method."
   ]
  },
  {
   "cell_type": "markdown",
   "id": "ccad59f4-d619-4c56-a4f1-7af8a547c87c",
   "metadata": {},
   "source": [
    "Q3. Explain the difference between instance methods and class methods. Provide an example of each?\n",
    "\n",
    "Ans:- In object-oriented programming (OOP), methods are functions that belong to a class or an instance of a class. There are two types of methods: instance methods and class methods.\n",
    "\n",
    ">>Instance Methods\n",
    "\n",
    "Instance methods are methods that belong to an instance of a class. They have access to the instance's attributes and can modify them. Instance methods are used to perform actions that are specific to an individual instance of a class."
   ]
  },
  {
   "cell_type": "code",
   "execution_count": 3,
   "id": "dd57a850-2dc5-4db0-8d8a-c490112c3d44",
   "metadata": {},
   "outputs": [
    {
     "name": "stdout",
     "output_type": "stream",
     "text": [
      "Fido says Woof!\n"
     ]
    }
   ],
   "source": [
    "#Example of Instance Method\n",
    "class Dog:\n",
    "    def __init__(self, name, age):\n",
    "        self.name = name\n",
    "        self.age = age\n",
    "    def bark(self):\n",
    "        print(f\"{self.name} says Woof!\")\n",
    "my_dog = Dog(\"Fido\", 3)\n",
    "my_dog.bark()"
   ]
  },
  {
   "cell_type": "markdown",
   "id": "ffbae639-d501-46cf-bf1d-d9c270f5b8a7",
   "metadata": {},
   "source": [
    ">>Class Methods\n",
    "\n",
    "Class methods are methods that belong to a class itself, rather than an instance of the class. They have access to the class's attributes and can modify them. Class methods are used to perform actions that are related to the class as a whole, rather than a specific instance."
   ]
  },
  {
   "cell_type": "code",
   "execution_count": 12,
   "id": "fcb39c0b-4792-45a5-87d2-bc1ff4095a50",
   "metadata": {},
   "outputs": [
    {
     "name": "stdout",
     "output_type": "stream",
     "text": [
      "1\n"
     ]
    }
   ],
   "source": [
    "#Example of Class Method\n",
    "class Dog:\n",
    "    num_dogs = 0\n",
    "    def __init__(self, name, age):\n",
    "        self.name = name\n",
    "        self.age = age\n",
    "        Dog.num_dogs += 1\n",
    "    @classmethod    \n",
    "    def get_num_dogs(cls):\n",
    "        return cls.num_dogs\n",
    "\n",
    "my_dog = Dog(\"Fido\", 3)\n",
    "print(Dog.get_num_dogs())"
   ]
  },
  {
   "cell_type": "markdown",
   "id": "bc8b3544-0dee-41c8-8fa1-6aee7b94dfd8",
   "metadata": {},
   "source": [
    "Q4.  How does Python implement method overloading? Give an example\n",
    "\n",
    "Ans:- Python does not support method overloading in the classical sense, unlike languages such as Java or C++. Method overloading is a feature that allows multiple methods with the same name to be defined, as long as they have different parameter lists.\n",
    "\n",
    "However, Python provides several alternatives to achieve similar behavior:\n",
    "\n",
    ">>Default Argument Values\n",
    "\n",
    "You can define a method with default argument values, which allows for optional parameters."
   ]
  },
  {
   "cell_type": "code",
   "execution_count": 15,
   "id": "1161ae40-2823-45e5-8f40-49b711e8d131",
   "metadata": {},
   "outputs": [
    {
     "name": "stdout",
     "output_type": "stream",
     "text": [
      "Hello, John!\n",
      "Hi, Jane!\n"
     ]
    }
   ],
   "source": [
    "def greet(name, msg=\"Hello\"):\n",
    "    print(f\"{msg}, {name}!\")\n",
    "\n",
    "greet(\"John\")  # Output: Hello, John!\n",
    "greet(\"Jane\", \"Hi\")"
   ]
  },
  {
   "cell_type": "markdown",
   "id": "12e3e40f-4d14-4f23-a7b4-5373ce7baa28",
   "metadata": {},
   "source": [
    ">>Variable Number of Arguments\n",
    "\n",
    "You can define a method that accepts a variable number of arguments using the *args syntax."
   ]
  },
  {
   "cell_type": "code",
   "execution_count": 16,
   "id": "43539d8d-5b86-4aa3-9984-7c43b8c78bd0",
   "metadata": {},
   "outputs": [
    {
     "name": "stdout",
     "output_type": "stream",
     "text": [
      "6\n",
      "15\n"
     ]
    }
   ],
   "source": [
    "def sum_numbers(*args):\n",
    "    return sum(args)\n",
    "\n",
    "print(sum_numbers(1, 2, 3))\n",
    "print(sum_numbers(1, 2, 3, 4, 5))"
   ]
  },
  {
   "cell_type": "markdown",
   "id": "47f39b0e-6276-4508-a9ae-1758e635a787",
   "metadata": {},
   "source": [
    ">>Single Dispatch\n",
    "\n",
    "Python 3.4 and later versions provide the @singledispatch decorator from the functools module, which allows for single-dispatch generic functions"
   ]
  },
  {
   "cell_type": "code",
   "execution_count": 17,
   "id": "38fbf3cf-c5eb-43d4-91f2-f97b4347e6dc",
   "metadata": {},
   "outputs": [
    {
     "name": "stdout",
     "output_type": "stream",
     "text": [
      "int\n",
      "str\n",
      "default\n"
     ]
    }
   ],
   "source": [
    "from functools import singledispatch\n",
    "\n",
    "@singledispatch\n",
    "def fun(arg):\n",
    "    return \"default\"\n",
    "\n",
    "@fun.register\n",
    "def _(arg: int):\n",
    "    return \"int\"\n",
    "\n",
    "@fun.register\n",
    "def _(arg: str):\n",
    "    return \"str\"\n",
    "\n",
    "print(fun(1))        # Output: int\n",
    "print(fun(\"hello\"))  # Output: str\n",
    "print(fun([1, 2, 3])) # Output: default"
   ]
  },
  {
   "cell_type": "markdown",
   "id": "bacb3c81-9f7d-4f2c-8e9b-92e13bf246f3",
   "metadata": {},
   "source": [
    "Q5. What are the three types of access modifiers in Python? How are they denoted?\n",
    "\n",
    "Ans:-Python has three types of access modifiers:\n",
    "\n",
    "1. Public: Public members (variables and methods) are accessible from anywhere in the program. They are denoted by no prefix or underscore.\n",
    "\n",
    "2. Protected: Protected members are intended to be used within the class itself or by its subclasses. They are denoted by a single underscore prefix (_).\n",
    "\n",
    "3. Private: Private members are intended to be used only within the class itself. They are denoted by a double underscore prefix (__). Python internally changes the name of the private member to include the class name, making it harder to access directly from outside the class."
   ]
  },
  {
   "cell_type": "code",
   "execution_count": 21,
   "id": "2bcd722f-9b25-4d6f-80b6-18ab3be36fc8",
   "metadata": {},
   "outputs": [
    {
     "name": "stdout",
     "output_type": "stream",
     "text": [
      "10\n",
      "20\n",
      "30\n",
      "Public method\n",
      "Protected method\n",
      "Private method\n"
     ]
    }
   ],
   "source": [
    "#Examples\n",
    "class MyClass:\n",
    "    def __init__(self):\n",
    "        self.public_var = 10  # Public variable\n",
    "        self._protected_var = 20  # Protected variable\n",
    "        self.__private_var = 30  # Private variable\n",
    "    def public_method(self):  # Public method\n",
    "        return \"Public method\"\n",
    "    def _protected_method(self):  # Protected method\n",
    "        return \"Protected method\"\n",
    "    def __private_method(self):  # Private method\n",
    "        return \"Private method\"\n",
    "\n",
    "obj = MyClass()\n",
    "print(obj.public_var)  # Accessing public variable\n",
    "print(obj._protected_var) # Accessing protected variable (not recommended)\n",
    "\n",
    "# Accessing private variable (not recommended)\n",
    "print(obj._MyClass__private_var)\n",
    "\n",
    "print(obj.public_method())  # Calling public method\n",
    "print(obj._protected_method())  # Calling protected method (not recommended)\n",
    "\n",
    "# Calling private method (not recommended)\n",
    "print(obj._MyClass__private_method())"
   ]
  },
  {
   "cell_type": "markdown",
   "id": "61e2fa00-53de-4703-8fe5-fa040bc76767",
   "metadata": {},
   "source": [
    "Q.6 Describe the five types of inheritance in Python. Provide a simple example of multiple inheritance?\n",
    "\n",
    "Ans:- Python supports the following five types of inheritance:\n",
    "\n",
    "1. Single Inheritance: A child class inherits from a single parent class.\n",
    "\n",
    "2. Multiple Inheritance: A child class inherits from multiple parent classes.\n",
    "\n",
    "3. Multilevel Inheritance: A child class inherits from a parent class, which in turn inherits from another parent class.\n",
    "\n",
    "4. Hierarchical Inheritance: Multiple child classes inherit from a single parent class.\n",
    "\n",
    "5. Hybrid Inheritance: A combination of multiple and multilevel inheritance.\n",
    "\n",
    "Here's a simple example of multiple inheritance:"
   ]
  },
  {
   "cell_type": "code",
   "execution_count": 22,
   "id": "6cbda9a8-fab8-4c3a-b8db-97ff1d9f89f1",
   "metadata": {},
   "outputs": [
    {
     "name": "stdout",
     "output_type": "stream",
     "text": [
      "Eating...\n",
      "Walking...\n",
      "Barking...\n"
     ]
    }
   ],
   "source": [
    "class Animal:\n",
    "    def eat(self):\n",
    "        print(\"Eating...\")\n",
    "\n",
    "class Mammal:\n",
    "    def walk(self):\n",
    "        print(\"Walking...\")\n",
    "\n",
    "class Dog(Animal, Mammal):\n",
    "    def bark(self):\n",
    "        print(\"Barking...\")\n",
    "\n",
    "my_dog = Dog()\n",
    "my_dog.eat()  # Output: Eating...\n",
    "my_dog.walk()  # Output: Walking...\n",
    "my_dog.bark()  # Output: Barking..."
   ]
  },
  {
   "cell_type": "markdown",
   "id": "660e4b2a-5d60-4bcb-b3c8-dcef16eee1bc",
   "metadata": {},
   "source": [
    "Q7. What is the Method Resolution Order (MRO) in Python? How can you retrieve it programmatically?\n",
    "\n",
    "Ans:- The Method Resolution Order (MRO) in Python is the order in which Python searches for a method or attribute in a class and its parent classes. When a method or attribute is accessed on an object, Python follows the MRO to find the first class that defines the method or attribute.\n",
    "\n",
    "Here's an example to illustrate the MRO:"
   ]
  },
  {
   "cell_type": "code",
   "execution_count": 23,
   "id": "2ca438d6-90e5-4697-8ab2-bf124857589e",
   "metadata": {},
   "outputs": [
    {
     "name": "stdout",
     "output_type": "stream",
     "text": [
      "A's method\n"
     ]
    }
   ],
   "source": [
    "#Example\n",
    "class A:\n",
    "    def method(self):\n",
    "        print(\"A's method\")\n",
    "\n",
    "class B(A):\n",
    "    pass\n",
    "\n",
    "class C:\n",
    "    def method(self):\n",
    "        print(\"C's method\")\n",
    "\n",
    "class D(B, C):\n",
    "    pass\n",
    "\n",
    "d = D()\n",
    "d.method()"
   ]
  },
  {
   "cell_type": "markdown",
   "id": "86260784-f6e2-4847-bef8-79197febe3a8",
   "metadata": {},
   "source": [
    "Q8. Create an abstract base class Shape with an abstract method area(). Then create two subclasses \n",
    "Circle and Rectangle that implement the area() method?\n",
    "\n",
    "Ans:- Here's an example implementation of the abstract base class Shape and its subclasses Circle and Rectangle:"
   ]
  },
  {
   "cell_type": "code",
   "execution_count": 25,
   "id": "c47cf75c-1243-44f3-a8a6-c8f4ed949b55",
   "metadata": {},
   "outputs": [
    {
     "name": "stdout",
     "output_type": "stream",
     "text": [
      "Circle area: 78.54\n",
      "Rectangle area: 24.00\n"
     ]
    }
   ],
   "source": [
    "from abc import ABC, abstractmethod\n",
    "import math\n",
    "\n",
    "class Shape(ABC):\n",
    "    @abstractmethod\n",
    "    def area(self):\n",
    "        pass\n",
    "\n",
    "class Circle(Shape):\n",
    "    def __init__(self, radius):\n",
    "        self.radius = radius\n",
    "    def area(self):\n",
    "         return math.pi * (self.radius ** 2)\n",
    "\n",
    "class Rectangle(Shape):\n",
    "    def __init__(self, width, height):\n",
    "        self.width = width\n",
    "        self.height = height\n",
    "    def area(self):\n",
    "        return self.width * self.height\n",
    "\n",
    "#Examples\n",
    "\n",
    "circle = Circle(5)\n",
    "print(f\"Circle area: {circle.area():.2f}\")\n",
    "\n",
    "rectangle = Rectangle(4, 6)\n",
    "print(f\"Rectangle area: {rectangle.area():.2f}\")\n",
    "    "
   ]
  },
  {
   "cell_type": "markdown",
   "id": "b7a2baac-ceac-4d74-8103-b8459d304bf8",
   "metadata": {},
   "source": [
    "Q9. Demonstrate polymorphism by creating a function that can work with different shape objects to calculate \n",
    "and print their areas?\n",
    "\n",
    "Ans:- Here's an example that demonstrates polymorphism by creating a function calculate_area that works with different shape objects:-"
   ]
  },
  {
   "cell_type": "code",
   "execution_count": 26,
   "id": "a1a5e491-1432-4603-903b-18d66c4f2de2",
   "metadata": {},
   "outputs": [
    {
     "name": "stdout",
     "output_type": "stream",
     "text": [
      "Area of Circle: 78.54\n",
      "Area of Rectangle: 24.00\n",
      "Area of Triangle: 10.50\n"
     ]
    }
   ],
   "source": [
    "from abc import ABC, abstractmethod\n",
    "import math\n",
    "\n",
    "class Shape(ABC):\n",
    "    @abstractmethod\n",
    "    def area(self):\n",
    "        pass\n",
    "\n",
    "class Circle(Shape):\n",
    "    def __init__(self, radius):\n",
    "        self.radius = radius\n",
    "    def area(self):\n",
    "         return math.pi * (self.radius ** 2)\n",
    "\n",
    "class Rectangle(Shape):\n",
    "    def __init__(self, width, height):\n",
    "        self.width = width\n",
    "        self.height = height\n",
    "    def area(self):\n",
    "        return self.width * self.height\n",
    "\n",
    "class Triangle(Shape):\n",
    "    def __init__(self, base, height):\n",
    "        self.base = base\n",
    "        self.height = height\n",
    "    def area(self):\n",
    "        return 0.5 * self.base * self.height\n",
    "\n",
    "def calculate_area(shape: Shape):\n",
    "    print(f\"Area of {type(shape).__name__}: {shape.area():.2f}\")\n",
    "\n",
    "circle = Circle(5)\n",
    "rectangle = Rectangle(4, 6)\n",
    "triangle = Triangle(3, 7)\n",
    "\n",
    "calculate_area(circle)\n",
    "calculate_area(rectangle)\n",
    "calculate_area(triangle)"
   ]
  },
  {
   "cell_type": "markdown",
   "id": "4c335827-be03-4ce1-9ac9-c32018e4f8c8",
   "metadata": {},
   "source": [
    "Q10. Implement encapsulation in a BankAccount class with private attributes for balance and \n",
    "account_number. Include methods for deposit, withdrawal, and balance inquiry?\n",
    "\n",
    "Ans:- Here's an implementation of encapsulation in a BankAccount class with private attributes for balance and account_number, along with methods for deposit, withdrawal, and balance inquiry:-"
   ]
  },
  {
   "cell_type": "code",
   "execution_count": 30,
   "id": "8db03509-ef9a-4c4a-a38d-b3480fe0ae71",
   "metadata": {},
   "outputs": [
    {
     "name": "stdout",
     "output_type": "stream",
     "text": [
      "Account Number: 700264538\n",
      "Initial Balance: Rs1000.00\n",
      "Deposited Rs500.00. New balance: Rs1500.00\n",
      "Withdrew Rs200.00. New balance: Rs1300.00\n",
      "Final Balance: Rs1300.00\n"
     ]
    }
   ],
   "source": [
    "class BankAccount:\n",
    "    def __init__(self, account_number, initial_balance):\n",
    "        self.__account_number = account_number\n",
    "        self.__balance = initial_balance\n",
    "    def deposit(self, amount):\n",
    "        if amount > 0:\n",
    "            self.__balance += amount\n",
    "            print(f\"Deposited Rs{amount:.2f}. New balance: Rs{self.__balance:.2f}\")\n",
    "        else:\n",
    "            print(\"Invalid deposit amount.\")\n",
    "    def withdraw(self, amount):\n",
    "        if 0 < amount <= self.__balance:\n",
    "            self.__balance -= amount\n",
    "            print(f\"Withdrew Rs{amount:.2f}. New balance: Rs{self.__balance:.2f}\")\n",
    "        else:\n",
    "            print(\"Invalid withdrawal amount.\")\n",
    "    def get_balance(self):\n",
    "        return self.__balance\n",
    "    def get_account_number(self):\n",
    "        return self.__account_number\n",
    "\n",
    "account = BankAccount(\"700264538\", 1000.0)\n",
    "print(f\"Account Number: {account.get_account_number()}\")\n",
    "print(f\"Initial Balance: Rs{account.get_balance():.2f}\")\n",
    "\n",
    "account.deposit(500.0)\n",
    "account.withdraw(200.0)\n",
    "\n",
    "print(f\"Final Balance: Rs{account.get_balance():.2f}\")"
   ]
  },
  {
   "cell_type": "markdown",
   "id": "743edeff-3b53-4d0f-b0a4-fd4833b7bcd6",
   "metadata": {},
   "source": [
    "Q11. Write a class that overrides the __str__ and __add__ magic methods. What will these methods allow \n",
    "you to do?\n",
    "\n",
    "Ans:- The explaination of __str__ and __add__ methods:-\n",
    "\n",
    ">The __str__ method allows you to:\n",
    "\n",
    "- Return a string representation of the object.\n",
    "- Control how the object is displayed when using print() or other functions that convert objects to strings.\n",
    "\n",
    ">he __add__ method allows you to:\n",
    "\n",
    "- Define how two objects of the same class are added together.\n",
    "- Implement element-wise addition for vectors or other mathematical objects.\n",
    "- Raise a TypeError if the operation is not supported for the given operand types.\n",
    "\n",
    "By overriding these magic methods, you can create a more intuitive and user-friendly interface for your class.\n",
    "\n",
    "Here's an example class that overrides the __str__ and __add__ magic methods:-"
   ]
  },
  {
   "cell_type": "code",
   "execution_count": 31,
   "id": "1c5d3e7e-2050-4555-ab26-f815ba71f0e7",
   "metadata": {},
   "outputs": [
    {
     "name": "stdout",
     "output_type": "stream",
     "text": [
      "Vector(2, 3)\n",
      "Vector(6, 8)\n"
     ]
    }
   ],
   "source": [
    "class Vector:\n",
    "    def __init__(self, x, y):\n",
    "        self.x = x\n",
    "        self.y = y\n",
    "\n",
    "    def __str__(self):\n",
    "        return f\"Vector({self.x}, {self.y})\"\n",
    "    def __add__(self, other):\n",
    "        if isinstance(other, Vector):\n",
    "            return Vector(self.x + other.x, self.y + other.y)\n",
    "        else:\n",
    "            raise TypeError(\"Unsupported operand type for +\")\n",
    "\n",
    "v1 = Vector(2, 3)\n",
    "v2 = Vector(4, 5)\n",
    "\n",
    "print(v1)\n",
    "print(v1 + v2)"
   ]
  },
  {
   "cell_type": "markdown",
   "id": "20b98fc6-be32-49cc-a61f-bc506c7425bf",
   "metadata": {},
   "source": [
    "Q12. Create a decorator that measures and prints the execution time of a function?\n",
    "\n",
    "Ans:- Here's an example of a decorator that measures and prints the execution time of a function:-"
   ]
  },
  {
   "cell_type": "code",
   "execution_count": 32,
   "id": "b4478cda-79d1-4caa-9daf-3c805bee2c72",
   "metadata": {},
   "outputs": [
    {
     "name": "stdout",
     "output_type": "stream",
     "text": [
      "Function 'example_function' executed in 2.0005 seconds.\n"
     ]
    }
   ],
   "source": [
    "import time\n",
    "from functools import wraps\n",
    "\n",
    "def timer_decorator(func):\n",
    "    @wraps(func)\n",
    "    def wrapper(*args, **kwargs):\n",
    "        start_time = time.time()\n",
    "        result = func(*args, **kwargs)\n",
    "        end_time = time.time()\n",
    "        execution_time = end_time - start_time\n",
    "        print(f\"Function '{func.__name__}' executed in {execution_time:.4f} seconds.\")\n",
    "        return result\n",
    "    return wrapper\n",
    "\n",
    "@timer_decorator\n",
    "def example_function():\n",
    "    time.sleep(2)\n",
    "\n",
    "example_function()"
   ]
  },
  {
   "cell_type": "markdown",
   "id": "fa4665a1-ce27-4ae7-8222-66e251a76d53",
   "metadata": {},
   "source": [
    "Q13. Explain the concept of the Diamond Problem in multiple inheritance. How does Python resolve it?\n",
    "\n",
    "Ans:- The Diamond Problem is a well-known issue in multiple inheritance, where a class inherits from two parent classes that have a common base class. This creates a diamond-shaped inheritance graph, leading to ambiguity and potential conflicts.\n",
    "\n",
    "Here's an example of the Diamond Problem:"
   ]
  },
  {
   "cell_type": "code",
   "execution_count": 33,
   "id": "7353064b-6be9-46d3-a69a-cb98d80515d2",
   "metadata": {},
   "outputs": [
    {
     "name": "stdout",
     "output_type": "stream",
     "text": [
      "[<class '__main__.Child'>, <class '__main__.Parent1'>, <class '__main__.Parent2'>, <class '__main__.Grandparent'>, <class 'object'>]\n"
     ]
    }
   ],
   "source": [
    "class Grandparent:\n",
    "    def method(self):\n",
    "        print(\"Grandparent's method\")\n",
    "\n",
    "class Parent1(Grandparent):\n",
    "    def method(self):\n",
    "        print(\"Parent 1's method\")\n",
    "\n",
    "class Parent2(Grandparent):\n",
    "    def method(self):\n",
    "        print(\"Parent 2's method\")\n",
    "\n",
    "class Child(Parent1, Parent2):\n",
    "    pass\n",
    "\n",
    "print(Child.mro())"
   ]
  },
  {
   "cell_type": "markdown",
   "id": "43646bab-4a91-43ee-9688-f947278e8d29",
   "metadata": {},
   "source": [
    "**This shows that the MRO for the Child class is:\n",
    "\n",
    "1. Child\n",
    "2. Parent1\n",
    "3. Parent2\n",
    "4. Grandparent\n",
    "5. object (the base class of all Python classes)"
   ]
  },
  {
   "cell_type": "markdown",
   "id": "a0fb5adc-0da2-4177-827b-dc749a4b305b",
   "metadata": {},
   "source": [
    "Q14. Write a class method that keeps track of the number of instances created from a class?\n",
    "\n",
    "Ans:- Here's an example implementation of a class method that keeps track of the number of instances created from a class:-"
   ]
  },
  {
   "cell_type": "code",
   "execution_count": 34,
   "id": "e7e6b72c-9339-4748-bfff-ed1ed2b8ba54",
   "metadata": {},
   "outputs": [
    {
     "name": "stdout",
     "output_type": "stream",
     "text": [
      "0\n"
     ]
    }
   ],
   "source": [
    "class InstanceTracker:\n",
    "    num_instances = 0\n",
    "    def __init__(self):\n",
    "        InstanceTracker.num_instances += 1\n",
    "    @classmethod\n",
    "    def get_num_instances(cls):\n",
    "        return cls.num_instances\n",
    "\n",
    "print(InstanceTracker.get_num_instances())"
   ]
  },
  {
   "cell_type": "code",
   "execution_count": 35,
   "id": "ecf583cb-fb7d-42fd-8be8-02f2846804e8",
   "metadata": {},
   "outputs": [
    {
     "name": "stdout",
     "output_type": "stream",
     "text": [
      "3\n"
     ]
    }
   ],
   "source": [
    "instance1 = InstanceTracker()\n",
    "instance2 = InstanceTracker()\n",
    "instance3 = InstanceTracker()\n",
    "\n",
    "print(InstanceTracker.get_num_instances())"
   ]
  },
  {
   "cell_type": "markdown",
   "id": "fc88fbaf-5443-4c1b-89de-f55411cb41d1",
   "metadata": {},
   "source": [
    "Q15. Implement a static method in a class that checks if a given year is a leap year?\n",
    "\n",
    "Ans:- Here's an implementation of a static method in a class that checks if a given year is a leap year:-"
   ]
  },
  {
   "cell_type": "code",
   "execution_count": 36,
   "id": "6bd81378-4731-4a90-ac4d-2f497bc1f355",
   "metadata": {},
   "outputs": [
    {
     "name": "stdout",
     "output_type": "stream",
     "text": [
      "True\n",
      "False\n",
      "False\n",
      "True\n"
     ]
    }
   ],
   "source": [
    "class LeapYearChecker:\n",
    "    @staticmethod\n",
    "    def is_leap_year(year):\n",
    "        return year % 4 == 0 and (year % 100 != 0 or year % 400 == 0)\n",
    "\n",
    "\n",
    "print(LeapYearChecker.is_leap_year(2024))  \n",
    "print(LeapYearChecker.is_leap_year(2021))  \n",
    "print(LeapYearChecker.is_leap_year(2017)) \n",
    "print(LeapYearChecker.is_leap_year(2180))"
   ]
  }
 ],
 "metadata": {
  "kernelspec": {
   "display_name": "Python 3 (ipykernel)",
   "language": "python",
   "name": "python3"
  },
  "language_info": {
   "codemirror_mode": {
    "name": "ipython",
    "version": 3
   },
   "file_extension": ".py",
   "mimetype": "text/x-python",
   "name": "python",
   "nbconvert_exporter": "python",
   "pygments_lexer": "ipython3",
   "version": "3.13.0"
  }
 },
 "nbformat": 4,
 "nbformat_minor": 5
}
