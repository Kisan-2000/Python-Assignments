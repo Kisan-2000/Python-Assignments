{
 "cells": [
  {
   "cell_type": "markdown",
   "id": "cfa7813b-b894-4dff-ad81-a16a6bd8d97d",
   "metadata": {},
   "source": [
    "Q1. Explain the key features of Python that make it a popular choice for programming?\n",
    "\n",
    "Ans:- Python is popular programming language for severaal reasons:-\n",
    "\n",
    "\n",
    "1.Easy to Learn and Use - Python is easy to learn as compared to other programming languages. Its syntax is straightforward and much the same as the English language.It is the recommended programming language for beginners.\n",
    "\n",
    "2.Interpreted Language - Python is an interpreted language; it means the Python program is executed one line at a time. The advantage of being interpreted language, it makes debugging easy and portable.\n",
    "\n",
    "3.Cross Platform Language - Python can run equally on different platforms such as Windows, Linux, UNIX, and Macintosh, etc. So, we can say that Python is a portable language. It enables programmers to develop the software for several competing platforms by writing a program only once.\n",
    "\n",
    "4.Extensible - It implies that other languages such as C/C++ can be used to compile the code and thus it can be used further in our Python code. It converts the program into byte code, and any platform can use that byte code.\n",
    "\n",
    "5.Large Standard Library - It provides a vast range of libraries for the various fields such as machine learning, web developer, and also for the scripting. There are various machine learning libraries, such as Pandas, Numpy, Keras, and Pytorch, etc.\n",
    "\n",
    "6.Expressive Language - Python can perform complex tasks using a few lines of code. A simple example, the hello world program you simply type print(\"Hello World\"). It will take only one line to execute, while Java or C, C++ takes multiple lines."
   ]
  },
  {
   "cell_type": "markdown",
   "id": "a5f42f74-33b2-4170-843a-c74508f34e2b",
   "metadata": {},
   "source": [
    "Q2.Describe the role of predefined keywords in Python and provide examples of how they are used in a\n",
    "program?\n",
    "\n",
    "Ans:-A Python keyword is a word that serves a specific function in Python. It is limited to one single function and it can not be set as a variable name, a function name, or the value of any other identifier. The purpose of the keyword is to define the syntax of the code.Keywords are case-sensitive and cannot be redefined or overridden within a Python program.Some examples of keywords are:-if, for, and, or, not,try, except, finally, etc.\n"
   ]
  },
  {
   "cell_type": "code",
   "execution_count": 1,
   "id": "7feb7f84-4f94-454f-b050-e5f3f46f7ac5",
   "metadata": {},
   "outputs": [
    {
     "name": "stdout",
     "output_type": "stream",
     "text": [
      "x is greater than 10\n"
     ]
    }
   ],
   "source": [
    "#if keyword- which is used to create conditional statements\n",
    "a=15\n",
    "if a > 10:\n",
    "    print(\"x is greater than 10\")"
   ]
  },
  {
   "cell_type": "code",
   "execution_count": 2,
   "id": "61413e38-e742-428c-9d4f-e4772142c7cd",
   "metadata": {
    "jp-MarkdownHeadingCollapsed": true
   },
   "outputs": [
    {
     "name": "stdout",
     "output_type": "stream",
     "text": [
      "apple\n",
      "banana\n",
      "cherry\n"
     ]
    }
   ],
   "source": [
    "#for keyword- which is used to create a loop that iterates over a sequence\n",
    "fruits=['apple', 'banana', 'cherry']\n",
    "for fruit in fruits:\n",
    "    print(fruit)"
   ]
  },
  {
   "cell_type": "code",
   "execution_count": 3,
   "id": "1d4bfa5e-fd57-4f38-aa04-8449ad76e9c2",
   "metadata": {},
   "outputs": [
    {
     "name": "stdout",
     "output_type": "stream",
     "text": [
      "both conditions are true\n"
     ]
    }
   ],
   "source": [
    "#and keyword- which is used as a logical operator. It is used to combine two or more conditional statements\n",
    "x=5\n",
    "y=3\n",
    "if x > 2 and y < 5:\n",
    "    print('both conditions are true')"
   ]
  },
  {
   "cell_type": "code",
   "execution_count": 4,
   "id": "e006409a-811b-492f-b344-d881b46d9415",
   "metadata": {},
   "outputs": [
    {
     "name": "stdout",
     "output_type": "stream",
     "text": [
      "atleast one conditions is true\n"
     ]
    }
   ],
   "source": [
    "#or keyword- which is used as a logical operator. It is used to combine two or more conditional statements\n",
    "x=5\n",
    "y=3\n",
    "if x > 2 or y < 2:\n",
    "    print('atleast one conditions is true')"
   ]
  },
  {
   "cell_type": "code",
   "execution_count": 5,
   "id": "6364edb9-2988-4710-82bb-e9260d38f35e",
   "metadata": {},
   "outputs": [
    {
     "name": "stdout",
     "output_type": "stream",
     "text": [
      "cannot divide by zero\n",
      "cleanup code\n"
     ]
    }
   ],
   "source": [
    "#try keyword- which is used to implement exception handling. It allows you to test a block of code for errors and handle them gracefully if they occur\n",
    "\n",
    "#except keyword- which is used in conjunction with the try statement to handle exceptions (errors) that might occur during the execution of your code\n",
    "\n",
    "#finally keyword- which is used in conjunction with try and except blocks to define a block of code that will be executed regardless of whether an exception occurs or not\n",
    "\n",
    "try:\n",
    "    x= 5/0\n",
    "except ZeroDivisionError:\n",
    "    print('cannot divide by zero')\n",
    "finally:\n",
    "    print('cleanup code')"
   ]
  },
  {
   "cell_type": "markdown",
   "id": "d0f2ab61-31a5-4471-97b6-c0293e143736",
   "metadata": {},
   "source": [
    "Q3.Compare and contrast mutable and immutable objects in Python with examples?\n",
    "\n",
    "Ans:-In python objects are classified into two catagories: mutable and immutable.\n",
    "\n",
    "    Mutable Objects:\n",
    "    \n",
    "i) It can be modified after creation.\n",
    "\n",
    "ii) Changes affect the original object.\n",
    "\n",
    "iii) Typically have methods to modify their contents.\n",
    "\n",
    "Examples:-\n",
    "\n",
    "1.Lists: [1,2,3]\n",
    "\n",
    "2.Dictionaries: {'a': 1, 'b': 2}\n",
    "\n",
    "3.Sets: [1,2,3] , etc.\n",
    "\n",
    "    Immutable Objects:\n",
    "    \n",
    "i) It cannot be modified after creation.\n",
    "\n",
    "ii) Changes create a new object.\n",
    "\n",
    "iii) Typically do not have methods to modify their contents.\n",
    "\n",
    "Examples:-\n",
    "\n",
    "1.Integers: 2\n",
    "\n",
    "2.Floats: 3.5\n",
    "\n",
    "3.Strings: 'kisan'\n",
    "\n",
    "4.Tuples: (1,2,3), etc."
   ]
  },
  {
   "cell_type": "code",
   "execution_count": 37,
   "id": "83f5ff4a-6eee-4ff6-bb3d-3a06ee6500e7",
   "metadata": {},
   "outputs": [
    {
     "name": "stdout",
     "output_type": "stream",
     "text": [
      "[1, 2, 3, 4, 5, 6]\n"
     ]
    }
   ],
   "source": [
    "#Example code for Mutable Objects,\n",
    "\n",
    "#Mutable List\n",
    "\n",
    "My_list=[1,2,3,4,5,]\n",
    "My_list.append(6)\n",
    "print(My_list)"
   ]
  },
  {
   "cell_type": "code",
   "execution_count": 38,
   "id": "6235ad38-5c45-4c6d-9221-7edd76235a69",
   "metadata": {},
   "outputs": [
    {
     "name": "stdout",
     "output_type": "stream",
     "text": [
      "Tuples are Immutable\n"
     ]
    }
   ],
   "source": [
    "#Example code for Immutable Objects,\n",
    "\n",
    "#Immutable Tuple\n",
    "\n",
    "My_tuple=(1,2,3)\n",
    "try:\n",
    "    My_tuple[0]=4\n",
    "except TypeError:\n",
    "    print('Tuples are Immutable')"
   ]
  },
  {
   "cell_type": "markdown",
   "id": "ea30d40d-fa94-41ff-a86e-94e3110f7b5a",
   "metadata": {},
   "source": [
    "Q4.Discuss the different types of operators in Python and provide examples of how they are used?\n",
    "\n",
    "Ans:-Python supports various types pof operators that allow you to perform operations on variables and values.Here are the different types of operators in Python, along with examples:"
   ]
  },
  {
   "cell_type": "markdown",
   "id": "a08320fc-99f3-4885-b267-a276f70e1eae",
   "metadata": {},
   "source": [
    "1.Arithmetic Operators\n",
    "\n",
    "These are symbols or functions that perform mathematical operations on numbers and groups, such as addition, subtraction, multiplication, division, Etc.\n",
    "\n",
    "Examples:- +, -, /, *, etc."
   ]
  },
  {
   "cell_type": "code",
   "execution_count": 5,
   "id": "d87f8217-e755-4c24-98b7-72e7fc88c44a",
   "metadata": {},
   "outputs": [
    {
     "name": "stdout",
     "output_type": "stream",
     "text": [
      "17\n",
      "3\n",
      "70\n",
      "1.4285714285714286\n",
      "3\n",
      "10000000\n",
      "1\n"
     ]
    }
   ],
   "source": [
    "#Example Code for Arithmetic Operators\n",
    "\n",
    "a = 10\n",
    "b = 7\n",
    "\n",
    "print(a+b) #Addition\n",
    "print(a-b) #Substraction\n",
    "print(a*b) #Multiplication\n",
    "print(a/b) #Division\n",
    "\n",
    "#Some more Arithmethic Operators\n",
    "\n",
    "print(a%b) #Modulas Operator used to find remainder from the equation\n",
    "print(a**b) #Exponential Operator used to give 2 power to the value\n",
    "print(a//b) #Floor Operator used to find round off or near value from the equation"
   ]
  },
  {
   "cell_type": "markdown",
   "id": "cc3a7b6e-ccd1-472f-bb85-3bf74b1aa93d",
   "metadata": {},
   "source": [
    "2.Comparison Operators\n",
    "\n",
    "These are used to compare values in computer programs to determine if one value is greater than, less than, equal to, or not equal to another value.\n",
    "\n",
    "Examples:- ==, !=, <, >, <=, >=."
   ]
  },
  {
   "cell_type": "code",
   "execution_count": 6,
   "id": "4eb979ff-bacc-4665-8513-679217bf8095",
   "metadata": {},
   "outputs": [
    {
     "name": "stdout",
     "output_type": "stream",
     "text": [
      "False\n",
      "True\n",
      "True\n",
      "False\n",
      "False\n",
      "True\n"
     ]
    }
   ],
   "source": [
    "#Example of code for Comparison Operator\n",
    "\n",
    "a=7\n",
    "b=5\n",
    "\n",
    "print(a==b)\n",
    "print(a!=b)\n",
    "print(a>b)\n",
    "print(a<b)\n",
    "print(a<=b)\n",
    "print(a>=b)\n"
   ]
  },
  {
   "cell_type": "markdown",
   "id": "a72121b3-e23f-407a-adb2-62b3ac2536b1",
   "metadata": {},
   "source": [
    "3.Logical Operators\n",
    "\n",
    "These are symbols or keywords that connect two or more expressions to produce a Boolean outcome of either true or false.\n",
    "\n",
    "Examples:- And, Or, Not."
   ]
  },
  {
   "cell_type": "code",
   "execution_count": 8,
   "id": "95a08b57-c3ee-4e1b-8ba3-fb15a79f157f",
   "metadata": {},
   "outputs": [
    {
     "name": "stdout",
     "output_type": "stream",
     "text": [
      "False\n",
      "True\n",
      "False\n",
      "True\n"
     ]
    }
   ],
   "source": [
    "#Example of code for Logical Operators\n",
    "\n",
    "a= True\n",
    "b= False\n",
    "\n",
    "print(a and b)\n",
    "print(a or b)\n",
    "print(not a)\n",
    "print(not b)"
   ]
  },
  {
   "cell_type": "markdown",
   "id": "ef3d8be8-1d73-4af0-9860-a0a978cdf2c9",
   "metadata": {},
   "source": [
    "4.Assignment Opertors\n",
    "\n",
    "These are symbol used in computer programming languages to copy the value of one variable to another.\n",
    "\n",
    "Examples:- +=, -=, /=, *=, etc."
   ]
  },
  {
   "cell_type": "code",
   "execution_count": 10,
   "id": "52447192-5602-423f-ba1e-7ceede4fe4b7",
   "metadata": {},
   "outputs": [
    {
     "name": "stdout",
     "output_type": "stream",
     "text": [
      "12\n"
     ]
    }
   ],
   "source": [
    "#Examples of code for Assignment Operators\n",
    "\n",
    "a=8\n",
    "a= a+4  #This can be also written as a+=4\n",
    "print(a)\n"
   ]
  },
  {
   "cell_type": "code",
   "execution_count": 11,
   "id": "7c74c0ba-efc5-432f-a0ec-df45cb498309",
   "metadata": {},
   "outputs": [
    {
     "name": "stdout",
     "output_type": "stream",
     "text": [
      "10\n"
     ]
    }
   ],
   "source": [
    "a= a-2  #This can be also written as a-=2\n",
    "print(a)"
   ]
  },
  {
   "cell_type": "code",
   "execution_count": 12,
   "id": "c7a1020b-c550-458f-99ee-f0e7bcdae984",
   "metadata": {},
   "outputs": [
    {
     "name": "stdout",
     "output_type": "stream",
     "text": [
      "40\n"
     ]
    }
   ],
   "source": [
    "a= a*4  #This can be also written as a*=4\n",
    "print(a)"
   ]
  },
  {
   "cell_type": "code",
   "execution_count": 13,
   "id": "efed8adf-fe08-4182-8675-ad1a28d99978",
   "metadata": {},
   "outputs": [
    {
     "name": "stdout",
     "output_type": "stream",
     "text": [
      "4.0\n"
     ]
    }
   ],
   "source": [
    "a= a/10 #This can be also written as a/=4\n",
    "print(a)"
   ]
  },
  {
   "cell_type": "markdown",
   "id": "9a69911a-601a-403e-98e2-047bf3f6b779",
   "metadata": {},
   "source": [
    "5.Membership Operators\n",
    "\n",
    "These are operators used to test whether a value exists in a sequence, such as a list, tuple, or string.\n",
    "\n",
    "Examples:- in, not in."
   ]
  },
  {
   "cell_type": "code",
   "execution_count": 16,
   "id": "f509c259-4892-4e6d-b98a-2d1998ebe556",
   "metadata": {},
   "outputs": [
    {
     "name": "stdout",
     "output_type": "stream",
     "text": [
      "True\n",
      "False\n",
      "True\n",
      "False\n"
     ]
    }
   ],
   "source": [
    "#Examples of code for Membership Operators\n",
    "\n",
    "a=('data science'+ 'python'+ 'data analytics')\n",
    "\n",
    "print('python' in a)\n",
    "print('SQL' in a)\n",
    "print('excel' not in a)\n",
    "print('python' not in a)"
   ]
  },
  {
   "cell_type": "markdown",
   "id": "134c43c7-e906-4460-9b2b-328df34c95a4",
   "metadata": {},
   "source": [
    "6.Identity Operators\n",
    "\n",
    "These are used to compare the objects, not if they are equal, but if they are actually the same object, with the same memory location.\n",
    "\n",
    "Examples:- is, is not"
   ]
  },
  {
   "cell_type": "code",
   "execution_count": 21,
   "id": "33d67061-836c-453f-9ef4-49451bbc9900",
   "metadata": {},
   "outputs": [
    {
     "name": "stdout",
     "output_type": "stream",
     "text": [
      "True\n",
      "False\n"
     ]
    }
   ],
   "source": [
    "#Examples of code for Identity Operators\n",
    "\n",
    "a=10\n",
    "b=10\n",
    "\n",
    "print(a is b)\n",
    "print(a is not b)"
   ]
  },
  {
   "cell_type": "markdown",
   "id": "1ef60867-5554-469b-812a-d437648e493b",
   "metadata": {},
   "source": [
    "7.Bitwise Operators\n",
    "\n",
    "These are used to perform bitwise calculations on integers. The integers are converted into binary format and then operations are performed bit by bit.\n",
    "\n",
    "Examples:- &, ^, ~, |, >>, <<. "
   ]
  },
  {
   "cell_type": "code",
   "execution_count": 25,
   "id": "3be84070-abef-4160-8a98-1c2c7e425f98",
   "metadata": {},
   "outputs": [
    {
     "name": "stdout",
     "output_type": "stream",
     "text": [
      "1\n",
      "13\n",
      "12\n",
      "2560\n",
      "0\n",
      "-6 -10\n"
     ]
    }
   ],
   "source": [
    "#Examples of code for Bitwise Operator\n",
    "\n",
    "a=5\n",
    "b=9\n",
    "\n",
    "print(a&b)\n",
    "print(a|b)\n",
    "print(a^b)\n",
    "print(a<<b)\n",
    "print(a>>b)\n",
    "print(~a,~b)"
   ]
  },
  {
   "cell_type": "markdown",
   "id": "32b70db6-4013-4292-b8f4-4f420611e582",
   "metadata": {},
   "source": [
    "Q5.Explain the concept of type casting in Python with examples?\n",
    "\n",
    "Ans:- Typecasting is the process os converting a value from one data type to another data type.In python, typecasting can be done using built-in operators or functions.There are two types of typecasting in python:-\n",
    "\n",
    "1.Implicit typecasting- Python automatically performs this conversion when it's safe to do so, without any user intervention.\n",
    "\n",
    "2.Explicit typecasting- This is when you explicitly convert a value to a different data type using built-in functions."
   ]
  },
  {
   "cell_type": "code",
   "execution_count": 27,
   "id": "09c404f5-8866-4af9-b44d-d30abb873f23",
   "metadata": {},
   "outputs": [
    {
     "name": "stdout",
     "output_type": "stream",
     "text": [
      "12.5\n"
     ]
    }
   ],
   "source": [
    "#Examples of code for typecasting \n",
    "\n",
    "#Implicit Typecasting\n",
    "\n",
    "a=5\n",
    "b=7.5\n",
    "print(a+b)  #The output will be a Float"
   ]
  },
  {
   "cell_type": "code",
   "execution_count": 57,
   "id": "6f3bf458-1e61-4901-b162-25e07d4f0cae",
   "metadata": {},
   "outputs": [
    {
     "name": "stdout",
     "output_type": "stream",
     "text": [
      "12\n",
      "12.0\n",
      "(12+0j)\n",
      "84\n"
     ]
    }
   ],
   "source": [
    "#Explicit Typecasting\n",
    "\n",
    "a='4' #str value\n",
    "b=8   #int value\n",
    "\n",
    "print(int(a)+b) #a's value is converted from str to int\n",
    "print(float(a)+b) #a's value is converted from str to float\n",
    "print(complex(a)+b) #a's value is converted from str to complex \n",
    "\n",
    "print(str(b)+a)  #b's value is converted from int to str"
   ]
  },
  {
   "cell_type": "markdown",
   "id": "ea334355-2b85-4112-82fe-3f130e3b5336",
   "metadata": {},
   "source": [
    "Q6.How do conditional statements work in Python? Illustrate with examples?\n",
    "\n",
    "Ans:-Conditional statemnets in Python allow you to control the flow of your program based on whether certain conditions are true or false. It helps you to code decisions based on some preconditions.\n",
    "\n",
    "Examples:-if, if-else, if-elif-else, nested if-else."
   ]
  },
  {
   "cell_type": "code",
   "execution_count": 3,
   "id": "d2450308-048b-4fd3-824c-97d6a0c1acc6",
   "metadata": {},
   "outputs": [
    {
     "name": "stdout",
     "output_type": "stream",
     "text": [
      "good weather\n"
     ]
    }
   ],
   "source": [
    "#if condition- if statement is a conditional statement that allows you to execute a block of code only if a certain condition is true.\n",
    "\n",
    "temperature=30\n",
    "humidity=56\n",
    "if ((temperature>25) & (humidity<60)):\n",
    "    print('good weather')"
   ]
  },
  {
   "cell_type": "code",
   "execution_count": 4,
   "id": "e9f172b7-01b5-493f-b6c7-3531441561df",
   "metadata": {},
   "outputs": [
    {
     "name": "stdout",
     "output_type": "stream",
     "text": [
      "You are allowed to poll vote\n"
     ]
    }
   ],
   "source": [
    "#if-else condition-  if-else condition is a control flow statement that allows you to execute different code blocks based on whether a condition evaluates to True or False.\n",
    "\n",
    "age=21\n",
    "if age>=18:\n",
    "    print('You are allowed to poll vote')\n",
    "else:\n",
    "    print('You are not allowed to poll vote')"
   ]
  },
  {
   "cell_type": "code",
   "execution_count": 13,
   "id": "38821294-b598-424a-a346-d604b3797dad",
   "metadata": {},
   "outputs": [
    {
     "name": "stdout",
     "output_type": "stream",
     "text": [
      "c\n"
     ]
    }
   ],
   "source": [
    "#if-elif-else condition- if-elif-else statement is a conditional statement that allows you to execute different blocks of code based on multiple conditions. In this condition multiple if and else can be put in a program.\n",
    "\n",
    "score=65\n",
    "if score >= 90:\n",
    "    print('a')\n",
    "elif score >=80:\n",
    "    print('b')\n",
    "elif score >=40:\n",
    "    print('c')\n",
    "else:\n",
    "    print('d')"
   ]
  },
  {
   "cell_type": "code",
   "execution_count": 14,
   "id": "04bb97e6-e3b2-4b9b-ab7e-ce37e80edf57",
   "metadata": {},
   "outputs": [
    {
     "name": "stdin",
     "output_type": "stream",
     "text": [
      "Enter your name Kisan Barnwal\n",
      "Enter your email kisan@gmail.com\n",
      "Enter your password kisan123\n"
     ]
    },
    {
     "name": "stdout",
     "output_type": "stream",
     "text": [
      "Login Successful\n"
     ]
    }
   ],
   "source": [
    "#nested if-else condition- nested if-else statement is an if-else statement that is placed inside another if-else statement. This allows you to create more complex decision-making logic by evaluating multiple conditions. \n",
    "\n",
    "name=input('Enter your name')\n",
    "email=input('Enter your email')\n",
    "password=input('Enter your password')\n",
    "\n",
    "if name == '':\n",
    "    print('Name cannot be empty')\n",
    "else:\n",
    "    if '@' not in email:\n",
    "        print('Enter a valid email')\n",
    "    else:\n",
    "        if len(password) <= 0:                  #len here stand for lenght of character in password\n",
    "            print('Enter a valid password')\n",
    "        else:\n",
    "            print('Login Successful')"
   ]
  },
  {
   "cell_type": "markdown",
   "id": "beac7944-ae0b-46fa-a085-38d25f789265",
   "metadata": {},
   "source": [
    "Q7.Describe the different types of loops in Python and their use cases with examples?\n",
    "\n",
    "Ans:- A for loop in Python is a control flow statement that is used to repeatedly execute a group of statements as long as the condition is satisfied. Such a type of statement is also known as an iterative statement. There are 2 types of loops are there in python:-\n",
    "\n",
    "1.For Loop\n",
    "\n",
    "> Used to iterate over a sequence (like a list, tuple, string, or dictionary) or other iterable objects\n",
    " \n",
    "> The loop executes a specific number of times, determined by the length of the sequence\n",
    "\n",
    "2.While Loop\n",
    "\n",
    "> Used to execute a block of code repeatedly as long as a certain condition is true.\n",
    "\n",
    "> The loop continues to execute until the condition becomes false.\n",
    "\n",
    "These 2 loops works upon some Control Statements those are:-\n",
    "\n",
    ">break: Exits the loop prematurely.\n",
    "\n",
    ">continue: Skips the current iteration and moves to the next one."
   ]
  },
  {
   "cell_type": "code",
   "execution_count": 1,
   "id": "2fc91fbd-4c30-475e-befb-788476fb0a3a",
   "metadata": {},
   "outputs": [
    {
     "name": "stdout",
     "output_type": "stream",
     "text": [
      "1\n",
      "2\n",
      "3\n",
      "4\n"
     ]
    }
   ],
   "source": [
    "#Examples of code While loop using break and continue statements\n",
    "\n",
    "n=10\n",
    "i=1\n",
    "while i<=n:\n",
    "    print(i)\n",
    "    i=i+1\n",
    "    if i == 5:\n",
    "        break        # break statement break the loop\n",
    "else:\n",
    "    print('it is done')"
   ]
  },
  {
   "cell_type": "code",
   "execution_count": 2,
   "id": "4ca3996e-233d-496f-8037-46a2631e9f32",
   "metadata": {},
   "outputs": [
    {
     "name": "stdout",
     "output_type": "stream",
     "text": [
      "2\n",
      "4\n",
      "5\n",
      "6\n",
      "7\n",
      "it is done\n"
     ]
    }
   ],
   "source": [
    "n=7\n",
    "i=1\n",
    "while i < n:\n",
    "    i=i+1\n",
    "    if i == 3:\n",
    "        continue    # continue statement breaking the sequence\n",
    "    print(i)\n",
    "else:\n",
    "    print('it is done')"
   ]
  },
  {
   "cell_type": "code",
   "execution_count": 4,
   "id": "46f1e1e6-0e27-4822-aa30-471b17b87783",
   "metadata": {},
   "outputs": [
    {
     "name": "stdout",
     "output_type": "stream",
     "text": [
      "2\n",
      "3\n",
      "4\n"
     ]
    }
   ],
   "source": [
    "#Examples of code For loop using break and continue statements\n",
    "\n",
    "n=7\n",
    "i=1\n",
    "while i < n:\n",
    "    i=i+1\n",
    "    if i == 5:\n",
    "        break     # break statement break the loop\n",
    "    print(i)\n",
    "else:\n",
    "    print('it is done')"
   ]
  },
  {
   "cell_type": "code",
   "execution_count": 5,
   "id": "05979ee9-900a-401f-9d99-32b459ff69a8",
   "metadata": {},
   "outputs": [
    {
     "name": "stdout",
     "output_type": "stream",
     "text": [
      "2\n",
      "3\n",
      "4\n",
      "6\n",
      "7\n",
      "it is done\n"
     ]
    }
   ],
   "source": [
    "n=7\n",
    "i=1\n",
    "while i < n:\n",
    "    i=i+1\n",
    "    if i == 5:\n",
    "        continue       # continue statement breaking the sequence\n",
    "    print(i)\n",
    "else:\n",
    "    print('it is done')"
   ]
  },
  {
   "cell_type": "code",
   "execution_count": null,
   "id": "af6a82c1-8e32-4124-acac-504ece60dcb5",
   "metadata": {},
   "outputs": [],
   "source": []
  }
 ],
 "metadata": {
  "kernelspec": {
   "display_name": "Python 3 (ipykernel)",
   "language": "python",
   "name": "python3"
  },
  "language_info": {
   "codemirror_mode": {
    "name": "ipython",
    "version": 3
   },
   "file_extension": ".py",
   "mimetype": "text/x-python",
   "name": "python",
   "nbconvert_exporter": "python",
   "pygments_lexer": "ipython3",
   "version": "3.13.0"
  }
 },
 "nbformat": 4,
 "nbformat_minor": 5
}
