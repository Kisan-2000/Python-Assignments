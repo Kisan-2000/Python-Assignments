{
 "cells": [
  {
   "cell_type": "markdown",
   "id": "96ac4e57-4e36-443c-9ef5-01e2dc304fa3",
   "metadata": {},
   "source": [
    ">> Theory "
   ]
  },
  {
   "cell_type": "markdown",
   "id": "b9061602-9946-4beb-9dc9-5ea236960072",
   "metadata": {},
   "source": [
    "Q1. What is the difference between interpreted and compiled languages?\n",
    "\n",
    "Ans:- The detail explanation of Intepreted and Compiled language:-\n",
    ">>Interpreted Languages\n",
    "\n",
    "In interpreted languages, the code is not compiled into machine code beforehand. Instead, the code is interpreted line by line by an interpreter at runtime.\n",
    "\n",
    "Characteristics of Interpreted Languages\n",
    "\n",
    "- No compilation step is required before execution.\n",
    "- The interpreter translates the code into machine code line by line.\n",
    "- Errors are detected and reported during execution.\n",
    "- Interpreted languages are generally more flexible and dynamic.\n",
    "\n",
    "Examples of Interpreted Languages\n",
    "\n",
    "- Python\n",
    "- JavaScript (in web browsers)\n",
    "- Ruby\n",
    "- PHP\n",
    "\n",
    ">>Compiled Languages\n",
    "\n",
    "In compiled languages, the code is compiled into machine code beforehand, which can be executed directly by the computer's processor.\n",
    "\n",
    "Characteristics of Compiled Languages\n",
    "\n",
    "- A compilation step is required before execution.\n",
    "- The compiler translates the entire code into machine code at once.\n",
    "- Errors are detected and reported during compilation.\n",
    "- Compiled languages are generally faster and more efficient.\n",
    "\n",
    "Examples of Compiled Languages\n",
    "\n",
    "- C\n",
    "- C++\n",
    "- Java (compiles to bytecode, which is then executed by the JVM)\n",
    "- Fortran"
   ]
  },
  {
   "cell_type": "markdown",
   "id": "7a39f61a-7663-46eb-893b-b0eb00f5f49d",
   "metadata": {},
   "source": [
    "Q2. What is exception handling in Python?\n",
    "\n",
    "Ans:- Exception handling in Python is a mechanism to handle runtime errors or exceptions that occur during the execution of a program. It allows you to write code that can handle and recover from errors, rather than crashing or producing unexpected results.\n",
    " > Importance:\n",
    "\n",
    "1. Handle errors and exceptions in a controlled way\n",
    "2. Prevent your program from crashing or producing unexpected results\n",
    "3. Provide useful error messages to users\n",
    "4. Improve the overall reliability and robustness of your program\n",
    "\n",
    ">Basic Components of Exception Handling in Python:\n",
    "\n",
    "1. Try: This is the block of code where you put the code that might raise an exception.\n",
    "2. Except: This is the block of code that will be executed if an exception is raised in the try block.\n",
    "3. Raise: This is a statement that allows you to throw an exception if a certain condition occurs.\n",
    "4. Finally: This is an optional block of code that will be executed regardless of whether an exception was raised or not.\n",
    "\n",
    ">Types of Exceptions in Python\n",
    "\n",
    "1. Built-in Exceptions: These are exceptions that are built into the Python language, such as ZeroDivisionError, TypeError, ValueError, etc.\n",
    "2. User-defined Exceptions: These are exceptions that you can define yourself using the class keyword.\n",
    "\n",
    ">Best Practices for Exception Handling in Python\n",
    "\n",
    "1. Always use a try-except block to catch exceptions.\n",
    "2. Be specific when catching exceptions.\n",
    "3. Use the finally block to release resources.\n",
    "4. Avoid bare except clauses.\n",
    "5. Document your exceptions."
   ]
  },
  {
   "cell_type": "markdown",
   "id": "fc694a22-b640-4e59-a805-4b89b7145be5",
   "metadata": {},
   "source": [
    "Q3. What is the purpose of the finally block in exception handling?\n",
    "\n",
    "Ans:- The finally block in exception handling serves several purposes:\n",
    "\n",
    "Purpose of the Finally Block\n",
    "\n",
    "1. Resource Release: The finally block is used to release resources such as file handles, network connections, or database connections that were acquired in the try block. This ensures that these resources are released regardless of whether an exception was thrown or not.\n",
    "2. Cleanup Code: The finally block can be used to execute cleanup code that needs to be run regardless of whether an exception was thrown or not.\n",
    "3. Guaranteed Execution: The finally block is guaranteed to execute, even if an exception is thrown in the try block. This makes it a good place to put code that must run, such as releasing resources or logging information.\n",
    "4. Reducing Code Duplication: By putting code in the finally block, you can avoid duplicating code in multiple except blocks.\n"
   ]
  },
  {
   "cell_type": "markdown",
   "id": "96ab00e8-f128-434a-9365-190f76f59335",
   "metadata": {},
   "source": [
    "Q4.  What is logging in Python?\n",
    "\n",
    "Ans:- Logging in Python is a built-in module that allows you to record events that occur during the execution of your program. It provides a flexible and customizable way to log messages, errors, and other events, which can be useful for debugging, testing, and monitoring your program.\n",
    "\n",
    "Why Use Logging?\n",
    "\n",
    "1. Debugging: Logging helps you understand what's happening in your program, making it easier to identify and fix bugs.\n",
    "2. Error reporting: Logging allows you to record errors and exceptions, making it easier to diagnose and fix problems.\n",
    "3. Auditing: Logging provides a record of important events, such as user actions or system changes.\n",
    "4. Performance monitoring: Logging can help you monitor your program's performance, identifying bottlenecks and areas for optimization.\n",
    "\n",
    "Key Concepts in Python Logging\n",
    "\n",
    "1. Loggers: Loggers are objects that handle logging messages. You can create multiple loggers to handle different types of messages.\n",
    "2. Handlers: Handlers determine where log messages are sent, such as to a file, console, or network socket.\n",
    "3. Formatters: Formatters control the format of log messages, including the date, time, logger name, and message text.\n",
    "4. Levels: Levels determine the severity of log messages, ranging from DEBUG ( lowest) to CRITICAL (highest).\n"
   ]
  },
  {
   "cell_type": "markdown",
   "id": "1684d640-0784-490a-8b7f-91dc562a38ed",
   "metadata": {},
   "source": [
    "Q5. What is the significance of the __del__ method in Python?\n",
    "\n",
    "Ans:- The __del__ method in Python is a special method that is called when an object is about to be destroyed. This method is also known as a destructor.\n",
    "\n",
    ">_Significance of the __del__ method:_\n",
    "\n",
    "1. Resource deallocation: The __del__ method is used to deallocate resources such as file handles, network connections, or database connections that were acquired by the object.\n",
    "2. Cleanup code: The __del__ method can be used to execute cleanup code that needs to be run when an object is destroyed.\n",
    "3. Memory management: In Python, memory management is handled by the garbage collector. However, the __del__ method can be used to perform additional memory management tasks.\n",
    "\n",
    ">_When is the __del__ method called:_\n",
    "\n",
    "The __del__ method is called when an object is about to be destroyed, which can happen in the following situations:\n",
    "\n",
    "1. Garbage collection: When the garbage collector determines that an object is no longer reachable, it will call the __del__ method before destroying the object.\n",
    "2. Explicit deletion: When an object is explicitly deleted using the del statement, the __del__ method will be called.\n",
    "3. Program termination: When a Python program terminates, the __del__ method will be called for all objects that are still alive.\n"
   ]
  },
  {
   "cell_type": "markdown",
   "id": "5cb7bdbf-1ad8-4b5e-8e95-431df8543ad5",
   "metadata": {},
   "source": [
    "Q6.  What is the difference between import and from ... import in Python?\n",
    "\n",
    "Ans:- In Python, import and from ... import are two different ways to import modules or functions from other modules. Here's the difference:\n",
    "\n",
    ">Import\n",
    "\n",
    "The import statement imports an entire module and assigns it a name. For example:\n",
    "\n",
    "import math\n",
    "\n",
    "This imports the entire math module and assigns it the name math. You can then access the functions and variables in the math module using the dot notation, like this:\n",
    "\n",
    "print(math.pi)\n",
    "\n",
    "From ... Import\n",
    "\n",
    "The from ... import statement imports specific functions or variables from a module and assigns them a name in the current namespace. For example:\n",
    "\n",
    "from math import pi\n",
    "\n",
    "This imports only the pi constant from the math module and assigns it the name pi in the current namespace. You can then access the pi constant directly, without using the dot notation:\n",
    "\n",
    "print(pi)\n",
    "\n",
    "Key differences:\n",
    "\n",
    "- import imports an entire module, while from ... import imports specific functions or variables.\n",
    "- import assigns the module a name, while from ... import assigns the imported functions or variables a name in the current namespace.\n",
    "\n",
    "When to use each:\n",
    "\n",
    "- Use import when you need to access multiple functions or variables from a module.\n",
    "- Use from ... import when you only need to access a specific function or variable from a module.\n"
   ]
  },
  {
   "cell_type": "code",
   "execution_count": 5,
   "id": "188fe682-47e6-480c-99dd-600d15783b3d",
   "metadata": {},
   "outputs": [
    {
     "name": "stdout",
     "output_type": "stream",
     "text": [
      "3.141592653589793\n"
     ]
    }
   ],
   "source": [
    "import math\n",
    "print(math.pi)"
   ]
  },
  {
   "cell_type": "code",
   "execution_count": 6,
   "id": "e64dfd8c-e6c2-46d5-8617-3f4cbceaf6a8",
   "metadata": {},
   "outputs": [
    {
     "name": "stdout",
     "output_type": "stream",
     "text": [
      "3.141592653589793\n"
     ]
    }
   ],
   "source": [
    "from math import pi\n",
    "print(pi)"
   ]
  },
  {
   "cell_type": "markdown",
   "id": "2bb58b21-4fc5-4648-b765-89297badbcd8",
   "metadata": {},
   "source": [
    "Q7. How can you handle multiple exceptions in Python?\n",
    "\n",
    "Ans:- In Python, you can handle multiple exceptions using the following methods:\n",
    "\n",
    "Method 1: Using Multiple Except Blocks\n",
    "\n",
    "You can use multiple except blocks to handle different exceptions."
   ]
  },
  {
   "cell_type": "code",
   "execution_count": 10,
   "id": "80b447f2-5260-4ff9-81f5-2d8b33dcf513",
   "metadata": {},
   "outputs": [
    {
     "name": "stdout",
     "output_type": "stream",
     "text": [
      "Cannot divide by zero!\n"
     ]
    }
   ],
   "source": [
    "# Code that may raise exceptions\n",
    "try:          \n",
    "    x = 5 / 0\n",
    "except ZeroDivisionError:\n",
    "    print(\"Cannot divide by zero!\")\n",
    "except TypeError:\n",
    "    print(\"Invalid data type!\")\n",
    "except Exception as e:\n",
    "    print(\"An unexpected error occurred:\", e)"
   ]
  },
  {
   "cell_type": "markdown",
   "id": "1589eb8d-2ffe-4a41-9359-16994557b1a8",
   "metadata": {},
   "source": [
    "Method 2: Using a Single Except Block with Multiple Exceptions\n",
    "\n",
    "You can use a single except block to handle multiple exceptions by separating them with commas."
   ]
  },
  {
   "cell_type": "code",
   "execution_count": 11,
   "id": "ed63096f-3316-4d80-9124-1f91719c5bdf",
   "metadata": {},
   "outputs": [
    {
     "name": "stdout",
     "output_type": "stream",
     "text": [
      "An error occurred: division by zero\n"
     ]
    }
   ],
   "source": [
    "# Code that may raise exceptions\n",
    "try:\n",
    "    x = 5 / 0\n",
    "except (ZeroDivisionError, TypeError) as e:\n",
    "    print(\"An error occurred:\", e)"
   ]
  },
  {
   "cell_type": "markdown",
   "id": "8ea4cc67-6a36-41a7-b694-9ef1ad5255f6",
   "metadata": {},
   "source": [
    "Method 3: Using a Dictionary to Map Exceptions to Handlers\n",
    "\n",
    "You can use a dictionary to map exceptions to their respective handlers."
   ]
  },
  {
   "cell_type": "code",
   "execution_count": 12,
   "id": "b6919921-f980-49f0-9b80-524c266b1f3c",
   "metadata": {},
   "outputs": [
    {
     "name": "stdout",
     "output_type": "stream",
     "text": [
      "Cannot divide by zero!\n"
     ]
    }
   ],
   "source": [
    "# Code that may raise exceptions\n",
    "exception_handlers = {ZeroDivisionError: lambda e: print(\"Cannot divide by zero!\"),TypeError: lambda e: print(\"Invalid data type!\"),}\n",
    "try:\n",
    "    x = 5 / 0\n",
    "except Exception as e:\n",
    "    handler = exception_handlers.get(type(e))\n",
    "    if handler:\n",
    "        handler(e)\n",
    "    else:\n",
    "        print(\"An unexpected error occurred:\", e)"
   ]
  },
  {
   "cell_type": "markdown",
   "id": "42bd7ec0-9e22-4efd-b6fe-a62b7f6aa486",
   "metadata": {},
   "source": [
    "Method 4: Using a Base Exception Class\n",
    "\n",
    "You can create a base exception class and have your custom exceptions inherit from it. Then, you can catch the base exception class to handle all custom exceptions."
   ]
  },
  {
   "cell_type": "code",
   "execution_count": 13,
   "id": "013f6d38-a45d-4d14-aa92-c0c07492bb29",
   "metadata": {},
   "outputs": [
    {
     "name": "stdout",
     "output_type": "stream",
     "text": [
      "A custom exception occurred: \n"
     ]
    }
   ],
   "source": [
    " # Code that may raise exceptions\n",
    "class BaseException(Exception):\n",
    "    pass\n",
    "\n",
    "class CustomException1(BaseException):\n",
    "    pass\n",
    "\n",
    "class CustomException2(BaseException):\n",
    "    pass\n",
    "\n",
    "try:\n",
    "    raise CustomException1()\n",
    "except BaseException as e:\n",
    "    print(\"A custom exception occurred:\", e)"
   ]
  },
  {
   "cell_type": "markdown",
   "id": "75fd3c91-0cdb-47d9-ba6b-c4f7a6d984ba",
   "metadata": {},
   "source": [
    "Q8. What is the purpose of the with statement when handling files in Python?\n",
    "\n",
    "Ans:- The with statement in Python is used to manage resources, such as files, connections, or locks, that need to be cleaned up after use. When handling files, the with statement serves several purposes:\n",
    "\n",
    ">Ensures File Closure\n",
    "\n",
    "The with statement automatically closes the file when you're done with it, regardless of whether an exception is thrown or not. This prevents file descriptor leaks and ensures that the file is properly closed.\n",
    "\n",
    ">Handles Exceptions\n",
    "\n",
    "If an exception occurs within the with block, the file will still be properly closed, even if the exception is not caught.\n",
    "\n",
    ">Improves Code Readability\n",
    "\n",
    "The with statement makes your code more readable by clearly defining the scope of the file operation.\n",
    "\n",
    ">Reduces Boilerplate Code\n",
    "\n",
    "You don't need to write explicit code to close the file, which reduces boilerplate code and makes your code more concise.\n"
   ]
  },
  {
   "cell_type": "code",
   "execution_count": 15,
   "id": "0d6c000c-1b7b-4e55-a08a-80a30b6b079c",
   "metadata": {},
   "outputs": [
    {
     "name": "stdout",
     "output_type": "stream",
     "text": [
      "1.kisan\n",
      "2.bishal\n",
      "3.ram\n",
      "4.shubham\n",
      "5.shyam\n"
     ]
    }
   ],
   "source": [
    "#Example\n",
    "\n",
    "with open(\"my.txt\", \"r\") as file:\n",
    "    contents = file.read()\n",
    "    print(contents)\n"
   ]
  },
  {
   "cell_type": "markdown",
   "id": "3cda30d5-35d3-42ae-a654-9859b0a91bbb",
   "metadata": {},
   "source": [
    "Q9. What is the difference between multithreading and multiprocessing?\n",
    "\n",
    "Ans:- Multithreading and multiprocessing are two different approaches to achieve concurrency in programming. Here's a detailed comparison:\n",
    "\n",
    ">>Multithreading\n",
    "\n",
    ">Definition\n",
    "\n",
    "Multithreading is a technique where a single process creates multiple threads that share the same memory space.\n",
    "\n",
    ">Characteristics\n",
    "\n",
    "- Multiple threads share the same memory space.\n",
    "- Threads are lightweight and have a smaller overhead compared to processes.\n",
    "- Threads are executed concurrently, improving responsiveness and system utilization.\n",
    "- Communication between threads is easier due to shared memory.\n",
    "\n",
    ">Advantages\n",
    "\n",
    "- Improved responsiveness: Multithreading allows a program to respond to user input and events while performing time-consuming tasks in the background.\n",
    "- Efficient resource usage: Threads share the same memory space, reducing memory usage and overhead.\n",
    "\n",
    ">Disadvantages\n",
    "\n",
    "- Synchronization challenges: Shared memory can lead to synchronization issues, such as data corruption or deadlocks, if not managed properly.\n",
    "- Limited scalability: Multithreading may not fully utilize multi-core processors, as threads are executed within a single process.\n",
    "\n",
    ">>Multiprocessing\n",
    "\n",
    ">Definition\n",
    "\n",
    "Multiprocessing is a technique where a program creates multiple processes that execute concurrently.\n",
    "\n",
    ">Characteristics\n",
    "\n",
    "- Multiple processes have separate memory spaces.\n",
    "- Processes are heavier and have a larger overhead compared to threads.\n",
    "- Processes are executed concurrently, improving system utilization and scalability.\n",
    "- Communication between processes requires explicit inter-process communication (IPC) mechanisms.\n",
    "\n",
    ">Advantages\n",
    "\n",
    "- Scalability: Multiprocessing can fully utilize multi-core processors, improving overall system performance.\n",
    "- Fault tolerance: If one process crashes, it won't affect other processes.\n",
    "\n",
    ">Disadvantages\n",
    "\n",
    "- Higher overhead: Creating processes is more expensive than creating threads.\n",
    "- Communication complexity: IPC mechanisms can add complexity to the program.\n",
    "\n",
    ">Key differences\n",
    "\n",
    "- Memory sharing: Multithreading shares the same memory space, while multiprocessing uses separate memory spaces for each process.\n",
    "- Scalability: Multiprocessing can fully utilize multi-core processors, while multithreading may not.\n",
    "- Communication: Multithreading uses shared memory for communication, while multiprocessing requires explicit IPC mechanisms.\n",
    "\n",
    ">When to use each:\n",
    "\n",
    "- Multithreading: Suitable for I/O-bound tasks, such as GUI applications, network programming, or disk I/O.\n",
    "- Multiprocessing: Suitable for CPU-bound tasks, such as scientific computing, data processing, or machine learning."
   ]
  },
  {
   "cell_type": "markdown",
   "id": "b1686b34-b0a4-442c-867f-1f2cc6877e28",
   "metadata": {},
   "source": [
    "Q10. What are the advantages of using logging in a program?\n",
    "\n",
    "Ans:- Logging is a crucial aspect of software development, and it offers numerous advantages. Here are some of the benefits of using logging in a program:\n",
    "\n",
    ">Advantages of Logging\n",
    "\n",
    "1. Debugging and Troubleshooting\n",
    "\n",
    "Logging helps developers identify and diagnose issues in the program. By analyzing log messages, developers can understand the sequence of events leading up to an error, making it easier to debug and troubleshoot.\n",
    "\n",
    "2. Error Reporting and Notification\n",
    "\n",
    "Logging enables programs to report errors and exceptions in a structured and standardized way. This facilitates error notification, allowing developers to respond promptly to issues and minimize downtime.\n",
    "\n",
    "3. Performance Monitoring and Optimization\n",
    "\n",
    "Logging provides valuable insights into a program's performance, helping developers identify bottlenecks and areas for optimization. By analyzing log data, developers can optimize system resources, improve response times, and enhance overall performance.\n",
    "\n",
    "4. Security Auditing and Compliance\n",
    "\n",
    "Logging is essential for security auditing and compliance. By tracking user activities, system events, and security-related incidents, logging helps organizations demonstrate compliance with regulatory requirements and industry standards.\n",
    "\n",
    "5. Business Intelligence and Analytics\n",
    "\n",
    "Logging provides a wealth of data that can be used for business intelligence and analytics. By analyzing log data, organizations can gain insights into user behavior, system usage, and business trends, informing data-driven decisions and strategic planning.\n",
    "\n",
    "6. Improved Code Quality and Maintainability\n",
    "\n",
    "Logging promotes better coding practices and improves code maintainability. By incorporating logging into their code, developers can ensure that their programs are more robust, reliable, and maintainable.\n",
    "\n",
    "7. Enhanced User Experience\n",
    "\n",
    "Logging helps developers identify and address issues that impact user experience. By analyzing log data, developers can optimize system performance, improve responsiveness, and enhance overall user satisfaction.\n",
    "\n",
    "8. Reduced Downtime and Increased Uptime\n",
    "\n",
    "Logging enables developers to detect and respond to issues promptly, reducing downtime and increasing uptime. By minimizing the time spent on troubleshooting and debugging, logging helps organizations ensure higher system availability and reliability.\n",
    "\n",
    "9. Improved Collaboration and Communication\n",
    "\n",
    "Logging facilitates collaboration and communication among developers, operations teams, and stakeholders. By providing a shared understanding of system events and issues, logging helps teams work together more effectively to resolve problems and improve system performance.\n",
    "\n",
    "10. Regulatory Compliance and Auditability\n",
    "\n",
    "Logging helps organizations demonstrate compliance with regulatory requirements and industry standards. By maintaining a clear and accurate record of system events and activities, logging enables organizations to respond to audits and regulatory inquiries with confidence."
   ]
  },
  {
   "cell_type": "markdown",
   "id": "b1f4e50a-71f9-4a8e-b655-b149e3ba55a0",
   "metadata": {},
   "source": [
    "Q11. What is memory management in Python?\n",
    "\n",
    "Ans:- Memory management in Python refers to the process of managing the memory used by Python programs. Python uses a private heap to manage memory, and this heap is managed by the Python Memory Manager.\n",
    "\n",
    ">Key Concepts in Python Memory Management\n",
    "\n",
    "1. Memory Allocation: Python allocates memory for objects, such as integers, floats, strings, lists, dictionaries, and other data structures.\n",
    "2. Memory Deallocation: When an object is no longer needed, Python deallocates its memory.\n",
    "3. Garbage Collection: Python's garbage collector periodically frees memory occupied by objects that are no longer needed.\n",
    "4. Reference Counting: Python uses reference counting to manage memory. When an object's reference count reaches zero, it is deallocated.\n",
    "\n",
    ">How Python Manages Memory\n",
    "\n",
    "1. Object Creation: When an object is created, Python allocates memory for it.\n",
    "2. Reference Counting: Python maintains a reference count for each object. When an object is assigned to a variable, its reference count increases. When an object is no longer assigned to a variable, its reference count decreases.\n",
    "3. Garbage Collection: Python's garbage collector periodically runs to identify objects with a reference count of zero. These objects are deallocated, and their memory is freed.\n",
    "4. Memory Deallocation: When an object is deallocated, its memory is freed, and it is no longer accessible.\n",
    "\n",
    ">Benefits of Python's Memory Management\n",
    "\n",
    "1. Automatic Memory Management: Python's memory management is automatic, which means developers do not need to worry about manually allocating and deallocating memory.\n",
    "2. Reduced Memory Leaks: Python's garbage collector helps reduce memory leaks by identifying and deallocating objects that are no longer needed.\n",
    "3. Improved Code Quality: Python's memory management encourages developers to write better code, as they do not need to worry about manual memory management.\n",
    "\n",
    ">Common Issues with Python's Memory Management\n",
    "\n",
    "1. Memory Leaks: Although Python's garbage collector helps reduce memory leaks, they can still occur if objects are not properly deallocated.\n",
    "2. Circular References: Circular references can prevent objects from being deallocated, leading to memory leaks.\n",
    "3. Large Objects: Large objects can consume significant amounts of memory, leading to performance issues.\n",
    "\n",
    ">Best Practices for Python Memory Management\n",
    "\n",
    "1. Use Weak References: Use weak references to avoid circular references and prevent memory leaks.\n",
    "2. Avoid Global Variables: Avoid using global variables, as they can lead to memory leaks and make code harder to understand.\n",
    "3. Use Context Managers: Use context managers to ensure that resources, such as files and connections, are properly closed and deallocated.\n",
    "4. Monitor Memory Usage: Monitor memory usage to identify potential issues and optimize code for better performance."
   ]
  },
  {
   "cell_type": "markdown",
   "id": "e60790fd-3d15-4e34-ae96-dc7959a0ac2e",
   "metadata": {},
   "source": [
    "Q12.  What are the basic steps involved in exception handling in Python?\n",
    "\n",
    "Ans:- The basic steps involved in exception handling in Python are:\n",
    "\n",
    "Step 1: Try Block\n",
    "The try block contains the code that might raise an exception. This is where you put the code that you want to monitor for exceptions.\n",
    "\n",
    "Step 2: Except Block\n",
    "The except block contains the code that will be executed if an exception is raised in the try block. You can specify the type of exception you want to catch, or you can catch all exceptions using a bare except clause.\n",
    "\n",
    "Step 3: Raise Statement (Optional)\n",
    "If you want to manually raise an exception, you can use the raise statement. This is useful when you want to signal that something has gone wrong.\n",
    "\n",
    "Step 4: Finally Block (Optional)\n",
    "The finally block contains code that will be executed regardless of whether an exception was raised or not. This is useful for cleaning up resources, such as closing files or database connections.\n",
    "\n",
    "Step 5: Handle the Exception\n",
    "In the except block, you should handle the exception in a way that makes sense for your program. This might involve logging the error, displaying an error message to the user, or taking some other corrective action.\n"
   ]
  },
  {
   "cell_type": "code",
   "execution_count": 21,
   "id": "dc5c103b-9ae4-445a-a47e-0797e9bd9455",
   "metadata": {},
   "outputs": [
    {
     "name": "stdout",
     "output_type": "stream",
     "text": [
      "Error: Cannot divide by zero!\n",
      "Program execution completed.\n"
     ]
    }
   ],
   "source": [
    "#Example\n",
    "try:\n",
    "    x = 5 / 0\n",
    "except ZeroDivisionError:\n",
    "    print(\"Error: Cannot divide by zero!\")\n",
    "finally:\n",
    "    print(\"Program execution completed.\")"
   ]
  },
  {
   "cell_type": "markdown",
   "id": "04d98ef8-ed29-4813-bf59-9bc737f84457",
   "metadata": {},
   "source": [
    "Q13. Why is memory management important in Python?\n",
    "\n",
    "Ans:- Memory management is crucial in Python for several reasons:\n",
    "\n",
    ">Preventing Memory Leaks\n",
    "\n",
    "Python's garbage collector automatically frees memory occupied by objects that are no longer needed. However, memory leaks can still occur if objects are not properly released. Effective memory management helps prevent memory leaks.\n",
    "\n",
    ">Optimizing Performance\n",
    "\n",
    "Memory management plays a significant role in optimizing Python's performance. When memory is managed efficiently, Python can allocate and deallocate memory quickly, resulting in faster execution times.\n",
    "\n",
    ">Reducing Memory Usage\n",
    "\n",
    "Python's memory management helps reduce memory usage by identifying and freeing unused memory. This is particularly important when working with large datasets or memory-intensive applications.\n",
    "\n",
    ">Improving Code Quality\n",
    "\n",
    "Memory management is essential for writing high-quality, reliable, and maintainable code. By managing memory effectively, developers can avoid common issues like memory leaks, dangling pointers, and segmentation faults.\n",
    "\n",
    ">Enhancing Scalability\n",
    "\n",
    "Python's memory management enables developers to write scalable code that can handle large amounts of data and user traffic. By efficiently managing memory, developers can ensure their applications remain responsive and performant under heavy loads.\n",
    "\n",
    ">>Best Practices for Memory Management in Python\n",
    "\n",
    "1. *Use the del statement*: Manually delete objects when they are no longer needed to help the garbage collector.\n",
    "2. Avoid circular references: Circular references can prevent objects from being garbage collected.\n",
    "3. Use weak references: Weak references allow the garbage collector to collect objects even if they are still referenced.\n",
    "4. Monitor memory usage: Use tools like memory_profiler or line_profiler to monitor memory usage and identify areas for optimization.\n",
    "5. Optimize data structures: Choose data structures that use memory efficiently, such as arrays or dictionaries instead of lists."
   ]
  },
  {
   "cell_type": "markdown",
   "id": "5c1ca107-2d08-4f3e-8e0e-9dea0c19e82f",
   "metadata": {},
   "source": [
    "Q14. What is the role of try and except in exception handling?\n",
    "\n",
    "Ans:- In exception handling, try and except are two essential keywords that work together to handle exceptions in a program.\n",
    "\n",
    ">Role of Try:\n",
    "\n",
    "The try block is used to enclose the code that might raise an exception. This code is executed until an exception occurs. The try block is used to:\n",
    "\n",
    "1. Identify the code that might raise an exception.\n",
    "2. Enclose the code that needs to be monitored for exceptions.\n",
    "\n",
    ">Role of Except:\n",
    "\n",
    "The except block is used to handle the exception that occurs in the try block. This block is executed when an exception occurs in the try block. The except block is used to:\n",
    "\n",
    "1. Catch the exception that occurs in the try block.\n",
    "2. Handle the exception by executing the code in the except block.\n",
    "3. Provide a fallback or alternative action when an exception occurs.\n",
    "\n",
    "How Try and Except Work Together:"
   ]
  },
  {
   "cell_type": "code",
   "execution_count": 23,
   "id": "915340b3-a0ce-41de-80e2-0882192cef49",
   "metadata": {},
   "outputs": [
    {
     "name": "stdout",
     "output_type": "stream",
     "text": [
      "Error: Cannot divide by zero!\n"
     ]
    }
   ],
   "source": [
    "#Here's an example of how try and except work together:\n",
    "try:\n",
    "    x = 5 / 0\n",
    "except ZeroDivisionError:\n",
    "    print(\"Error: Cannot divide by zero!\")"
   ]
  },
  {
   "cell_type": "markdown",
   "id": "3e2b1aa4-fd1a-444f-8bd2-67dc433f9e19",
   "metadata": {},
   "source": [
    "Q15. How does Python's garbage collection system work?\n",
    "\n",
    "Ans:- Python's garbage collection system is a mechanism that automatically frees up memory occupied by objects that are no longer needed or referenced. Here's a high-level overview of how it works:\n",
    "\n",
    ">Generation-Based Garbage Collection\n",
    "\n",
    "Python's garbage collector uses a generation-based approach, which divides objects into three generations based on their lifetime:\n",
    "\n",
    "1. Generation 0: Newly created objects are placed in this generation. This generation is collected most frequently.\n",
    "2. Generation 1: Objects that survive a collection in Generation 0 are promoted to Generation 1. This generation is collected less frequently than Generation 0.\n",
    "3. Generation 2: Objects that survive a collection in Generation 1 are promoted to Generation 2. This generation is collected least frequently.\n",
    "\n",
    ">Garbage Collection Process\n",
    "\n",
    "Here's a step-by-step overview of the garbage collection process:\n",
    "\n",
    "1. Reference Counting: Python maintains a reference count for each object. When an object's reference count reaches zero, it is eligible for garbage collection.\n",
    "2. Mark Phase: The garbage collector identifies all reachable objects in the heap by starting from a set of root objects (e.g., global variables, stack variables). This is done by traversing the object graph and marking each reachable object.\n",
    "3. Sweep Phase: The garbage collector goes through the heap and identifies all unmarked objects (i.e., objects that are no longer reachable). These objects are then freed.\n",
    "4. Compact Phase: To avoid memory fragmentation, the garbage collector may compact the heap by moving all free memory blocks together.\n",
    "\n",
    ">Triggering Garbage Collection\n",
    "\n",
    "Garbage collection can be triggered in several ways:\n",
    "\n",
    "1. Manual Collection: You can manually trigger garbage collection using the gc.collect() function.\n",
    "2. Automatic Collection: Python's garbage collector runs periodically in the background to collect garbage.\n",
    "3. Memory Allocation: When the heap is full, Python's memory allocator will trigger garbage collection to free up memory.\n",
    "\n",
    ">Best Practices\n",
    "\n",
    "To optimize garbage collection:\n",
    "\n",
    "1. Minimize Object Creation: Reduce the number of objects created to minimize garbage collection overhead.\n",
    "2. Use Weak References: Use weak references to allow objects to be garbage collected even if they are still referenced.\n",
    "3. Avoid Circular References: Avoid circular references to prevent objects from being garbage collected."
   ]
  },
  {
   "cell_type": "markdown",
   "id": "2a020a10-bace-4f02-9bf1-92165236ff01",
   "metadata": {},
   "source": [
    "Q16.  What is the purpose of the else block in exception handling?\n",
    "\n",
    "Ans:- The else block in exception handling is used to specify a block of code that should be executed when no exception is raised in the try block. The else block is optional and is typically used to provide a normal execution path for the program when no exceptions occur.\n",
    "\n",
    "Purpose of the Else Block:\n",
    "\n",
    "1. Provide a Normal Execution Path: The else block provides a way to specify a normal execution path for the program when no exceptions occur.\n",
    "2. Separate Normal Code from Exception Handling Code: By using an else block, you can separate the normal code from the exception handling code, making your program more organized and easier to understand.\n",
    "3. Improve Code Readability: The else block can improve code readability by clearly indicating the normal execution path of the program."
   ]
  },
  {
   "cell_type": "code",
   "execution_count": 2,
   "id": "6349b8ec-beb7-4f72-bd04-8569d856f9d4",
   "metadata": {},
   "outputs": [
    {
     "name": "stdout",
     "output_type": "stream",
     "text": [
      "File not found.\n"
     ]
    }
   ],
   "source": [
    "#Example\n",
    "#When file is not present\n",
    "try:\n",
    "    file = open(\"m.txt\", \"r\")\n",
    "except FileNotFoundError:\n",
    "    print(\"File not found.\")\n",
    "else:\n",
    "    print(\"File found. Reading contents...\")\n",
    "    contents = file.read()\n",
    "    print(contents)\n",
    "    file.close()"
   ]
  },
  {
   "cell_type": "code",
   "execution_count": 4,
   "id": "2811250c-b045-4c12-a187-c779ae259a57",
   "metadata": {},
   "outputs": [
    {
     "name": "stdout",
     "output_type": "stream",
     "text": [
      "File found. Reading contents...\n",
      "1.kisan\n",
      "2.bishal\n",
      "3.ram\n",
      "4.shubham\n",
      "5.shyam\n"
     ]
    }
   ],
   "source": [
    "#When file is present\n",
    "try:\n",
    "    file = open(\"my.txt\", \"r\")\n",
    "except FileNotFoundError:\n",
    "    print(\"File not found.\")\n",
    "else:\n",
    "    print(\"File found. Reading contents...\")\n",
    "    contents = file.read()\n",
    "    print(contents)\n",
    "    file.close()"
   ]
  },
  {
   "cell_type": "markdown",
   "id": "9de1cb78-8ff1-4a48-bbec-6d917bd778c7",
   "metadata": {},
   "source": [
    "Q17. What are the common logging levels in Python?\n",
    "\n",
    "Ans:- In Python, the logging module provides several logging levels that can be used to categorize log messages based on their severity or importance. Here are the common logging levels in Python:\n",
    "\n",
    "1. DEBUG: This is the lowest level of logging. It is used for detailed, diagnostic information that is typically only useful for debugging purposes.\n",
    "\n",
    "2. INFO: This level is used for informational messages that are not critical but may be useful for understanding the normal operation of the program.\n",
    "\n",
    "3. WARNING: This level is used for warning messages that indicate a potential problem or unexpected condition.\n",
    "\n",
    "4. ERROR: This level is used for error messages that indicate a serious problem that prevents the program from functioning correctly.\n",
    "\n",
    "5. CRITICAL: This is the highest level of logging. It is used for critical error messages that indicate a catastrophic failure of the program."
   ]
  },
  {
   "cell_type": "markdown",
   "id": "197b8ace-2597-4fa0-967f-6bbf58b2ca1f",
   "metadata": {},
   "source": [
    "Q18. What is the difference between os.fork() and multiprocessing in Python?\n",
    "\n",
    "Ans:- os.fork() and multiprocessing are two different approaches to creating multiple processes in Python.\n",
    "\n",
    "`os.fork()`\n",
    "\n",
    "os.fork() is a low-level system call that creates a new process by duplicating the current process. The new process, also known as the child process, is a separate entity from the parent process. The child process has its own memory space, and changes made to variables in the child process do not affect the parent process.\n",
    "\n",
    "\n",
    "`multiprocessing` Module\n",
    "\n",
    "The multiprocessing module is a higher-level interface for creating multiple processes in Python. It provides a more convenient and Pythonic way of creating processes compared to os.fork().\n",
    "\n",
    "The multiprocessing module creates a new process by spawning a new Python interpreter, which executes the target function. This approach provides more flexibility and ease of use compared to os.fork().\n",
    "\n",
    ">Key Differences\n",
    "\n",
    "Here are the key differences between os.fork() and the multiprocessing module:\n",
    "\n",
    "1. Process Creation: os.fork() creates a new process by duplicating the current process, while the multiprocessing module creates a new process by spawning a new Python interpreter.\n",
    "2. Memory Sharing: os.fork() shares the same memory space between the parent and child processes, while the multiprocessing module provides separate memory spaces for each process.\n",
    "3. Ease of Use: The multiprocessing module provides a more convenient and Pythonic way of creating processes compared to os.fork().\n",
    "4. Platform Support: The multiprocessing module provides better support for Windows and other platforms compared to os.fork(), which is primarily designed for Unix-like systems.\n"
   ]
  },
  {
   "cell_type": "markdown",
   "id": "9bd25ba4-f769-42ae-a1e3-e7cfa9096def",
   "metadata": {},
   "source": [
    "Q19. What is the importance of closing a file in Python?\n",
    "\n",
    "Ans:- Closing a file in Python is crucial to ensure that the file is properly released from memory and that any buffered data is written to the file. Here are some reasons why closing a file is important:\n",
    "\n",
    "1. Resource Deallocation: When you open a file, Python allocates system resources, such as file descriptors, memory, and locks. Closing the file releases these resources, making them available for other tasks.\n",
    "\n",
    "2. Data Integrity: When you write data to a file, it is buffered in memory. If you don't close the file, the buffered data may not be written to the file, leading to data corruption or loss.\n",
    "\n",
    "3. File Locking: When you open a file, Python may acquire locks on the file to prevent other processes from accessing it simultaneously. Closing the file releases these locks, allowing other processes to access the file.\n",
    "\n",
    "4. Memory Management: Python's garbage collector may not immediately free the memory allocated for a file object when it goes out of scope. Closing the file explicitly ensures that the memory is released promptly.\n",
    "\n",
    "5. Best Practices: Closing files is a good programming practice, as it helps prevent resource leaks, ensures data integrity, and makes your code more robust and maintainable.\n",
    "\n",
    "To close a file in Python, you can use the close() method or the with statement, which automatically closes the file when you're done with it:\n"
   ]
  },
  {
   "cell_type": "code",
   "execution_count": 12,
   "id": "894c06c6-956a-423f-8dab-0c51da64418f",
   "metadata": {},
   "outputs": [
    {
     "ename": "_IncompleteInputError",
     "evalue": "incomplete input (361884763.py, line 9)",
     "output_type": "error",
     "traceback": [
      "\u001b[1;36m  Cell \u001b[1;32mIn[12], line 9\u001b[1;36m\u001b[0m\n\u001b[1;33m    # The file is automatically closed when you exit the with block\u001b[0m\n\u001b[1;37m                                                                   ^\u001b[0m\n\u001b[1;31m_IncompleteInputError\u001b[0m\u001b[1;31m:\u001b[0m incomplete input\n"
     ]
    }
   ],
   "source": [
    "# Using the close() method\n",
    "file = open(\"my.txt\", \"r\")\n",
    "# ... read or write to the file ...\n",
    "file.close()\n",
    "\n",
    "# Using the with statement\n",
    "with open(\"my.txt\", \"r\") as file:\n",
    "    # ... read or write to the file ..."
   ]
  },
  {
   "cell_type": "markdown",
   "id": "650d4c07-3fbd-4f44-b71c-6eff0fc21088",
   "metadata": {},
   "source": [
    "Q20. What is the difference between file.read() and file.readline() in Python?\n",
    "\n",
    "Ans:- In Python, file.read() and file.readline() are two methods used to read the contents of a file. The main difference between them lies in how they read the file and what they return.\n",
    "\n",
    "`file.read()`\n",
    "\n",
    "file.read() reads the entire contents of the file and returns it as a string. If the file is large, this can be memory-intensive. You can also specify the number of bytes to read by passing an argument to the read() method.\n",
    "\n",
    "`file.readline()`\n",
    "\n",
    "file.readline() reads a single line from the file and returns it as a string. The line includes the newline character (\\n) at the end, unless the line is the last one in the file and there is no newline character.\n",
    "\n",
    ">Here are some key differences:\n",
    "\n",
    "1. Reading Style: file.read() reads the entire file, while file.readline() reads one line at a time.\n",
    "2. Return Value: file.read() returns the entire file contents as a string, while file.readline() returns a single line as a string.\n",
    "3. Memory Usage: file.read() can be memory-intensive for large files, while file.readline() is more memory-efficient.\n",
    "4. Newline Character: file.readline() includes the newline character at the end of the line, while file.read() does not."
   ]
  },
  {
   "cell_type": "markdown",
   "id": "bfb3b1c6-2ddf-44ee-bf95-66f0aacacf9f",
   "metadata": {},
   "source": [
    "Q21. What is the logging module in Python used for?\n",
    "\n",
    "Ans:- The logging module in Python is a built-in module that allows you to log events in your program. It provides a flexible framework for logging messages at different levels of severity, which can be useful for debugging, testing, and monitoring your program.\n",
    "\n",
    ">What are the Benefits of Using the Logging Module:\n",
    "\n",
    "1. Flexibility: The logging module provides a flexible framework for logging messages at different levels of severity.\n",
    "2. Customizability: You can customize the logging module to suit your needs by creating custom loggers, handlers, and formatters.\n",
    "3. Thread-Safety: The logging module is thread-safe, which means you can use it safely in multi-threaded programs.\n",
    "4. Robustness: The logging module provides a robust framework for logging messages, which can help you diagnose and debug problems in your program.\n",
    "\n",
    "\n",
    ">What are the Basic Components of the Logging Module?\n",
    "\n",
    "1. Loggers: Loggers are objects that you use to log messages.\n",
    "2. Handlers: Handlers are objects that determine what happens to log messages after they are logged.\n",
    "3. Formatters: Formatters are objects that determine the format of log messages.\n",
    "\n",
    ">How Do You Use the Logging Module?\n",
    "\n",
    "1. Import the logging module: import logging\n",
    "2. Create a logger: logger = logging.getLogger(__name__)\n",
    "3. Set the logging level: logger.setLevel(logging.DEBUG)\n",
    "4. Create a handler: handler = logging.StreamHandler()\n",
    "5. Create a formatter: formatter = logging.Formatter('%(asctime)s - %(name)s - %(levelname)s - %(message)s')\n",
    "6. Add the formatter to the handler: handler.setFormatter(formatter)\n",
    "7. Add the handler to the logger: logger.addHandler(handler)\n",
    "8. Log messages: logger.debug('This is a debug message.')"
   ]
  },
  {
   "cell_type": "markdown",
   "id": "6dba02af-8c01-4369-815b-d6e315f4f0f0",
   "metadata": {},
   "source": [
    "Q22. What is the os module in Python used for in file handling?\n",
    "\n",
    "Ans:- The os module in Python provides a way to interact with the operating system and file system. It offers various functions for file handling, directory manipulation, and process management. Here are some common uses of the os module in file handling:\n",
    "\n",
    "File Operations\n",
    "\n",
    "1. *os.rename()*: Rename a file or directory.\n",
    "2. *os.remove()*: Delete a file.\n",
    "3. *os.mkdir()*: Create a new directory.\n",
    "4. *os.rmdir()*: Remove an empty directory.\n",
    "\n",
    "File Information\n",
    "\n",
    "1. *os.path.exists()*: Check if a file or directory exists.\n",
    "2. *os.path.isfile()*: Check if a path is a file.\n",
    "3. *os.path.isdir()*: Check if a path is a directory.\n",
    "4. *os.path.getsize()*: Get the size of a file.\n",
    "\n",
    "Directory Operations\n",
    "\n",
    "1. *os.chdir()*: Change the current working directory.\n",
    "2. *os.getcwd()*: Get the current working directory.\n",
    "3. *os.listdir()*: List the files and directories in a directory.\n",
    "\n",
    "Path Manipulation\n",
    "\n",
    "1. *os.path.join()*: Join multiple path components together.\n",
    "2. *os.path.split()*: Split a path into its components.\n",
    "3. *os.path.basename()*: Get the base name of a path.\n",
    "4. *os.path.dirname()*: Get the directory name of a path."
   ]
  },
  {
   "cell_type": "markdown",
   "id": "0dd9a82a-56d5-4b3e-93ad-a07ab343466c",
   "metadata": {},
   "source": [
    "Q23. What are the challenges associated with memory management in Python?\n",
    "\n",
    "Ans:- Python's memory management is primarily handled by its garbage collector, which automatically frees memory occupied by objects that are no longer needed or referenced. However, there are still some challenges associated with memory management in Python:\n",
    "\n",
    ">Memory Leaks\n",
    "\n",
    "1. Circular References: Python's garbage collector can struggle to detect circular references, leading to memory leaks.\n",
    "2. Global Variables: Global variables can hold references to objects, preventing them from being garbage collected.\n",
    "3. Closures: Closures can capture references to objects, leading to memory leaks.\n",
    "\n",
    ">Performance Overhead\n",
    "\n",
    "1. Garbage Collection Pauses: Python's garbage collector can introduce pauses in the program, affecting performance.\n",
    "2. Memory Fragmentation: Memory fragmentation can occur when objects are allocated and deallocated, leading to performance issues.\n",
    "\n",
    ">Limited Control\n",
    "\n",
    "1. Lack of Manual Memory Management: Python's garbage collector manages memory automatically, but this can limit the developer's control over memory management.\n",
    "2. Inability to Predict Garbage Collection: The timing of garbage collection is unpredictable, making it challenging to optimize performance-critical code.\n",
    "\n",
    ">Debugging Difficulties\n",
    "\n",
    "1. Identifying Memory Leaks: Debugging memory leaks can be challenging due to the lack of explicit memory management.\n",
    "2. Understanding Garbage Collection Behavior: The garbage collector's behavior can be complex, making it difficult to understand and optimize.\n",
    "\n",
    ">Optimization Challenges\n",
    "\n",
    "1. Minimizing Garbage Collection Overhead: Optimizing code to minimize garbage collection overhead can be challenging.\n",
    "2. Reducing Memory Allocation: Reducing memory allocation can help improve performance, but this can be difficult to achieve in Python.\n",
    "\n",
    ">To overcome these challenges, developers can use various techniques, such as:\n",
    "\n",
    "1. Using Weak References: Weak references can help avoid circular references and memory leaks.\n",
    "2. Implementing Cache Mechanisms: Cache mechanisms can help reduce memory allocation and garbage collection overhead.\n",
    "3. Optimizing Data Structures: Optimizing data structures can help reduce memory usage and improve performance.\n",
    "4. Using Profiling Tools: Profiling tools can help identify performance bottlenecks and memory leaks.\n",
    "5. Writing Efficient Code: Writing efficient code that minimizes memory allocation and garbage collection overhead can help improve performance."
   ]
  },
  {
   "cell_type": "markdown",
   "id": "d63aa251-0f3e-4a45-b7d0-1c0cbdc33609",
   "metadata": {},
   "source": [
    "Q24.  How do you raise an exception manually in Python?\n",
    "\n",
    "Ans:- In Python, you can raise an exception manually using the raise keyword. Here's the basic syntax:\n",
    "\n",
    "raise Exception(\"Error message\")\n",
    "\n",
    "You can replace Exception with any other exception type, such as ValueError, TypeError, RuntimeError, etc.\n",
    "\n",
    "Here are some examples:\n",
    "\n",
    "* Raise a generic Exception\n",
    "\n",
    "raise Exception(\"Something went wrong\")\n",
    "\n",
    "* Raise a ValueError\n",
    "\n",
    "raise ValueError(\"Invalid input value\")\n",
    "\n",
    "* Raise a TypeError\n",
    "  \n",
    "raise TypeError(\"Invalid input type\")\n",
    "\n",
    "* Raise a RuntimeError\n",
    "  \n",
    "raise RuntimeError(\"An error occurred during execution\")\n",
    "\n",
    "You can also raise an exception with additional information, such as:\n",
    "\n",
    "* Raise an exception with a custom error message\n",
    "  \n",
    "raise Exception(f\"Error occurred at line {__line__}: {error_message}\")\n",
    "\n",
    "* Raise an exception with a custom error code\n",
    "  \n",
    "raise Exception(f\"Error {error_code}: {error_message}\")\n"
   ]
  },
  {
   "cell_type": "markdown",
   "id": "8100b849-0e06-4260-8930-92c77fa12085",
   "metadata": {},
   "source": [
    "Q25. Why is it important to use multithreading in certain applications?\n",
    "\n",
    "Ans:- Multithreading is a programming technique that allows a program to execute multiple threads or flows of execution concurrently, improving the overall performance and responsiveness of the application. Here are some reasons why multithreading is important in certain applications:\n",
    "\n",
    ">Responsiveness\n",
    "\n",
    "Multithreading allows a program to perform time-consuming tasks in the background while maintaining a responsive user interface. This is particularly important in graphical user interface (GUI) applications, where a frozen interface can lead to a poor user experience.\n",
    "\n",
    ">Scalability\n",
    "\n",
    "Multithreading enables a program to take advantage of multi-core processors, which are common in modern computers. By executing multiple threads concurrently, a program can scale more easily to handle increasing workloads.\n",
    "\n",
    ">Improved System Utilization\n",
    "\n",
    "Multithreading can improve system utilization by allowing a program to perform other tasks while waiting for I/O operations to complete. This can lead to better system throughput and efficiency.\n",
    "\n",
    ">Enhanced Real-Time Performance\n",
    "\n",
    "Multithreading is essential in real-time systems, where predictable and fast responses to events are critical. By executing multiple threads concurrently, a program can respond quickly to events and maintain a high level of performance.\n",
    "\n",
    ">Better Error Handling\n",
    "\n",
    "Multithreading can improve error handling by allowing a program to recover from errors more easily. If one thread encounters an error, the program can continue executing other threads while handling the error.\n",
    "\n",
    ">>Use Cases\n",
    "\n",
    "Multithreading is particularly useful in applications that involve:\n",
    "\n",
    "1. I/O-bound operations: Multithreading can improve performance in applications that involve frequent I/O operations, such as reading or writing files, network communication, or database queries.\n",
    "2. CPU-bound operations: Multithreading can improve performance in applications that involve computationally intensive tasks, such as scientific simulations, data compression, or encryption.\n",
    "3. Real-time systems: Multithreading is essential in real-time systems, where predictable and fast responses to events are critical.\n",
    "4. GUI applications: Multithreading can improve responsiveness in GUI applications by performing time-consuming tasks in the background.\n"
   ]
  },
  {
   "cell_type": "markdown",
   "id": "0c83f862-869e-4156-a6d9-f4303b937ab2",
   "metadata": {},
   "source": [
    ">>Practical"
   ]
  },
  {
   "cell_type": "markdown",
   "id": "5ebbbde8-4e1f-45aa-946c-8c1524af3e36",
   "metadata": {},
   "source": [
    "Q1. How can you open a file for writing in Python and write a string to it?"
   ]
  },
  {
   "cell_type": "code",
   "execution_count": 36,
   "id": "098e9459-f1ad-48e7-985e-e05ce00def03",
   "metadata": {},
   "outputs": [],
   "source": [
    "#Ans:-\n",
    "\n",
    "#To open a file and write a string to it code is:-\n",
    "\n",
    "# Open the file in write mode ('w')\n",
    "file = open(\"my.txt\", \"w\")\n",
    "# Write a string to the file\n",
    "file.write(\"My name is kisan barnwal!\")\n",
    "# Close the file\n",
    "file.close()"
   ]
  },
  {
   "cell_type": "markdown",
   "id": "dc8206d5-ab80-4ad7-b46d-7de25ba9f6ef",
   "metadata": {},
   "source": [
    "Q2. Write a Python program to read the contents of a file and print each line?"
   ]
  },
  {
   "cell_type": "code",
   "execution_count": 26,
   "id": "3de019f8-81a2-481f-b616-833586c29f24",
   "metadata": {},
   "outputs": [
    {
     "name": "stdout",
     "output_type": "stream",
     "text": [
      "My name is kisan barnwal!\n",
      "1.kisan\n",
      "2.bishal\n",
      "3.abhimanyu\n",
      "4.ram\n",
      "5.krishna\n"
     ]
    }
   ],
   "source": [
    "#Ans:-\n",
    "def read_file(filename):\n",
    "    try:\n",
    "        with open(filename, 'r') as file:\n",
    "            for line in file:\n",
    "                print(line.strip())\n",
    "    except FileNotFoundError:\n",
    "        print(f\"Sorry, the file {filename} does not exist.\")\n",
    "\n",
    "read_file('my.txt')"
   ]
  },
  {
   "cell_type": "markdown",
   "id": "c626131e-a8c5-4fb3-bd95-8b6256589f78",
   "metadata": {},
   "source": [
    "Q3. How would you handle a case where the file doesn't exist while trying to open it for reading?\n",
    "\n",
    "Ans:- Here are a few ways to handle the case where the file doesn't exist while trying to open it for reading:\n",
    "\n",
    "1. Using a try-except block\n",
    "\n",
    "You can use a try-except block to catch the FileNotFoundError exception that is raised when you try to open a file that doesn't exist."
   ]
  },
  {
   "cell_type": "code",
   "execution_count": 27,
   "id": "952d4780-463c-44bd-b835-6d1594258d81",
   "metadata": {},
   "outputs": [
    {
     "name": "stdout",
     "output_type": "stream",
     "text": [
      "The file does not exist.\n"
     ]
    }
   ],
   "source": [
    "try:\n",
    "    with open('non_existent_file.txt', 'r') as file:\n",
    "        # Read the file\n",
    "        print(file.read())\n",
    "except FileNotFoundError:\n",
    "    print(\"The file does not exist.\")"
   ]
  },
  {
   "cell_type": "markdown",
   "id": "4a4f37a4-0bb7-416d-8394-47dff6b33af2",
   "metadata": {},
   "source": [
    "\n",
    "*2. Using the os.path.exists() function*\n",
    "\n",
    "You can use the os.path.exists() function to check if the file exists before trying to open it."
   ]
  },
  {
   "cell_type": "code",
   "execution_count": 28,
   "id": "3a6a3743-8224-4820-927d-c1859f17ae5c",
   "metadata": {},
   "outputs": [
    {
     "name": "stdout",
     "output_type": "stream",
     "text": [
      "The file does not exist.\n"
     ]
    }
   ],
   "source": [
    "import os\n",
    "\n",
    "filename = 'non_existent_file.txt'\n",
    "if os.path.exists(filename):\n",
    "    with open(filename, 'r') as file:\n",
    "        # Read the file\n",
    "        print(file.read())\n",
    "else:\n",
    "    print(\"The file does not exist.\")"
   ]
  },
  {
   "cell_type": "markdown",
   "id": "836c082f-a4bf-45ae-8c51-767e9bc6ab4f",
   "metadata": {},
   "source": [
    "*3. Using the pathlib module*\n",
    "\n",
    "You can use the pathlib module to check if the file exists before trying to open it."
   ]
  },
  {
   "cell_type": "code",
   "execution_count": 29,
   "id": "e4f8d077-3d4c-4156-ada6-44803a7c2519",
   "metadata": {},
   "outputs": [
    {
     "name": "stdout",
     "output_type": "stream",
     "text": [
      "The file does not exist.\n"
     ]
    }
   ],
   "source": [
    "import pathlib\n",
    "\n",
    "filename = pathlib.Path('non_existent_file.txt')\n",
    "if filename.exists():\n",
    "    with open(filename, 'r') as file:\n",
    "        # Read the file\n",
    "        print(file.read())\n",
    "else:\n",
    "    print(\"The file does not exist.\")"
   ]
  },
  {
   "cell_type": "markdown",
   "id": "3b346f6e-4437-4ae5-bb63-fc2dc43108f8",
   "metadata": {},
   "source": [
    "Q4. Write a Python script that reads from one file and writes its content to another file?"
   ]
  },
  {
   "cell_type": "code",
   "execution_count": 31,
   "id": "054e61ec-8fc7-4f70-b191-497094fe5525",
   "metadata": {},
   "outputs": [
    {
     "name": "stdout",
     "output_type": "stream",
     "text": [
      "Content copied from my.txt to destination.txt successfully.\n"
     ]
    }
   ],
   "source": [
    "#Ans:-\n",
    "def copy_file(source_filename, destination_filename):\n",
    "    try:\n",
    "        # Open the source file in read mode\n",
    "        with open(source_filename, 'r') as source_file:\n",
    "            # Open the destination file in write mode\n",
    "            with open(destination_filename, 'w') as destination_file:\n",
    "                # Read the content of the source file\n",
    "                content = source_file.read()\n",
    "                # Write the content to the destination file\n",
    "                destination_file.write(content)\n",
    "        print(f\"Content copied from {source_filename} to {destination_filename} successfully.\")\n",
    "    except FileNotFoundError:\n",
    "        print(f\"Sorry, the file {source_filename} does not exist.\")\n",
    "    except Exception as e:\n",
    "        print(f\"An error occurred: {e}\")\n",
    "        \n",
    "copy_file('my.txt', 'destination.txt')\n"
   ]
  },
  {
   "cell_type": "markdown",
   "id": "2cfd8b85-dbe0-4b80-bebd-05fab1c6e04c",
   "metadata": {},
   "source": [
    "Q5.  How would you catch and handle division by zero error in Python\n",
    "\n",
    "Ans:- In Python, you can catch and handle division by zero errors using a try-except block. Here's an example:"
   ]
  },
  {
   "cell_type": "code",
   "execution_count": 32,
   "id": "461c610c-d1e0-4234-b98f-bc17c11c65a4",
   "metadata": {},
   "outputs": [
    {
     "name": "stdout",
     "output_type": "stream",
     "text": [
      "20.0\n",
      "Error: Division by zero is not allowed.\n",
      "None\n"
     ]
    }
   ],
   "source": [
    "def divide(a, b):\n",
    "    try:\n",
    "        result = a / b\n",
    "        return result\n",
    "    except ZeroDivisionError:\n",
    "        print(\"Error: Division by zero is not allowed.\")\n",
    "        return None\n",
    "\n",
    "print(divide(240,12 ))\n",
    "print(divide(240, 0))"
   ]
  },
  {
   "cell_type": "markdown",
   "id": "5cf53fc7-23d9-4628-a144-9b5a09eb0474",
   "metadata": {},
   "source": [
    "Q6. Write a Python program that logs an error message to a log file when a division by zero exception occurs?"
   ]
  },
  {
   "cell_type": "code",
   "execution_count": 33,
   "id": "d3255996-47ba-47a0-88c5-ebf5c9e6958d",
   "metadata": {},
   "outputs": [
    {
     "name": "stderr",
     "output_type": "stream",
     "text": [
      "ERROR:__main__:Division by zero occurred.\n"
     ]
    },
    {
     "name": "stdout",
     "output_type": "stream",
     "text": [
      "20.0\n",
      "None\n"
     ]
    }
   ],
   "source": [
    "#Ans:-\n",
    "import logging\n",
    "\n",
    "# Create a logger\n",
    "logger = logging.getLogger(__name__)\n",
    "\n",
    "# Set the logging level\n",
    "logger.setLevel(logging.ERROR)\n",
    "\n",
    "# Create a file handler\n",
    "file_handler = logging.FileHandler('error.log')\n",
    "\n",
    "# Create a formatter and set it for the file handler\n",
    "formatter = logging.Formatter('%(asctime)s - %(name)s - %(levelname)s - %(message)s')\n",
    "file_handler.setFormatter(formatter)\n",
    "\n",
    "# Add the file handler to the logger\n",
    "logger.addHandler(file_handler)\n",
    "\n",
    "\n",
    "\n",
    "def divide(a, b):\n",
    "    try:\n",
    "        result = a / b\n",
    "        return result\n",
    "    except ZeroDivisionError:\n",
    "        logger.error(\"Division by zero occurred.\")\n",
    "        return None\n",
    "\n",
    "\n",
    "print(divide(240,12 ))\n",
    "print(divide(240, 0))"
   ]
  },
  {
   "cell_type": "markdown",
   "id": "f070ac25-f118-43ea-a22f-9a9b204904df",
   "metadata": {},
   "source": [
    "Q7.  How do you log information at different levels (INFO, ERROR, WARNING) in Python using the logging module?\n",
    "\n",
    "Ans:- In Python, you can log information at different levels (INFO, ERROR, WARNING) using the logging module. Here's an example:"
   ]
  },
  {
   "cell_type": "code",
   "execution_count": 34,
   "id": "cc14cf56-06b8-4bc8-8ef3-65e9d7668a6e",
   "metadata": {},
   "outputs": [
    {
     "name": "stderr",
     "output_type": "stream",
     "text": [
      "2024-12-08 15:52:55,846 - __main__ - DEBUG - This is a debug message.\n",
      "DEBUG:__main__:This is a debug message.\n",
      "2024-12-08 15:52:55,849 - __main__ - INFO - This is an info message.\n",
      "INFO:__main__:This is an info message.\n",
      "2024-12-08 15:52:55,854 - __main__ - WARNING - This is a warning message.\n",
      "WARNING:__main__:This is a warning message.\n",
      "2024-12-08 15:52:55,857 - __main__ - ERROR - This is an error message.\n",
      "ERROR:__main__:This is an error message.\n",
      "2024-12-08 15:52:55,860 - __main__ - CRITICAL - This is a critical message.\n",
      "CRITICAL:__main__:This is a critical message.\n"
     ]
    }
   ],
   "source": [
    "import logging\n",
    "\n",
    "# Create a logger\n",
    "logger = logging.getLogger(__name__)\n",
    "\n",
    "# Set the logging level\n",
    "logger.setLevel(logging.DEBUG)\n",
    "\n",
    "# Create a file handler\n",
    "file_handler = logging.FileHandler('log_file.log')\n",
    "\n",
    "# Create a console handler\n",
    "console_handler = logging.StreamHandler()\n",
    "\n",
    "# Create a formatter and set it for the handlers\n",
    "formatter = logging.Formatter('%(asctime)s - %(name)s - %(levelname)s - %(message)s')\n",
    "file_handler.setFormatter(formatter)\n",
    "console_handler.setFormatter(formatter)\n",
    "\n",
    "# Add the handlers to the logger\n",
    "logger.addHandler(file_handler)\n",
    "logger.addHandler(console_handler)\n",
    "\n",
    "# Log messages at different levels\n",
    "logger.debug('This is a debug message.')\n",
    "logger.info('This is an info message.')\n",
    "logger.warning('This is a warning message.')\n",
    "logger.error('This is an error message.')\n",
    "logger.critical('This is a critical message.')\n"
   ]
  },
  {
   "cell_type": "markdown",
   "id": "c12615d8-e32e-4fc0-a6cb-345cde58a9a4",
   "metadata": {},
   "source": [
    "The logging levels, in order of increasing severity, are:\n",
    "\n",
    "- DEBUG: Detailed information, typically of interest only when diagnosing problems.\n",
    "- INFO: Confirmation that things are working as expected.\n",
    "- WARNING: An indication that something unexpected happened, or indicative of some problem in the near future (e.g., ‘disk space low’). The software is still working as expected.\n",
    "- ERROR: Due to a more serious problem, the software has not been able to perform some function.\n",
    "- CRITICAL: A serious error, indicating that the program itself may be unable to continue running."
   ]
  },
  {
   "cell_type": "markdown",
   "id": "b06dffe5-3326-439b-b559-0886b68ed22a",
   "metadata": {},
   "source": [
    "Q8.  Write a program to handle a file opening error using exception handling?"
   ]
  },
  {
   "cell_type": "code",
   "execution_count": 35,
   "id": "18ce7039-2e2d-48e6-a86b-5894cd70892d",
   "metadata": {},
   "outputs": [
    {
     "name": "stdout",
     "output_type": "stream",
     "text": [
      "File opened successfully.\n",
      "Error: The file 'non_existent_file.txt' was not found.\n"
     ]
    }
   ],
   "source": [
    "#Ans:-\n",
    "def open_file(filename):\n",
    "    try:\n",
    "        # Attempt to open the file\n",
    "        file = open(filename, 'r')\n",
    "        print(\"File opened successfully.\")\n",
    "        file.close()\n",
    "    except FileNotFoundError:\n",
    "        print(f\"Error: The file '{filename}' was not found.\")\n",
    "    except PermissionError:\n",
    "        print(f\"Error: You do not have permission to access the file '{filename}'.\")\n",
    "    except OSError as e:\n",
    "        print(f\"Error: An error occurred while trying to open the file '{filename}': {e}\")\n",
    "\n",
    "open_file('my.txt')\n",
    "open_file('non_existent_file.txt')\n"
   ]
  },
  {
   "cell_type": "markdown",
   "id": "45abe128-7757-44d5-b0ab-043ec64a089b",
   "metadata": {},
   "source": [
    "Q9. F How can you read a file line by line and store its content in a list in Python?\n",
    "\n",
    "Ans:- Here are a few ways to read a file line by line and store its content in a list in Python:\n",
    "\n",
    ">Method 1: Using a list comprehension"
   ]
  },
  {
   "cell_type": "code",
   "execution_count": 37,
   "id": "0e23bc44-d5f8-4c76-b7d1-ee147e416245",
   "metadata": {},
   "outputs": [
    {
     "name": "stdout",
     "output_type": "stream",
     "text": [
      "['My name is kisan barnwal!', '1.kisan', '2.bishal', '3.abhimanyu', '4.ram', '5.krishna']\n"
     ]
    }
   ],
   "source": [
    "def read_file(filename):\n",
    "    try:\n",
    "        with open(filename, 'r') as file:\n",
    "            content = [line.strip() for line in file]\n",
    "        return content\n",
    "    except FileNotFoundError:\n",
    "        print(f\"Sorry, the file {filename} does not exist.\")\n",
    "        return []\n",
    "\n",
    "filename = 'destination.txt'\n",
    "content = read_file(filename)\n",
    "print(content)"
   ]
  },
  {
   "cell_type": "markdown",
   "id": "ce0d550c-0625-4960-ad89-b053c3721f5b",
   "metadata": {},
   "source": [
    ">Method 2: Using a for loop"
   ]
  },
  {
   "cell_type": "code",
   "execution_count": 38,
   "id": "7ea9a22f-c60f-420e-bbb5-a37c9bce6f30",
   "metadata": {},
   "outputs": [
    {
     "name": "stdout",
     "output_type": "stream",
     "text": [
      "['My name is kisan barnwal!', '1.kisan', '2.bishal', '3.abhimanyu', '4.ram', '5.krishna']\n"
     ]
    }
   ],
   "source": [
    "def read_file(filename):\n",
    "    try:\n",
    "        content = []\n",
    "        with open(filename, 'r') as file:\n",
    "            for line in file:\n",
    "                content.append(line.strip())\n",
    "        return content\n",
    "    except FileNotFoundError:\n",
    "        print(f\"Sorry, the file {filename} does not exist.\")\n",
    "        return []\n",
    "\n",
    "filename = 'destination.txt'\n",
    "content = read_file(filename)\n",
    "print(content)"
   ]
  },
  {
   "cell_type": "markdown",
   "id": "c8383524-a392-46c4-a5fb-1e8b03cedcc6",
   "metadata": {},
   "source": [
    ">Method 3: Using the readlines() method"
   ]
  },
  {
   "cell_type": "code",
   "execution_count": 39,
   "id": "5d63b471-7c51-4b05-865f-5bed30c35e84",
   "metadata": {},
   "outputs": [
    {
     "name": "stdout",
     "output_type": "stream",
     "text": [
      "['My name is kisan barnwal!', '1.kisan', '2.bishal', '3.abhimanyu', '4.ram', '5.krishna']\n"
     ]
    }
   ],
   "source": [
    "\n",
    "def read_file(filename):\n",
    "    try:\n",
    "        with open(filename, 'r') as file:\n",
    "            content = [line.strip() for line in file.readlines()]\n",
    "        return content\n",
    "    except FileNotFoundError:\n",
    "        print(f\"Sorry, the file {filename} does not exist.\")\n",
    "        return []\n",
    "\n",
    "filename = 'destination.txt'\n",
    "content = read_file(filename)\n",
    "print(content)"
   ]
  },
  {
   "cell_type": "markdown",
   "id": "760ce487-49cb-406d-9ca5-2f8742dd8f37",
   "metadata": {},
   "source": [
    "Q10. How can you append data to an existing file in Python?\n",
    "\n",
    "Ans:- You can append data to an existing file in Python by opening the file in append mode ('a') instead of write mode ('w'). Here's an example:"
   ]
  },
  {
   "cell_type": "code",
   "execution_count": 46,
   "id": "80c38f21-c48a-4b48-96b1-48c61ae4a7bf",
   "metadata": {},
   "outputs": [
    {
     "name": "stdout",
     "output_type": "stream",
     "text": [
      "Data appended to destination.txt successfully.\n"
     ]
    }
   ],
   "source": [
    "def append_to_file(filename, data):\n",
    "    try:\n",
    "        with open(filename, 'a') as file:\n",
    "            file.write(data + '\\n')\n",
    "        print(f\"Data appended to {filename} successfully.\")\n",
    "    except Exception as e:\n",
    "        print(f\"An error occurred: {e}\")\n",
    "\n",
    "\n",
    "filename = 'destination.txt'\n",
    "data = '/nkisan kumar barnwal'\n",
    "append_to_file(filename, data)\n"
   ]
  },
  {
   "cell_type": "markdown",
   "id": "f67e191d-e4f6-4a2f-a1d9-082d1450c568",
   "metadata": {},
   "source": [
    "Q11. Write a Python program that uses a try-except block to handle an error when attempting to access a dictionary key that doesn't exist?"
   ]
  },
  {
   "cell_type": "code",
   "execution_count": 42,
   "id": "a6b6e30b-b21b-43cd-9460-c2bf91bb0483",
   "metadata": {},
   "outputs": [
    {
     "name": "stdout",
     "output_type": "stream",
     "text": [
      "The value of 'name' is: John Doe\n",
      "Error: The key 'country' does not exist in the dictionary.\n"
     ]
    }
   ],
   "source": [
    "#Ans:-\n",
    "def access_dictionary_key(dictionary, key):\n",
    "    try:\n",
    "        value = dictionary[key]\n",
    "        print(f\"The value of '{key}' is: {value}\")\n",
    "    except KeyError:\n",
    "        print(f\"Error: The key '{key}' does not exist in the dictionary.\")\n",
    "\n",
    "person = {'name': 'John Doe','age': 30,'city': 'New York'}\n",
    "\n",
    "access_dictionary_key(person, 'name')\n",
    "access_dictionary_key(person, 'country')"
   ]
  },
  {
   "cell_type": "markdown",
   "id": "cad752e0-db27-4d3a-821e-4bb62e440797",
   "metadata": {},
   "source": [
    "Q12. Write a program that demonstrates using multiple except blocks to handle different types of exceptions?"
   ]
  },
  {
   "cell_type": "code",
   "execution_count": 43,
   "id": "d5d8962e-918f-4c28-9b61-b3b422918867",
   "metadata": {},
   "outputs": [
    {
     "name": "stdout",
     "output_type": "stream",
     "text": [
      "The result is: 12.0\n",
      "Error: Division by zero is not allowed.\n",
      "Error: Both inputs must be numbers.\n"
     ]
    }
   ],
   "source": [
    "#Ans:-\n",
    "\n",
    "def divide_numbers(num1, num2):\n",
    "    try:\n",
    "        result = num1 / num2\n",
    "        print(f\"The result is: {result}\")\n",
    "    except ZeroDivisionError:\n",
    "        print(\"Error: Division by zero is not allowed.\")\n",
    "    except TypeError:\n",
    "        print(\"Error: Both inputs must be numbers.\")\n",
    "    except Exception as e:\n",
    "        print(f\"An unexpected error occurred: {e}\")\n",
    "\n",
    "divide_numbers(24, 2) \n",
    "divide_numbers(11, 0)  \n",
    "divide_numbers(10, 'a')"
   ]
  },
  {
   "cell_type": "markdown",
   "id": "795ae9f5-9872-4104-9aa9-bdec3a9309b3",
   "metadata": {},
   "source": [
    "Q13. How would you check if a file exists before attempting to read it in Python?\n",
    "\n",
    "Ans:- You can check if a file exists before attempting to read it in Python using the os.path.exists() function or the pathlib module. Here are some examples:\n",
    "\n",
    ">Using os.path.exists():"
   ]
  },
  {
   "cell_type": "code",
   "execution_count": 48,
   "id": "06e53b48-911c-4d04-a1c1-3a3cb0e817d6",
   "metadata": {},
   "outputs": [
    {
     "name": "stdout",
     "output_type": "stream",
     "text": [
      "The file 'my.txt' exists.\n",
      "My name is kisan barnwal!\n"
     ]
    }
   ],
   "source": [
    "import os\n",
    "\n",
    "def check_file_exists(filename):\n",
    "    if os.path.exists(filename):\n",
    "        print(f\"The file '{filename}' exists.\")\n",
    "        return True\n",
    "    else:\n",
    "        print(f\"The file '{filename}' does not exist.\")\n",
    "        return False\n",
    "\n",
    "filename = 'my.txt'\n",
    "if check_file_exists(filename):\n",
    "    with open(filename, 'r') as file:\n",
    "        print(file.read())\n"
   ]
  },
  {
   "cell_type": "markdown",
   "id": "89db6c28-9eca-40a8-9913-8827802ff683",
   "metadata": {},
   "source": [
    ">Using pathlib:"
   ]
  },
  {
   "cell_type": "code",
   "execution_count": 49,
   "id": "a6931153-dddd-4ee4-ba59-ced495b213b8",
   "metadata": {},
   "outputs": [
    {
     "name": "stdout",
     "output_type": "stream",
     "text": [
      "The file 'my.txt' exists.\n",
      "My name is kisan barnwal!\n"
     ]
    }
   ],
   "source": [
    "\n",
    "import pathlib\n",
    "\n",
    "def check_file_exists(filename):\n",
    "    file_path = pathlib.Path(filename)\n",
    "    if file_path.exists():\n",
    "        print(f\"The file '{filename}' exists.\")\n",
    "        return True\n",
    "    else:\n",
    "        print(f\"The file '{filename}' does not exist.\")\n",
    "        return False\n",
    "\n",
    "\n",
    "filename = 'my.txt'\n",
    "if check_file_exists(filename):\n",
    "    with open(filename, 'r') as file:\n",
    "        print(file.read())"
   ]
  },
  {
   "cell_type": "markdown",
   "id": "3e9f444a-068a-4c4a-9c00-9d3c1f9ec5be",
   "metadata": {},
   "source": [
    ">Using a try-except block:"
   ]
  },
  {
   "cell_type": "code",
   "execution_count": 50,
   "id": "33c32952-e41d-4bfd-8638-a207473ffcd9",
   "metadata": {},
   "outputs": [
    {
     "name": "stdout",
     "output_type": "stream",
     "text": [
      "My name is kisan barnwal!\n"
     ]
    }
   ],
   "source": [
    "\n",
    "def read_file(filename):\n",
    "    try:\n",
    "        with open(filename, 'r') as file:\n",
    "            print(file.read())\n",
    "    except FileNotFoundError:\n",
    "        print(f\"The file '{filename}' does not exist.\")\n",
    "\n",
    "\n",
    "filename = 'my.txt'\n",
    "read_file(filename)\n"
   ]
  },
  {
   "cell_type": "markdown",
   "id": "545a4250-e11a-4de5-8bf3-69b4bb2f15b3",
   "metadata": {},
   "source": [
    "Q14. Write a program that uses the logging module to log both informational and error messages?"
   ]
  },
  {
   "cell_type": "code",
   "execution_count": 51,
   "id": "8566d4d4-e8b8-4e7e-8927-320749b65b43",
   "metadata": {},
   "outputs": [
    {
     "name": "stderr",
     "output_type": "stream",
     "text": [
      "2024-12-08 16:17:25,055 - __main__ - INFO - Successfully divided 26 by 2. The result is 13.0.\n",
      "2024-12-08 16:17:25,055 - __main__ - INFO - Successfully divided 26 by 2. The result is 13.0.\n",
      "INFO:__main__:Successfully divided 26 by 2. The result is 13.0.\n",
      "2024-12-08 16:17:25,061 - __main__ - ERROR - Error: Division by zero is not allowed.\n",
      "2024-12-08 16:17:25,061 - __main__ - ERROR - Error: Division by zero is not allowed.\n",
      "ERROR:__main__:Error: Division by zero is not allowed.\n"
     ]
    }
   ],
   "source": [
    "#Ans:-\n",
    "import logging\n",
    "logger = logging.getLogger(__name__)\n",
    "\n",
    "logger.setLevel(logging.INFO)\n",
    "\n",
    "file_handler = logging.FileHandler('log_file.log')\n",
    "console_handler = logging.StreamHandler()\n",
    "\n",
    "formatter = logging.Formatter('%(asctime)s - %(name)s - %(levelname)s - %(message)s')\n",
    "file_handler.setFormatter(formatter)\n",
    "console_handler.setFormatter(formatter)\n",
    "\n",
    "logger.addHandler(file_handler)\n",
    "logger.addHandler(console_handler)\n",
    "\n",
    "\n",
    "\n",
    "def divide_numbers(num1, num2):\n",
    "    try:\n",
    "        result = num1 / num2\n",
    "        logger.info(f\"Successfully divided {num1} by {num2}. The result is {result}.\")\n",
    "    except ZeroDivisionError:\n",
    "        logger.error(\"Error: Division by zero is not allowed.\")\n",
    "\n",
    "divide_numbers(26,2)\n",
    "divide_numbers(24,0)"
   ]
  },
  {
   "cell_type": "markdown",
   "id": "9dfc1824-e319-4884-84a1-7eabdd22f80d",
   "metadata": {},
   "source": [
    "Q15. Write a Python program that prints the content of a file and handles the case when the file is empty?"
   ]
  },
  {
   "cell_type": "code",
   "execution_count": 52,
   "id": "d1bd20da-9c6b-45a8-b8d2-d70e21f9893b",
   "metadata": {},
   "outputs": [
    {
     "name": "stdout",
     "output_type": "stream",
     "text": [
      "Content of 'my.txt':\n",
      "My name is kisan barnwal!\n"
     ]
    }
   ],
   "source": [
    "#Ans:-\n",
    "\n",
    "def print_file_content(filename):\n",
    "    try:\n",
    "        with open(filename, 'r') as file:\n",
    "            content = file.read()\n",
    "            if content.strip() == \"\":\n",
    "                print(f\"The file '{filename}' is empty.\")\n",
    "            else:\n",
    "                print(f\"Content of '{filename}':\\n{content}\")\n",
    "    except FileNotFoundError:\n",
    "        print(f\"Error: The file '{filename}' does not exist.\")\n",
    "    except Exception as e:\n",
    "        print(f\"An error occurred: {e}\")\n",
    "\n",
    "filename = 'my.txt'\n",
    "print_file_content(filename)"
   ]
  },
  {
   "cell_type": "markdown",
   "id": "ad07a93b-5f9d-474d-8d0f-be9c04206cb7",
   "metadata": {},
   "source": [
    "Q16. Demonstrate how to use memory profiling to check the memory usage of a small program?\n",
    "\n",
    "Ans:- Here's a demonstration of how to use memory profiling to check the memory usage of a small program using the memory_profiler module in Python:\n",
    "\n",
    "First, you need to install the memory_profiler module using pip:\n",
    "\n",
    "bash\n",
    "pip install memory_profiler\n",
    "\n",
    "\n",
    "Next, let's create a small program that we want to profile:\n",
    "\n",
    "\n",
    "# (link unavailable)\n",
    "import time"
   ]
  },
  {
   "cell_type": "code",
   "execution_count": null,
   "id": "c2e3f9fd-b022-45d4-bd96-21620550ca2b",
   "metadata": {},
   "outputs": [],
   "source": [
    "def memory_intensive_function():\n",
    "    large_list = [i for i in range(1000000)]\n",
    "    time.sleep(1)  # Simulate some work\n",
    "    return large_list\n",
    "\n",
    "def main():\n",
    "    large_list = memory_intensive_function()\n",
    "    print(\"Memory intensive function completed\")\n",
    "\n",
    "if __name__ == \"__main__\":\n",
    "    main()"
   ]
  },
  {
   "cell_type": "markdown",
   "id": "ca139e12-3b52-4d3c-a9a9-688ed89d6208",
   "metadata": {},
   "source": [
    "Now, let's use the memory_profiler module to profile the memory usage of our program:\n",
    "\n",
    "bash\n",
    "mprof run python (link unavailable)\n",
    "\n",
    "This will run our program and collect memory usage data. Once the program completes, you can view the memory usage data using:\n",
    "\n",
    "bash\n",
    "mprof plot\n",
    "\n",
    "This will generate a plot showing the memory usage of our program over time"
   ]
  },
  {
   "cell_type": "markdown",
   "id": "b60ff2cf-6a6a-4994-b2b5-5ca6375235cd",
   "metadata": {},
   "source": [
    "Q17. Write a Python program to create and write a list of numbers to a file, one number per line?\n",
    "\n",
    "Ans:- Here's a Python program that creates a list of numbers and writes them to a file, one number per line:"
   ]
  },
  {
   "cell_type": "code",
   "execution_count": 9,
   "id": "565d46b1-7c4b-4349-9139-ca64c8c04937",
   "metadata": {},
   "outputs": [
    {
     "name": "stdout",
     "output_type": "stream",
     "text": [
      "Numbers written to numbers.txt successfully.\n"
     ]
    }
   ],
   "source": [
    "def write_numbers_to_file(filename, numbers):\n",
    "    try:\n",
    "        with open(filename, 'w') as file:\n",
    "            for number in numbers:\n",
    "                file.write(str(number) + '\\n')\n",
    "        print(f\"Numbers written to {filename} successfully.\")\n",
    "    except Exception as e:\n",
    "        print(f\"An error occurred: {e}\")\n",
    "\n",
    "# Create a list of numbers\n",
    "numbers = list(range(1, 11))  # Numbers from 1 to 10\n",
    "\n",
    "# Specify the filename\n",
    "filename = 'numbers.txt'\n",
    "\n",
    "# Write the numbers to the file\n",
    "write_numbers_to_file(filename, numbers)"
   ]
  },
  {
   "cell_type": "markdown",
   "id": "72201bd9-35e4-468b-b248-f344eace1a85",
   "metadata": {},
   "source": [
    "Q18. How would you implement a basic logging setup that logs to a file with rotation after 1MB?\n",
    "\n",
    "Ans:- To implement a basic logging setup that logs to a file with rotation after 1MB, you can use the logging module in Python along with the RotatingFileHandler class. Here's an example:"
   ]
  },
  {
   "cell_type": "code",
   "execution_count": 12,
   "id": "fbd0f187-e44c-4b2f-9443-65d264d20093",
   "metadata": {},
   "outputs": [],
   "source": [
    "import logging\n",
    "from logging.handlers import RotatingFileHandler\n",
    "\n",
    "# Create a logger\n",
    "logger = logging.getLogger(__name__)\n",
    "logger.setLevel(logging.INFO)\n",
    "\n",
    "# Create a rotating file handler\n",
    "handler = RotatingFileHandler('log_file.log', maxBytes=1024*1024, backupCount=5)\n",
    "handler.setLevel(logging.INFO)\n",
    "\n",
    "# Create a formatter and set it for the handler\n",
    "formatter = logging.Formatter('%(asctime)s - %(name)s - %(levelname)s - %(message)s')\n",
    "handler.setFormatter(formatter)\n",
    "\n",
    "# Add the handler to the logger\n",
    "logger.addHandler(handler)\n",
    "\n",
    "# Log some messages\n",
    "logger.info('This is an info message.')\n",
    "logger.warning('This is a warning message.')\n",
    "logger.error('This is an error message.')\n",
    "logger.critical('This is a critical message.')"
   ]
  },
  {
   "cell_type": "markdown",
   "id": "63acdd6f-2aed-49bc-96c1-423ac99bbec7",
   "metadata": {},
   "source": [
    "Here's how the code works:\n",
    "\n",
    "1. We import the logging module and the RotatingFileHandler class from the logging.handlers module.\n",
    "2. We create a logger using logging.getLogger(__name__).\n",
    "3. We set the logging level to INFO using logger.setLevel(logging.INFO).\n",
    "4. We create a rotating file handler using RotatingFileHandler.\n",
    "    - We specify the filename as 'log_file.log'.\n",
    "    - We set the maximum file size to 1MB using maxBytes=1024*1024.\n",
    "    - We set the backup count to 5 using backupCount=5.\n",
    "5. We create a formatter using logging.Formatter and set it for the handler using handler.setFormatter(formatter).\n",
    "6. We add the handler to the logger using logger.addHandler(handler).\n",
    "7. We log some messages using the logger.\n",
    "\n",
    "With this setup, the logger will write log messages to a file named 'log_file.log'. When the file reaches 1MB in size, it will be rotated and a new file will be created. Up to 5 backup files will be kept."
   ]
  },
  {
   "cell_type": "markdown",
   "id": "530978ab-91d5-41c6-bcb5-cc244665a7f7",
   "metadata": {},
   "source": [
    "Q19. Write a program that handles both IndexError and KeyError using a try-except block?"
   ]
  },
  {
   "cell_type": "code",
   "execution_count": 13,
   "id": "38525384-0bca-445c-8d08-a35fee14a4a6",
   "metadata": {},
   "outputs": [
    {
     "name": "stdout",
     "output_type": "stream",
     "text": [
      "The value at index 0 and key 'name' is: John\n",
      "Error: Index 2 is out of range.\n",
      "Error: Key 'city' does not exist.\n"
     ]
    }
   ],
   "source": [
    "#Ans:-\n",
    "\n",
    "def access_data(data, index, key):\n",
    "    try:\n",
    "        # Attempt to access the data using the index and key\n",
    "        value = data[index][key]\n",
    "        print(f\"The value at index {index} and key '{key}' is: {value}\")\n",
    "    except IndexError:\n",
    "        print(f\"Error: Index {index} is out of range.\")\n",
    "    except KeyError:\n",
    "        print(f\"Error: Key '{key}' does not exist.\")\n",
    "    except Exception as e:\n",
    "        print(f\"An unexpected error occurred: {e}\")\n",
    "\n",
    "\n",
    "data = [{'name': 'John', 'age': 30},{'name': 'Jane', 'age': 25}]\n",
    "\n",
    "\n",
    "access_data(data, 0, 'name')\n",
    "access_data(data, 2, 'name')\n",
    "access_data(data, 0, 'city')"
   ]
  },
  {
   "cell_type": "markdown",
   "id": "cd8f399a-5161-4937-a3b4-d231957cde92",
   "metadata": {},
   "source": [
    "Q20.  How would you open a file and read its contents using a context manager in Python?"
   ]
  },
  {
   "cell_type": "code",
   "execution_count": 14,
   "id": "f34a2e55-49c6-49f1-80b6-e14975b38f96",
   "metadata": {},
   "outputs": [
    {
     "name": "stdout",
     "output_type": "stream",
     "text": [
      "File contents: My name is kisan barnwal!\n",
      "1.kisan\n",
      "2.bishal\n",
      "3.abhimanyu\n",
      "4.ram\n",
      "5.krishnakisan kumar barnwal\n",
      "/nkisan kumar barnwal\n",
      "\n"
     ]
    }
   ],
   "source": [
    "#Ans:-\n",
    "\n",
    "def read_file_contents(filename):\n",
    "    try:\n",
    "        with open(filename, 'r') as file:\n",
    "            contents = file.read()\n",
    "            print(f\"File contents: {contents}\")\n",
    "    except FileNotFoundError:\n",
    "        print(f\"Error: The file '{filename}' does not exist.\")\n",
    "    except Exception as e:\n",
    "        print(f\"An error occurred: {e}\")\n",
    "\n",
    "\n",
    "filename = 'destination.txt'\n",
    "read_file_contents(filename)\n"
   ]
  },
  {
   "cell_type": "markdown",
   "id": "81479ebf-5a24-4246-9a41-bc4c8d3e6cbb",
   "metadata": {},
   "source": [
    "Using a context manager provides several benefits:\n",
    "\n",
    "- It ensures that the file is properly closed after we're done with it, even if an exception occurs.\n",
    "- It reduces the risk of file descriptor leaks.\n",
    "- It makes the code more readable and concise."
   ]
  },
  {
   "cell_type": "markdown",
   "id": "ec43a7b7-ab89-4ab3-bd8e-fcb496440ffc",
   "metadata": {},
   "source": [
    "Q21.  Write a Python program that reads a file and prints the number of occurrences of a specific word?"
   ]
  },
  {
   "cell_type": "code",
   "execution_count": 18,
   "id": "2d36749e-2bcd-4e2b-a642-e91f78e45271",
   "metadata": {},
   "outputs": [
    {
     "name": "stdout",
     "output_type": "stream",
     "text": [
      "The word 'kisan' occurs 1 times in the file 'destination.txt'.\n"
     ]
    }
   ],
   "source": [
    "#Ans:-\n",
    "def count_word_occurrences(filename, word):\n",
    "    try:\n",
    "        with open(filename, 'r') as file:\n",
    "            content = file.read().lower().split()\n",
    "            occurrences = content.count(word.lower())\n",
    "            print(f\"The word '{word}' occurs {occurrences} times in the file '{filename}'.\")\n",
    "    except FileNotFoundError:\n",
    "        print(f\"Error: The file '{filename}' does not exist.\")\n",
    "    except Exception as e:\n",
    "        print(f\"An error occurred: {e}\")\n",
    "\n",
    "\n",
    "filename = 'destination.txt'\n",
    "word = 'kisan'\n",
    "count_word_occurrences(filename, word)\n"
   ]
  },
  {
   "cell_type": "markdown",
   "id": "48fa5ec2-800a-416c-af7f-2e50167139d4",
   "metadata": {},
   "source": [
    "Q22. How can you check if a file is empty before attempting to read its contents?\n",
    "\n",
    "Ans:- Here are a few ways you can check if a file is empty before attempting to read its contents:\n",
    "\n",
    ">*Method 1: Using the os module*\n",
    "\n",
    "You can use the os.path.getsize() function to get the size of the file in bytes. If the size is 0, the file is empty."
   ]
  },
  {
   "cell_type": "code",
   "execution_count": 20,
   "id": "eb9b01ed-a4a7-40c3-8bf7-4ffaa8df724e",
   "metadata": {},
   "outputs": [
    {
     "name": "stdout",
     "output_type": "stream",
     "text": [
      "The file 'my.txt' is not empty.\n"
     ]
    }
   ],
   "source": [
    "import os\n",
    "\n",
    "def is_file_empty(filename):\n",
    "    return os.path.getsize(filename) == 0\n",
    "\n",
    "filename = 'my.txt'\n",
    "if is_file_empty(filename):\n",
    "    print(f\"The file '{filename}' is empty.\")\n",
    "else:\n",
    "    print(f\"The file '{filename}' is not empty.\")"
   ]
  },
  {
   "cell_type": "markdown",
   "id": "4280258a-e056-49d7-9c78-1059c72bbc8e",
   "metadata": {},
   "source": [
    ">*Method 2: Using the open function*\n",
    "\n",
    "You can open the file in read mode and check if the file is empty by reading a single character. If the read operation returns an empty string, the file is empty."
   ]
  },
  {
   "cell_type": "code",
   "execution_count": 21,
   "id": "ac1e051b-8d28-4351-8d44-093c122c860a",
   "metadata": {},
   "outputs": [
    {
     "name": "stdout",
     "output_type": "stream",
     "text": [
      "The file 'destination.txt' is not empty.\n"
     ]
    }
   ],
   "source": [
    "def is_file_empty(filename):\n",
    "    with open(filename, 'r') as file:\n",
    "        return file.read(1) == ''\n",
    "\n",
    "filename = 'destination.txt'\n",
    "if is_file_empty(filename):\n",
    "    print(f\"The file '{filename}' is empty.\")\n",
    "else:\n",
    "    print(f\"The file '{filename}' is not empty.\")\n"
   ]
  },
  {
   "cell_type": "markdown",
   "id": "6f7245ee-2802-4e26-b8b2-bee1024d0957",
   "metadata": {},
   "source": [
    ">*Method 3: Using the pathlib module*\n",
    "\n",
    "You can use the pathlib.Path.stat() method to get the file statistics, including the file size. If the file size is 0, the file is empty."
   ]
  },
  {
   "cell_type": "code",
   "execution_count": 23,
   "id": "f0e07ecc-e515-421e-a16f-72a448cc7550",
   "metadata": {},
   "outputs": [
    {
     "name": "stdout",
     "output_type": "stream",
     "text": [
      "The file 'my.txt' is not empty.\n"
     ]
    }
   ],
   "source": [
    "import pathlib\n",
    "\n",
    "def is_file_empty(filename):\n",
    "    path = pathlib.Path(filename)\n",
    "    return path.stat().st_size == 0\n",
    "\n",
    "filename = 'my.txt'\n",
    "if is_file_empty(filename):\n",
    "    print(f\"The file '{filename}' is empty.\")\n",
    "else:\n",
    "    print(f\"The file '{filename}' is not empty.\")\n"
   ]
  },
  {
   "cell_type": "markdown",
   "id": "5b4cf84b-44c7-4f6b-b887-4975204ce363",
   "metadata": {},
   "source": [
    "Q23. Write a Python program that writes to a log file when an error occurs during file handling?"
   ]
  },
  {
   "cell_type": "code",
   "execution_count": 32,
   "id": "e4c7b8dd-c26d-49bf-81cb-291a9c113836",
   "metadata": {},
   "outputs": [],
   "source": [
    "#Ans:-\n",
    "import logging\n",
    "# Set up logging configuration\n",
    "logging.basicConfig(filename='error.log', level=logging.ERROR, format='%(asctime)s - %(levelname)s - %(message)s')\n",
    "\n",
    "def handle_file(filename):\n",
    "    try:\n",
    "        with open(filename, 'r') as file:\n",
    "            content = file.read()\n",
    "            print(content)\n",
    "    except FileNotFoundError:\n",
    "        logging.error(f\"File '{filename}' not found.\")\n",
    "    except PermissionError:\n",
    "        logging.error(f\"Permission denied to access file '{filename}'.\")\n",
    "    except Exception as e:\n",
    "        logging.error(f\"An error occurred while handling file '{filename}': {e}\")\n",
    "\n",
    "\n",
    "filename = 'hi.txt'\n",
    "handle_file(filename)\n",
    "\n",
    "#Since the file does not exist, a FileNotFoundError exception is raised, and an error message is logged to the 'error.log' file."
   ]
  }
 ],
 "metadata": {
  "kernelspec": {
   "display_name": "Python 3 (ipykernel)",
   "language": "python",
   "name": "python3"
  },
  "language_info": {
   "codemirror_mode": {
    "name": "ipython",
    "version": 3
   },
   "file_extension": ".py",
   "mimetype": "text/x-python",
   "name": "python",
   "nbconvert_exporter": "python",
   "pygments_lexer": "ipython3",
   "version": "3.13.0"
  }
 },
 "nbformat": 4,
 "nbformat_minor": 5
}
