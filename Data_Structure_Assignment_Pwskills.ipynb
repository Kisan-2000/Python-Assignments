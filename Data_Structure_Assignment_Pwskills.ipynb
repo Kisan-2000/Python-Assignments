{
 "cells": [
  {
   "cell_type": "markdown",
   "id": "1b2ad60c-050a-4e66-b763-85aa34f55eb2",
   "metadata": {},
   "source": [
    "Q1. Discuss string slicing and provide examples?\n",
    "\n",
    "Ans:-String slicing is a fundamental operation in programming that allows you to extract a subset of characters from a string. String slicing in Python is a technique to extract a specific portion of a string by specifying a range of indices. It allows you to create substrings from the original string.The basic syntax for string slicing is:-\n",
    "\n",
    ">>string[start:stop:step]\n",
    "\n",
    "The examples of string slicing are:-"
   ]
  },
  {
   "cell_type": "code",
   "execution_count": 3,
   "id": "fcaed796-e45f-49ca-9bfb-597dee039299",
   "metadata": {},
   "outputs": [
    {
     "name": "stdout",
     "output_type": "stream",
     "text": [
      "Hello\n",
      "Worl\n"
     ]
    }
   ],
   "source": [
    "#1. Basic Slicing\n",
    "my_string = \"Hello, World!\"\n",
    "\n",
    "#Get the first five characters\n",
    "print(my_string[0:5])\n",
    "\n",
    "#Get the middle four characters\n",
    "print(my_string[7:11])\n"
   ]
  },
  {
   "cell_type": "code",
   "execution_count": 4,
   "id": "e34c0fb8-87c3-4ff7-b5a8-7345d7a781dd",
   "metadata": {},
   "outputs": [
    {
     "name": "stdout",
     "output_type": "stream",
     "text": [
      ", World!\n"
     ]
    }
   ],
   "source": [
    "#2. Omitting start or stop indices - If you omit the start index, it defaults to 0. If you omit the stop index, it defaults to the end of the string.\n",
    "\n",
    "my_string = \"Hello, World!\"\n",
    "\n",
    "# Get all characters except the first 5\n",
    "print(my_string[5:])"
   ]
  },
  {
   "cell_type": "code",
   "execution_count": 6,
   "id": "832e8c3b-84ca-45ca-9c47-1dafeed1630e",
   "metadata": {},
   "outputs": [
    {
     "name": "stdout",
     "output_type": "stream",
     "text": [
      "rld!\n"
     ]
    }
   ],
   "source": [
    "#3. Negative Indices- Negative indices count from the end of the string.\n",
    "my_string = \"Hello, World!\"\n",
    "\n",
    "# Get the last 4 characters\n",
    "print(my_string[-4:])"
   ]
  },
  {
   "cell_type": "code",
   "execution_count": 7,
   "id": "82196382-91a4-4138-9ea5-b0efaf878736",
   "metadata": {},
   "outputs": [
    {
     "name": "stdout",
     "output_type": "stream",
     "text": [
      "Hlo ol!\n"
     ]
    }
   ],
   "source": [
    "#4. Step Parameter- The step parameter allow you to skip character.\n",
    "my_string = \"Hello, World!\"\n",
    "\n",
    "# Get every other character\n",
    "print(my_string[::2])"
   ]
  },
  {
   "cell_type": "code",
   "execution_count": 9,
   "id": "36244751-217d-4613-a4aa-7c8ee86c1d9e",
   "metadata": {},
   "outputs": [
    {
     "name": "stdout",
     "output_type": "stream",
     "text": [
      "!dlroW ,olleH\n"
     ]
    }
   ],
   "source": [
    "#5. Reverse the string- We can reverse the string by using a step of -1.\n",
    "my_string = \"Hello, World!\"\n",
    "\n",
    "# Reverse the string\n",
    "print(my_string[::-1]) "
   ]
  },
  {
   "cell_type": "markdown",
   "id": "6d9c6c84-9a6d-4208-a36e-ee8b67fe4d13",
   "metadata": {},
   "source": [
    "Q2. Explain the key features of lists in Python?\n",
    "\n",
    "Ans:-Lists are a fundamental data structure in Python, offering powerful features for storing and manipulating collections of data. Here are the key features of lists in Python:\n",
    "\n",
    "Key Features:\n",
    "\n",
    "1. Ordered Collection: Lists maintain the order of elements.\n",
    "\n",
    "2. Mutable: Lists can be modified after creation.\n",
    "\n",
    "3. Indexed: Elements are accessed via zero-based indexing.\n",
    "\n",
    "4. Dynamic Size: Lists can grow or shrink dynamically.\n",
    "\n",
    "List Operations:\n",
    "\n",
    ">> Indexing: Accessing elements using square brackets [ ]."
   ]
  },
  {
   "cell_type": "code",
   "execution_count": 10,
   "id": "669dffb4-6d84-4a9e-b713-dc42e7e09dab",
   "metadata": {},
   "outputs": [
    {
     "name": "stdout",
     "output_type": "stream",
     "text": [
      "1\n"
     ]
    }
   ],
   "source": [
    "my_list = [1, 2, 3]\n",
    "print(my_list[0])"
   ]
  },
  {
   "cell_type": "markdown",
   "id": "98469bb8-570e-47ef-9a27-fc6ce2e69f44",
   "metadata": {},
   "source": [
    ">> Slicing: Extracting subsets using `start:stop:step`."
   ]
  },
  {
   "cell_type": "code",
   "execution_count": 12,
   "id": "739adca0-aed9-407c-9065-8041350f86db",
   "metadata": {},
   "outputs": [
    {
     "name": "stdout",
     "output_type": "stream",
     "text": [
      "[2, 3, 4]\n"
     ]
    }
   ],
   "source": [
    "my_list = [1, 2, 3, 4, 5]\n",
    "print(my_list[1:4])"
   ]
  },
  {
   "cell_type": "markdown",
   "id": "09361b1c-2277-4c15-860a-f6cf9fdeacad",
   "metadata": {},
   "source": [
    "Q3. Describe how to access, modify, and delete elements in a list with examples?\n",
    "\n",
    "Ans:-Process and steps for access, modify, and delete elements in  a list.\n",
    "\n",
    ">Accessing Elements:"
   ]
  },
  {
   "cell_type": "code",
   "execution_count": 13,
   "id": "15205c78-40a7-4e1c-bfbd-d8d031771091",
   "metadata": {},
   "outputs": [
    {
     "name": "stdout",
     "output_type": "stream",
     "text": [
      "1\n"
     ]
    }
   ],
   "source": [
    "#Indexing: Use square brackets [ ] with the index value.\n",
    "my_list = [1, 2, 3]\n",
    "print(my_list[0])"
   ]
  },
  {
   "cell_type": "code",
   "execution_count": 14,
   "id": "af1ed928-0ba8-4997-9f65-0760202c55e7",
   "metadata": {},
   "outputs": [
    {
     "name": "stdout",
     "output_type": "stream",
     "text": [
      "4\n"
     ]
    }
   ],
   "source": [
    "#Negative Indexing: Access elements from the end.\n",
    "my_list = [1, 2, 3, 4, 5]\n",
    "print(my_list[-2])"
   ]
  },
  {
   "cell_type": "code",
   "execution_count": 15,
   "id": "924befa5-4b2f-4e1b-af2b-c0b1b5ea1ca9",
   "metadata": {},
   "outputs": [
    {
     "name": "stdout",
     "output_type": "stream",
     "text": [
      "[2, 3, 4]\n"
     ]
    }
   ],
   "source": [
    "#Slicing: Extract subsets using `start:stop:step`.\n",
    "my_list = [1, 2, 3, 4, 5]\n",
    "print(my_list[1:4])"
   ]
  },
  {
   "cell_type": "markdown",
   "id": "ba9dd158-aeb9-4a73-8099-2cd50a436f09",
   "metadata": {},
   "source": [
    ">Modifying Elements:"
   ]
  },
  {
   "cell_type": "code",
   "execution_count": 17,
   "id": "667cebbf-f814-496b-8de8-dcd639176ae3",
   "metadata": {},
   "outputs": [
    {
     "name": "stdout",
     "output_type": "stream",
     "text": [
      "[10, 2, 3, 4, 5]\n"
     ]
    }
   ],
   "source": [
    "#Assign new value: Use indexing to assign a new value.\n",
    "my_list = [1, 2, 3, 4, 5]\n",
    "my_list[0] = 10\n",
    "print(my_list)"
   ]
  },
  {
   "cell_type": "code",
   "execution_count": 18,
   "id": "a8832c28-c152-42c2-a388-94aa1f928b95",
   "metadata": {},
   "outputs": [
    {
     "name": "stdout",
     "output_type": "stream",
     "text": [
      "[1, 20, 30, 4, 5]\n"
     ]
    }
   ],
   "source": [
    "#Modify slice: Assign new values to a subset.\n",
    "my_list = [1, 2, 3, 4, 5]\n",
    "my_list[1:3] = [20, 30]\n",
    "print(my_list)  "
   ]
  },
  {
   "cell_type": "code",
   "execution_count": 19,
   "id": "6d5f1643-2157-4406-b135-b8c61cc55f6e",
   "metadata": {},
   "outputs": [
    {
     "name": "stdout",
     "output_type": "stream",
     "text": [
      "[1, 2, 3]\n"
     ]
    }
   ],
   "source": [
    "#Append: Add elements using `append()`\n",
    "my_list = [1, 2]\n",
    "my_list.append(3)\n",
    "print(my_list) "
   ]
  },
  {
   "cell_type": "markdown",
   "id": "2bfd4283-2435-40bb-85d3-f2e86e5f3d62",
   "metadata": {},
   "source": [
    "> Deleting Elements:"
   ]
  },
  {
   "cell_type": "code",
   "execution_count": 20,
   "id": "3b7aa10e-21ef-4e32-a020-4de039bed6a9",
   "metadata": {},
   "outputs": [
    {
     "name": "stdout",
     "output_type": "stream",
     "text": [
      "[1, 3, 2, 5]\n"
     ]
    }
   ],
   "source": [
    "#Remove: Use `remove()` to delete the first occurrence.\n",
    "my_list = [1, 2, 3, 2, 5]\n",
    "my_list.remove(2)\n",
    "print(my_list)"
   ]
  },
  {
   "cell_type": "code",
   "execution_count": 21,
   "id": "9d8719c4-5be0-4fc3-bf5f-9096405f0ed5",
   "metadata": {},
   "outputs": [
    {
     "name": "stdout",
     "output_type": "stream",
     "text": [
      "[2, 3, 4, 5]\n"
     ]
    }
   ],
   "source": [
    "#Pop: Use pop() to delete at a specific index.\n",
    "my_list = [1, 2, 3, 4, 5]\n",
    "my_list.pop(0)\n",
    "print(my_list)"
   ]
  },
  {
   "cell_type": "code",
   "execution_count": 23,
   "id": "93c25c94-d501-434b-81ec-af53754cdec6",
   "metadata": {},
   "outputs": [
    {
     "name": "stdout",
     "output_type": "stream",
     "text": [
      "[1, 3, 4, 5]\n"
     ]
    }
   ],
   "source": [
    "#Del statement: Delete using the del statement.\n",
    "my_list = [1, 2, 3, 4, 5]\n",
    "del my_list[1]\n",
    "print(my_list)"
   ]
  },
  {
   "cell_type": "code",
   "execution_count": 24,
   "id": "109a7425-2bdc-46ef-96e4-c94be8329f90",
   "metadata": {},
   "outputs": [
    {
     "name": "stdout",
     "output_type": "stream",
     "text": [
      "[]\n"
     ]
    }
   ],
   "source": [
    "#Clear: Use `clear()` to delete all elements.\n",
    "my_list = [1, 2, 3, 4, 5]\n",
    "my_list.clear()\n",
    "print(my_list)"
   ]
  },
  {
   "cell_type": "markdown",
   "id": "30f61ab2-88cc-4a90-bf38-426b0078fea8",
   "metadata": {},
   "source": [
    "Q4. Compare and contrast tuples and lists with examples?\n",
    "\n",
    "Ans:-Tuples and lists are fundamental data structures in Python, sharing similarities but with key differences. Here's a comprehensive comparison:\n",
    "\n",
    "Similarities:\n",
    "\n",
    "1. Ordered collections: Both tuples and lists maintain element order.\n",
    "2. Indexed: Elements are accessed via zero-based indexing.\n",
    "3. Dynamic size: Both can grow or shrink dynamically (lists only).\n",
    "4. Iterable: Both can be iterated over using loops.\n",
    "\n",
    "Differences:\n",
    "\n",
    "1. Immutability:\n",
    "* Tuples: Immutable (cannot be modified after creation).\n",
    "* Lists: Mutable (can be modified after creation).\n",
    "\n",
    "2. Syntax:\n",
    "* Tuples: Defined using parentheses () or no parentheses.\n",
    "* Lists: Defined using square brackets [].\n",
    "\n",
    "3. Performance:\n",
    "* Tuples: Faster and more memory-efficient due to immutability.\n",
    "* Lists: Slower and less memory-efficient due to dynamic nature.\n",
    "\n"
   ]
  },
  {
   "cell_type": "code",
   "execution_count": 27,
   "id": "9a6aa534-2db6-4245-81df-74594240aefe",
   "metadata": {},
   "outputs": [
    {
     "name": "stdout",
     "output_type": "stream",
     "text": [
      "1\n"
     ]
    }
   ],
   "source": [
    "#Examples of uses of tuples and lists\n",
    "\n",
    "#Tuple:\n",
    "my_tuple = (1, 2, 5) \n",
    "print(my_tuple[0])\n"
   ]
  },
  {
   "cell_type": "code",
   "execution_count": 28,
   "id": "a54e09e3-01e8-42a4-be31-3739cbb6caa6",
   "metadata": {},
   "outputs": [
    {
     "ename": "TypeError",
     "evalue": "'tuple' object does not support item assignment",
     "output_type": "error",
     "traceback": [
      "\u001b[1;31m---------------------------------------------------------------------------\u001b[0m",
      "\u001b[1;31mTypeError\u001b[0m                                 Traceback (most recent call last)",
      "Cell \u001b[1;32mIn[28], line 2\u001b[0m\n\u001b[0;32m      1\u001b[0m my_tuple \u001b[38;5;241m=\u001b[39m (\u001b[38;5;241m1\u001b[39m, \u001b[38;5;241m2\u001b[39m, \u001b[38;5;241m5\u001b[39m) \n\u001b[1;32m----> 2\u001b[0m \u001b[43mmy_tuple\u001b[49m\u001b[43m[\u001b[49m\u001b[38;5;241;43m0\u001b[39;49m\u001b[43m]\u001b[49m \u001b[38;5;241m=\u001b[39m \u001b[38;5;241m10\u001b[39m         \u001b[38;5;66;03m#Attempting to modify a tuple raise a error\u001b[39;00m\n\u001b[0;32m      3\u001b[0m \u001b[38;5;28mprint\u001b[39m(my_tuple[\u001b[38;5;241m0\u001b[39m])\n",
      "\u001b[1;31mTypeError\u001b[0m: 'tuple' object does not support item assignment"
     ]
    }
   ],
   "source": [
    "my_tuple = (1, 2, 5) \n",
    "my_tuple[0] = 10         #Attempting to modify a tuple raise a error\n",
    "print(my_tuple[0])"
   ]
  },
  {
   "cell_type": "code",
   "execution_count": 29,
   "id": "f5406910-b7a0-4496-8b7b-e3fcf07126db",
   "metadata": {},
   "outputs": [
    {
     "name": "stdout",
     "output_type": "stream",
     "text": [
      "1\n"
     ]
    }
   ],
   "source": [
    "#lists\n",
    "my_list = [1, 2, 3]\n",
    "print(my_list[0])"
   ]
  },
  {
   "cell_type": "code",
   "execution_count": 31,
   "id": "6cfee06c-adb5-4d25-bfc9-7f5bae2b3c3f",
   "metadata": {},
   "outputs": [
    {
     "name": "stdout",
     "output_type": "stream",
     "text": [
      "[1, 4, 3]\n"
     ]
    }
   ],
   "source": [
    "my_list = [1, 2, 3]\n",
    "my_list[1]=4\n",
    "print(my_list)"
   ]
  },
  {
   "cell_type": "markdown",
   "id": "6355603c-fe26-44d1-aa22-300b3525152f",
   "metadata": {},
   "source": [
    "Q5. Describe the key features of sets and provide examples of their uses?\n",
    "\n",
    "Ans:-Sets are a fundamental data structure in Python, providing an efficient way to store and manipulate unique elements. Here are the key features of sets and examples of their use:\n",
    "\n",
    "Key Features:\n",
    "\n",
    "1. Unordered collection: Sets do not maintain element order.\n",
    "2. Unique elements: Sets automatically eliminate duplicates.\n",
    "3. Mutable: Sets can be modified after creation.\n",
    "4. Fast lookups: Sets provide fast membership testing.\n",
    "5. Mathematical operations: Sets support union, intersection, difference, and symmetric difference.\n",
    "> Creating Sets"
   ]
  },
  {
   "cell_type": "code",
   "execution_count": 33,
   "id": "517acca3-6896-43f5-977a-a5c9c8429c1e",
   "metadata": {},
   "outputs": [
    {
     "name": "stdout",
     "output_type": "stream",
     "text": [
      "{1, 2, 3}\n"
     ]
    }
   ],
   "source": [
    "#Using the set() function:\n",
    "my_set = set([1, 2, 3, 2, 1])\n",
    "print(my_set)"
   ]
  },
  {
   "cell_type": "code",
   "execution_count": 35,
   "id": "65ebe98b-a46d-4ff3-9559-9144a9f2b740",
   "metadata": {},
   "outputs": [
    {
     "name": "stdout",
     "output_type": "stream",
     "text": [
      "{1, 2, 3}\n"
     ]
    }
   ],
   "source": [
    "#Using curly brackets {}:\n",
    "my_set = {1, 2, 3, 2, 1}\n",
    "print(my_set)"
   ]
  },
  {
   "cell_type": "markdown",
   "id": "a1aecea0-b998-48bb-8f0d-0fc51d4ce96b",
   "metadata": {},
   "source": [
    "> Set Operations"
   ]
  },
  {
   "cell_type": "code",
   "execution_count": 37,
   "id": "d8492d21-1e55-4e31-a431-f671094c8497",
   "metadata": {},
   "outputs": [
    {
     "name": "stdout",
     "output_type": "stream",
     "text": [
      "{1, 2, 3}\n"
     ]
    }
   ],
   "source": [
    "#Union (|): Combines elements from two sets.\n",
    "a = {1, 2}\n",
    "b = {2, 3}\n",
    "print(a | b)"
   ]
  },
  {
   "cell_type": "code",
   "execution_count": 38,
   "id": "fafffb4b-e1e0-4817-8601-de1cb92d7ac0",
   "metadata": {},
   "outputs": [
    {
     "name": "stdout",
     "output_type": "stream",
     "text": [
      "{2}\n"
     ]
    }
   ],
   "source": [
    "#Intersection (&): Returns common elements.\n",
    "a = {1, 2}\n",
    "b = {2, 3}\n",
    "print(a & b)"
   ]
  },
  {
   "cell_type": "code",
   "execution_count": 39,
   "id": "21598942-f9d5-4106-9541-f2c0250aaca6",
   "metadata": {},
   "outputs": [
    {
     "name": "stdout",
     "output_type": "stream",
     "text": [
      "{1}\n"
     ]
    }
   ],
   "source": [
    "#Difference (-): Returns elements in the first set but not the second.\n",
    "a = {1, 2}\n",
    "b = {2, 3}\n",
    "print(a - b)"
   ]
  },
  {
   "cell_type": "code",
   "execution_count": 40,
   "id": "1ba4c2be-6483-41c8-921a-d181c0f76fca",
   "metadata": {},
   "outputs": [
    {
     "name": "stdout",
     "output_type": "stream",
     "text": [
      "{1, 3}\n"
     ]
    }
   ],
   "source": [
    "#Symmetric Difference (^): Returns elements in either set but not both.\n",
    "a = {1, 2}\n",
    "b = {2, 3}\n",
    "print(a ^ b)"
   ]
  },
  {
   "cell_type": "markdown",
   "id": "c930d685-1807-48c7-a127-935741f82e5b",
   "metadata": {},
   "source": [
    ">Set Methods"
   ]
  },
  {
   "cell_type": "code",
   "execution_count": 41,
   "id": "4f2d27aa-9e72-4207-a03a-046a0cfe2a0d",
   "metadata": {},
   "outputs": [
    {
     "name": "stdout",
     "output_type": "stream",
     "text": [
      "{1, 2, 3}\n"
     ]
    }
   ],
   "source": [
    "#add(): Adds a single element.\n",
    "my_set = {1, 2}\n",
    "my_set.add(3)\n",
    "print(my_set)"
   ]
  },
  {
   "cell_type": "code",
   "execution_count": 42,
   "id": "bb70420f-a51a-4eac-b0fb-0924cba1ffa6",
   "metadata": {},
   "outputs": [
    {
     "name": "stdout",
     "output_type": "stream",
     "text": [
      "{1, 2, 3, 4}\n"
     ]
    }
   ],
   "source": [
    "#update(): Adds multiple elements.\n",
    "\n",
    "my_set = {1, 2}\n",
    "my_set.update([3, 4])\n",
    "print(my_set)"
   ]
  },
  {
   "cell_type": "code",
   "execution_count": 43,
   "id": "3ebe9096-bd76-422e-887a-6541e1f50833",
   "metadata": {},
   "outputs": [
    {
     "name": "stdout",
     "output_type": "stream",
     "text": [
      "{1, 3}\n"
     ]
    }
   ],
   "source": [
    "#remove(): Removes an element.\n",
    "my_set = {1, 2, 3}\n",
    "my_set.remove(2)\n",
    "print(my_set)"
   ]
  },
  {
   "cell_type": "code",
   "execution_count": 44,
   "id": "eeeaac5d-562d-4465-bfef-b970940175ed",
   "metadata": {},
   "outputs": [
    {
     "name": "stdout",
     "output_type": "stream",
     "text": [
      "set()\n"
     ]
    }
   ],
   "source": [
    "#clear(): Removes all elements.\n",
    "my_set = {1, 2, 3}\n",
    "my_set.clear()\n",
    "print(my_set)"
   ]
  },
  {
   "cell_type": "code",
   "execution_count": 45,
   "id": "4bf465b4-5cdc-433d-b5e4-5f8d55cec32b",
   "metadata": {},
   "outputs": [
    {
     "name": "stdout",
     "output_type": "stream",
     "text": [
      "{1, 2, 3, 4}\n"
     ]
    }
   ],
   "source": [
    "## Use Cases\n",
    "\n",
    "#1. Removing duplicates from a list.\n",
    "\n",
    "my_list = [1, 2, 2, 3, 4, 4]\n",
    "my_set = set(my_list)\n",
    "print(my_set)"
   ]
  },
  {
   "cell_type": "code",
   "execution_count": 46,
   "id": "eec67d58-b511-48ec-aeb7-cffb6ede57e0",
   "metadata": {},
   "outputs": [
    {
     "name": "stdout",
     "output_type": "stream",
     "text": [
      "True\n"
     ]
    }
   ],
   "source": [
    "#1. Fast membership testing.\n",
    "\n",
    "my_set = {1, 2, 3}\n",
    "print(2 in my_set)"
   ]
  },
  {
   "cell_type": "markdown",
   "id": "b29651f3-d27e-4e13-812d-c8b0afccc9cc",
   "metadata": {},
   "source": [
    "Q5. Discuss the use cases of tuples and sets in Python programming?\n",
    "\n",
    "Ans:-Tuples and sets are essential data structures in Python, serving distinct purposes.\n",
    "\n",
    ">Tuple Use Cases:\n",
    "\n",
    "1. Constant data: Tuples are immutable, making them ideal for storing constant data.\n",
    "\n",
    "2. Function arguments: Tuples can be used to pass multiple arguments to functions.\n",
    "\n",
    "3. Data integrity: Tuples ensure data integrity by preventing modification.\n",
    "\n",
    "4. Dictionary keys: Tuples can be used as dictionary keys due to their immutability.\n",
    "\n",
    "5. Iteration: Tuples can be iterated over in loops.\n",
    "\n",
    "6. Data storage: Tuples can store heterogeneous data.\n",
    "\n",
    "7. Performance-critical code: Tuples are faster than lists due to immutability.\n",
    "\n",
    ">Set Use Cases:\n",
    "\n",
    "1. Unique elements: Sets automatically eliminate duplicates.\n",
    "\n",
    "2. Fast membership testing: Sets provide fast lookup times.\n",
    "\n",
    "3. Mathematical operations: Sets support union, intersection, difference, and symmetric difference.\n",
    "\n",
    "4. Data deduplication: Sets remove duplicates from lists or other iterable data.\n",
    "\n",
    "5. Data validation: Sets can validate membership in a collection.\n",
    "\n",
    "6. Database query optimization: Sets can optimize database queries.\n",
    "\n",
    "7. Graph algorithms: Sets are useful in graph algorithms.\n",
    "\n",
    ">>Real-World Examples:\n",
    "\n",
    "\n",
    ">Tuples:\n",
    "\n",
    "1. Student information (name, age, grade)\n",
    "2. Geographical coordinates (latitude, longitude)\n",
    "3. Color RGB values (red, green, blue)\n",
    "\n",
    ">Sets:\n",
    "\n",
    "1. Unique website visitors\n",
    "2. Product categories in e-commerce\n",
    "3. User permissions in access control systems\n",
    "4. Unique words in text processing\n",
    "5. Database query results\n",
    "\n",
    "When to Choose Tuples:\n",
    "\n",
    "1. Immutable data\n",
    "2. Constant data\n",
    "3. Performance-critical code\n",
    "4. Dictionary keys\n",
    "\n",
    "When to Choose Sets:\n",
    "\n",
    "1. Unique elements\n",
    "2. Fast membership testing\n",
    "3. Mathematical operations\n",
    "4. Data deduplication\n"
   ]
  },
  {
   "cell_type": "markdown",
   "id": "79c07ea4-7560-497d-944b-ad20e69f07b5",
   "metadata": {},
   "source": [
    "Q7. Describe how to add, modify, and delete items in a dictionary with examples?\n",
    "\n",
    "Ans:-Once you have created a dictionary, you can add, remove, or update elements using various methods.\n",
    "\n",
    ">Adding Items"
   ]
  },
  {
   "cell_type": "code",
   "execution_count": 3,
   "id": "aed01c86-0fcd-4692-81c3-1da940824108",
   "metadata": {},
   "outputs": [
    {
     "name": "stdout",
     "output_type": "stream",
     "text": [
      "{'name': 'John', 'age': 30, 'country': 'USA'}\n"
     ]
    }
   ],
   "source": [
    "#1. Direct Assignment:\n",
    "my_dict = {\"name\": \"John\", \"age\": 30}\n",
    "my_dict[\"country\"] = \"USA\"\n",
    "print(my_dict)"
   ]
  },
  {
   "cell_type": "code",
   "execution_count": 4,
   "id": "9903a39c-2f5f-4f43-b5ab-e63376a4640c",
   "metadata": {},
   "outputs": [
    {
     "name": "stdout",
     "output_type": "stream",
     "text": [
      "{'name': 'John', 'age': 30, 'country': 'USA', 'city': 'New York'}\n"
     ]
    }
   ],
   "source": [
    "#2. Update() Method:\n",
    "my_dict = {\"name\": \"John\", \"age\": 30}\n",
    "my_dict.update({\"country\": \"USA\", \"city\": \"New York\"})\n",
    "print(my_dict)"
   ]
  },
  {
   "cell_type": "code",
   "execution_count": 5,
   "id": "02a96323-a2f5-47db-b600-074faced4399",
   "metadata": {},
   "outputs": [
    {
     "name": "stdout",
     "output_type": "stream",
     "text": [
      "{'name': 'John', 'age': 30, 'country': 'USA'}\n"
     ]
    }
   ],
   "source": [
    "#3. setdefault() Method:\n",
    "my_dict = {\"name\": \"John\", \"age\": 30}\n",
    "my_dict.setdefault(\"country\", \"USA\")\n",
    "print(my_dict)"
   ]
  },
  {
   "cell_type": "markdown",
   "id": "e28d45ca-624f-4053-9538-51f23263f1d4",
   "metadata": {},
   "source": [
    ">Modifying Items"
   ]
  },
  {
   "cell_type": "code",
   "execution_count": 6,
   "id": "ad9ab0da-ac76-4453-9be7-8880b5383b12",
   "metadata": {},
   "outputs": [
    {
     "name": "stdout",
     "output_type": "stream",
     "text": [
      "{'name': 'John', 'age': 31}\n"
     ]
    }
   ],
   "source": [
    "#1. Direct Assignment:\n",
    "my_dict = {\"name\": \"John\", \"age\": 30}\n",
    "my_dict[\"age\"] = 31\n",
    "print(my_dict)"
   ]
  },
  {
   "cell_type": "code",
   "execution_count": 7,
   "id": "11f0578f-2440-4040-8e34-4ab0fddec301",
   "metadata": {},
   "outputs": [
    {
     "name": "stdout",
     "output_type": "stream",
     "text": [
      "{'name': 'John', 'age': 32, 'country': 'USA'}\n"
     ]
    }
   ],
   "source": [
    "#2. Update() Method:\n",
    "my_dict = {\"name\": \"John\", \"age\": 30}\n",
    "my_dict.update({\"country\": \"USA\", \"age\": 32})\n",
    "print(my_dict)"
   ]
  },
  {
   "cell_type": "markdown",
   "id": "7f9a9ab0-6b5e-4742-9db8-6ae385107fae",
   "metadata": {},
   "source": [
    ">Deleting Items"
   ]
  },
  {
   "cell_type": "code",
   "execution_count": 8,
   "id": "9408f51c-28ee-4b75-9dd7-acb02ed64f0a",
   "metadata": {},
   "outputs": [
    {
     "name": "stdout",
     "output_type": "stream",
     "text": [
      "{'name': 'John', 'country': 'USA'}\n"
     ]
    }
   ],
   "source": [
    "#1. del Statement:\n",
    "my_dict = {\"name\": \"John\", \"age\": 30, \"country\": \"USA\"}\n",
    "del my_dict[\"age\"]\n",
    "print(my_dict)"
   ]
  },
  {
   "cell_type": "code",
   "execution_count": 9,
   "id": "d686ca70-aadc-45b1-9fc9-49b8d437f6be",
   "metadata": {},
   "outputs": [
    {
     "name": "stdout",
     "output_type": "stream",
     "text": [
      "{'name': 'John', 'country': 'USA'}\n"
     ]
    }
   ],
   "source": [
    "#2. pop() Method:\n",
    "my_dict = {\"name\": \"John\", \"age\": 30, \"country\": \"USA\"}\n",
    "my_dict.pop(\"age\")\n",
    "print(my_dict) "
   ]
  },
  {
   "cell_type": "code",
   "execution_count": 10,
   "id": "d9d6d85e-6c2d-4865-a9b8-0df299de20ee",
   "metadata": {},
   "outputs": [
    {
     "name": "stdout",
     "output_type": "stream",
     "text": [
      "{'name': 'John', 'age': 30}\n"
     ]
    }
   ],
   "source": [
    "#3. popitem() Method - (It removes teh last added item from the dictionary):\n",
    "my_dict = {\"name\": \"John\", \"age\": 30, \"country\": \"USA\"}\n",
    "my_dict.popitem()\n",
    "print(my_dict)"
   ]
  },
  {
   "cell_type": "code",
   "execution_count": 11,
   "id": "4a7ca950-d7d5-476a-b741-dcad2dedab0f",
   "metadata": {},
   "outputs": [
    {
     "name": "stdout",
     "output_type": "stream",
     "text": [
      "{}\n"
     ]
    }
   ],
   "source": [
    "#4. clear() Method - (It removes all the items from the dictionary):\n",
    "my_dict = {\"name\": \"John\", \"age\": 30, \"country\": \"USA\"}\n",
    "my_dict.clear()\n",
    "print(my_dict)"
   ]
  },
  {
   "cell_type": "markdown",
   "id": "f9a15f6b-c228-4dd3-bff9-ddf2a2ab65b0",
   "metadata": {},
   "source": [
    "Q8. Discuss the importance of dictionary keys being immutable and provide examples?\n",
    "\n",
    "Ans:-In Python, dictionary keys must be immutable, meaning they cannot be changed after creation. This requirement ensures efficient and reliable dictionary operations.\n",
    "\n",
    "Why Immutability Matters:\n",
    "\n",
    "1. Hashing: Dictionaries use hashing to store and retrieve key-value pairs efficiently. Immutable keys ensure consistent hash values, enabling fast lookups.\n",
    "2. Uniqueness: Immutable keys prevent accidental modifications, ensuring each key remains unique.\n",
    "3. Thread Safety: Immutable keys make dictionaries thread-safe, as multiple threads can access the dictionary without modifying keys.\n",
    "\n",
    ">>Immutable Key Types:\n",
    "\n",
    "1. Strings (str)\n",
    "2. Integers (int)\n",
    "3. Floats (float)\n",
    "4. Tuples (if containing immutable elements)\n",
    "5. Immutable sets (Frozensets)\n",
    "\n",
    ">>Mutable Key Types (Not Allowed):\n",
    "\n",
    "1. Lists (list)\n",
    "2. Dictionaries (dict)\n",
    "3. Sets (set)\n",
    "\n"
   ]
  },
  {
   "cell_type": "code",
   "execution_count": 17,
   "id": "b3bfa246-e759-4004-9589-f04cd4f5b6f8",
   "metadata": {},
   "outputs": [],
   "source": [
    "#Examples of immutable dictionary keys\n",
    "\n",
    "##String Keys\n",
    "\n",
    "my_dict = {\n",
    "    \"name\": \"John\",\n",
    "    \"age\": 30,\n",
    "    \"city\": \"New York\"\n",
    "}\n",
    "\n",
    "##Integer Keys\n",
    "\n",
    "my_dict = {\n",
    "    1: \"value1\",\n",
    "    2: \"value2\",\n",
    "    3: \"value3\"\n",
    "}\n",
    "\n",
    "##Float Keys\n",
    "\n",
    "my_dict = {\n",
    "    1.5: \"value1\",\n",
    "    2.5: \"value2\",\n",
    "    3.5: \"value3\"\n",
    "}\n",
    "\n",
    "##Tuple Keys (with immutable elements)\n",
    "\n",
    "my_dict = {\n",
    "    (1, 2, 3): \"tuple key\",\n",
    "    (\"a\", \"b\", \"c\"): \"tuple key\",\n",
    "    (1.5, 2.5, 3.5): \"tuple key\"\n",
    "}\n"
   ]
  }
 ],
 "metadata": {
  "kernelspec": {
   "display_name": "Python 3 (ipykernel)",
   "language": "python",
   "name": "python3"
  },
  "language_info": {
   "codemirror_mode": {
    "name": "ipython",
    "version": 3
   },
   "file_extension": ".py",
   "mimetype": "text/x-python",
   "name": "python",
   "nbconvert_exporter": "python",
   "pygments_lexer": "ipython3",
   "version": "3.13.0"
  }
 },
 "nbformat": 4,
 "nbformat_minor": 5
}
