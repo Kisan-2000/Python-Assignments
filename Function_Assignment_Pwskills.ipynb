{
 "cells": [
  {
   "cell_type": "markdown",
   "id": "a52585cd-82fa-4c89-85bf-5e7166a118fd",
   "metadata": {},
   "source": [
    ">>Theory Questions\n",
    "\n",
    "\n",
    "Q1. What is the difference between a function and a method in Python?\n",
    "\n",
    "Ans:- In Python, both functions and methods are blocks of code that can be executed multiple times from different parts of your program. However, there are key differences:\n",
    "\n",
    "Functions\n",
    "\n",
    "- Standalone blocks of code that can be called multiple times.\n",
    "- Not associated with any class or object.\n",
    "- Defined using the def keyword.\n",
    "\n",
    "\n",
    "Methods\n",
    "\n",
    "- Blocks of code associated with a class or object.\n",
    "- Used to perform actions on an object or class.\n",
    "- Defined inside a class definition.\n"
   ]
  },
  {
   "cell_type": "code",
   "execution_count": 1,
   "id": "fd84668a-b3ca-4b24-885b-03b5451167e4",
   "metadata": {},
   "outputs": [
    {
     "name": "stdout",
     "output_type": "stream",
     "text": [
      "Hello, kisan!\n"
     ]
    }
   ],
   "source": [
    "#Examples\n",
    "\n",
    "# Function\n",
    "def greet(name):\n",
    "    print(f\"Hello, {name}!\")\n",
    "greet(\"kisan\")"
   ]
  },
  {
   "cell_type": "code",
   "execution_count": 2,
   "id": "1ffba289-6345-4225-a0dd-c318f6969fec",
   "metadata": {},
   "outputs": [
    {
     "name": "stdout",
     "output_type": "stream",
     "text": [
      "Hello, my name is Jane!\n"
     ]
    }
   ],
   "source": [
    "# Method\n",
    "class Person:\n",
    "    def __init__(self, name):\n",
    "        self.name = name\n",
    "    def greet(self):\n",
    "        print(f\"Hello, my name is {self.name}!\")\n",
    "person = Person(\"Jane\")\n",
    "person.greet()"
   ]
  },
  {
   "cell_type": "markdown",
   "id": "6af0b8d6-8e10-4283-ad15-f8f675c0438e",
   "metadata": {},
   "source": [
    "Q2. Explain the concept of function arguments and parameters in Python?\n",
    "\n",
    "Ans:- In Python, functions can take arguments, which are values passed to the function when it's called. These arguments are assigned to parameters, which are variables that receive the argument values within the function.\n",
    "\n",
    "\n",
    "Function Parameters:\n",
    "\n",
    "- Parameters are defined in the function definition.\n",
    "- They are variables that receive the argument values.\n",
    "- Parameters can have default values.\n",
    "\n",
    "\n",
    "Function Arguments:\n",
    "\n",
    "- Arguments are values passed to the function when it's called.\n",
    "- Arguments can be literals, variables, or expressions.\n",
    "- The number and types of arguments must match the function's parameters.\n"
   ]
  },
  {
   "cell_type": "code",
   "execution_count": 3,
   "id": "42391552-19fa-42ae-9b22-2b4d46756711",
   "metadata": {},
   "outputs": [
    {
     "name": "stdout",
     "output_type": "stream",
     "text": [
      "Hello, kisan! You are 24 years old.\n"
     ]
    }
   ],
   "source": [
    "##Types of Function Arguments:\n",
    "\n",
    "#Positional Arguments: Passed in the same order as the parameters.\n",
    "\n",
    "def greet(name, age):\n",
    "    print(f\"Hello, {name}! You are {age} years old.\")\n",
    "greet(\"kisan\", 24)  # Positional arguments"
   ]
  },
  {
   "cell_type": "code",
   "execution_count": 4,
   "id": "5270415f-f553-455a-bddc-6fae36da5426",
   "metadata": {},
   "outputs": [
    {
     "name": "stdout",
     "output_type": "stream",
     "text": [
      "Hello, kisan! You are 24 years old.\n"
     ]
    }
   ],
   "source": [
    "##Keyword Arguments: Passed using the parameter name.\n",
    "def greet(name, age):\n",
    "    print(f\"Hello, {name}! You are {age} years old.\")\n",
    "greet(name=\"kisan\", age=24)  # Keyword arguments"
   ]
  },
  {
   "cell_type": "code",
   "execution_count": 5,
   "id": "5a7cc8e9-6b5c-45f3-a1b5-e36552fe3ad3",
   "metadata": {},
   "outputs": [
    {
     "name": "stdout",
     "output_type": "stream",
     "text": [
      "Hello, kisan! You are 30 years old.\n"
     ]
    }
   ],
   "source": [
    "##Default Arguments: Parameters with default values.\n",
    "def greet(name, age=30):\n",
    "    print(f\"Hello, {name}! You are {age} years old.\")\n",
    "greet(\"kisan\")  # age defaults to 30"
   ]
  },
  {
   "cell_type": "code",
   "execution_count": 6,
   "id": "e5859b67-d33e-4c3d-a496-c7085a49a493",
   "metadata": {},
   "outputs": [
    {
     "name": "stdout",
     "output_type": "stream",
     "text": [
      "Hello, kisan!\n",
      "How are you?\n",
      "age: 24\n",
      "city: Durgapur\n"
     ]
    }
   ],
   "source": [
    "##Variable-Length Arguments: Using *args and **kwargs.\n",
    "\n",
    "def greet(name, *args, **kwargs):\n",
    "    print(f\"Hello, {name}!\")\n",
    "    for arg in args:\n",
    "        print(arg)\n",
    "    for key, value in kwargs.items():\n",
    "        print(f\"{key}: {value}\")\n",
    "greet(\"kisan\", \"How are you?\", age=24, city=\"Durgapur\")\n"
   ]
  },
  {
   "cell_type": "markdown",
   "id": "e69eea56-42e9-48cc-94d9-3c8f4173de1c",
   "metadata": {},
   "source": [
    "Q3. What are the different ways to define and call a function in Python?\n",
    "\n",
    "Ans:-In Python, you can define and call functions in several ways:\n",
    "\n",
    ">>Defining Functions"
   ]
  },
  {
   "cell_type": "code",
   "execution_count": 7,
   "id": "c040fad3-f655-4b03-82c3-7f97a96922c3",
   "metadata": {},
   "outputs": [
    {
     "name": "stdout",
     "output_type": "stream",
     "text": [
      "Hello, kisan!\n"
     ]
    }
   ],
   "source": [
    "#Standard Function Definition\n",
    "\n",
    "def greet(name):\n",
    "    print(f\"Hello, {name}!\")\n",
    "greet(\"kisan\")"
   ]
  },
  {
   "cell_type": "code",
   "execution_count": 8,
   "id": "179a708c-0fbe-4793-878e-0ac067c277e9",
   "metadata": {},
   "outputs": [
    {
     "name": "stdout",
     "output_type": "stream",
     "text": [
      "Hello, kisan!\n"
     ]
    }
   ],
   "source": [
    "#Lambda Functions (Anonymous Functions)\n",
    "\n",
    "greet = lambda name: print(f\"Hello, {name}!\")\n",
    "greet(\"kisan\")"
   ]
  },
  {
   "cell_type": "code",
   "execution_count": 11,
   "id": "28eceffb-59a5-413a-a8d2-b6f180ce3ce2",
   "metadata": {},
   "outputs": [
    {
     "name": "stdout",
     "output_type": "stream",
     "text": [
      "Hello, kisan!\n"
     ]
    }
   ],
   "source": [
    "#Nested Functions\n",
    "\n",
    "def outer_function():\n",
    "    def inner_function(name):\n",
    "        print(f\"Hello, {name}!\")\n",
    "    inner_function(\"kisan\")  \n",
    "outer_function()"
   ]
  },
  {
   "cell_type": "code",
   "execution_count": 17,
   "id": "5516b620-aee0-4b2e-a21e-3ba609f77c50",
   "metadata": {},
   "outputs": [
    {
     "name": "stdout",
     "output_type": "stream",
     "text": [
      "0\n",
      "1\n"
     ]
    }
   ],
   "source": [
    "#Generator Functions (Using yield)\n",
    "\n",
    "def infinite_sequence():\n",
    "    num = 0\n",
    "    while True:\n",
    "        yield num\n",
    "        num += 1\n",
    "seq = infinite_sequence()\n",
    "print(next(seq))  \n",
    "print(next(seq))  "
   ]
  },
  {
   "cell_type": "markdown",
   "id": "ee525019-7f40-44a9-a9ce-55a24c2bc3a8",
   "metadata": {},
   "source": [
    ">>Calling Functions\n"
   ]
  },
  {
   "cell_type": "code",
   "execution_count": 33,
   "id": "0efb0b3a-d3c9-4251-a6c8-3126c659900f",
   "metadata": {},
   "outputs": [
    {
     "name": "stdout",
     "output_type": "stream",
     "text": [
      "Hello, kisan!\n"
     ]
    }
   ],
   "source": [
    "#Standard Function Call\n",
    "\n",
    "\n",
    "def greet(name):\n",
    "    print(f\"Hello, {name}!\")\n",
    "greet(\"kisan\")"
   ]
  },
  {
   "cell_type": "code",
   "execution_count": 34,
   "id": "347da572-c847-4522-b3c6-c38d785c6302",
   "metadata": {},
   "outputs": [
    {
     "name": "stdout",
     "output_type": "stream",
     "text": [
      "Hello, kisan! You are 24 years old.\n"
     ]
    }
   ],
   "source": [
    "#Function Call with Arguments\n",
    "\n",
    "\n",
    "def greet(name, age):\n",
    "    print(f\"Hello, {name}! You are {age} years old.\")\n",
    "\n",
    "greet(\"kisan\", 24)"
   ]
  },
  {
   "cell_type": "code",
   "execution_count": 36,
   "id": "24ab420a-022e-479d-91a3-9cf64cfb03fd",
   "metadata": {},
   "outputs": [
    {
     "name": "stdout",
     "output_type": "stream",
     "text": [
      "Hello, kisan! You are 24 years old.\n"
     ]
    }
   ],
   "source": [
    "#Function Call with Keyword Arguments\n",
    "\n",
    "def greet(name, age):\n",
    "    print(f\"Hello, {name}! You are {age} years old.\")\n",
    "\n",
    "greet(name=\"kisan\", age=24)"
   ]
  },
  {
   "cell_type": "code",
   "execution_count": 37,
   "id": "261a7a82-9984-434e-b421-e8549e7e7cb6",
   "metadata": {},
   "outputs": [
    {
     "name": "stdout",
     "output_type": "stream",
     "text": [
      "Hello, kisan! You are 24 years old.\n"
     ]
    }
   ],
   "source": [
    "#Function Call with Default Argument Values\n",
    "\n",
    "def greet(name, age=24):\n",
    "    print(f\"Hello, {name}! You are {age} years old.\")\n",
    "greet(\"kisan\")"
   ]
  },
  {
   "cell_type": "code",
   "execution_count": 38,
   "id": "d8ac247c-44eb-432e-98b3-65f94bc0dfd7",
   "metadata": {},
   "outputs": [
    {
     "name": "stdout",
     "output_type": "stream",
     "text": [
      "Hello, kisan!\n",
      "How are you?\n",
      "24\n"
     ]
    }
   ],
   "source": [
    "#Function Call with Variable-Length Argument Lists\n",
    "\n",
    "def greet(name, *args):\n",
    "    print(f\"Hello, {name}!\")\n",
    "    for arg in args:\n",
    "        print(arg)\n",
    "greet(\"kisan\", \"How are you?\", 24)"
   ]
  },
  {
   "cell_type": "markdown",
   "id": "c002035f-fab7-494f-8a5b-50825fd3e07d",
   "metadata": {},
   "source": [
    "Q4. What is the purpose of the `return` statement in a Python function?\n",
    "\n",
    "Ans:- The return statement in a Python function serves several purposes:\n",
    "\n",
    "1. Exiting the function: When a return statement is encountered, the function execution is terminated, and control is returned to the caller.\n",
    "\n",
    "2. Returning values: The return statement can be used to return values from a function. The value can be an expression, a variable, or a literal.\n",
    "\n",
    "3. Returning multiple values: Python allows functions to return multiple values using the return statement. This is achieved by separating the values with commas.\n",
    "\n",
    "4. Returning None: If a function does not explicitly return a value, it will return None by default.\n"
   ]
  },
  {
   "cell_type": "code",
   "execution_count": 39,
   "id": "de65fb8b-c0cc-4125-8346-2cbc9dc531fe",
   "metadata": {},
   "outputs": [
    {
     "name": "stdout",
     "output_type": "stream",
     "text": [
      "Hello, John!\n"
     ]
    }
   ],
   "source": [
    "#Examples\n",
    "\n",
    "#Returning a single value\n",
    "\n",
    "def greet(name):\n",
    "    return f\"Hello, {name}!\"\n",
    "print(greet(\"John\"))"
   ]
  },
  {
   "cell_type": "code",
   "execution_count": 40,
   "id": "f5e5f0b9-0307-40f0-a689-85dcc55d7a4a",
   "metadata": {},
   "outputs": [
    {
     "name": "stdout",
     "output_type": "stream",
     "text": [
      "Mean: 3.0, Median: 3\n"
     ]
    }
   ],
   "source": [
    "#Returning multiple values\n",
    "\n",
    "def calculate_stats(numbers):\n",
    "    mean = sum(numbers) / len(numbers)\n",
    "    median = sorted(numbers)[len(numbers) // 2]\n",
    "    return mean, median\n",
    "numbers = [1, 2, 3, 4, 5]\n",
    "mean, median = calculate_stats(numbers)\n",
    "print(f\"Mean: {mean}, Median: {median}\")"
   ]
  },
  {
   "cell_type": "markdown",
   "id": "627b933b-6330-4594-ab00-8d788c32335c",
   "metadata": {},
   "source": [
    "Q5. What are iterators in Python and how do they differ from iterables?\n",
    "\n",
    "Ans:- In Python, iterators and iterables are two related concepts that enable you to work with sequences of data, such as lists, tuples, dictionaries, and sets.\n",
    "\n",
    "Iterables\n",
    "\n",
    "An iterable is an object that can be iterated over, meaning you can traverse its elements one by one. Examples of iterables include:\n",
    "\n",
    "- Lists: [1, 2, 3]\n",
    "- Tuples: (1, 2, 3)\n",
    "- Dictionaries: {\"a\": 1, \"b\": 2}\n",
    "- Sets: {1, 2, 3}\n",
    "- Strings: \"hello\"\n"
   ]
  },
  {
   "cell_type": "code",
   "execution_count": 41,
   "id": "ddc92957-d170-4ae8-b4f0-b172ea6f4dbe",
   "metadata": {},
   "outputs": [
    {
     "name": "stdout",
     "output_type": "stream",
     "text": [
      "True\n"
     ]
    }
   ],
   "source": [
    "#Example\n",
    "from collections.abc import Iterable\n",
    "\n",
    "my_list = [1, 2, 3]\n",
    "print(isinstance(my_list, Iterable))  # Output: True"
   ]
  },
  {
   "cell_type": "markdown",
   "id": "74ae0181-c4ba-48b8-8e7c-22493c67f3b6",
   "metadata": {},
   "source": [
    "Iterators\n",
    "\n",
    "An iterator is an object that keeps track of its position within an iterable and returns the next element each time it's called. You can think of an iterator as a pointer that moves through the iterable, yielding each element one by one.\n",
    "\n",
    "To create an iterator from an iterable, you can use the iter() function:"
   ]
  },
  {
   "cell_type": "code",
   "execution_count": 42,
   "id": "090795f9-ef57-45b7-8f04-3633b0436544",
   "metadata": {},
   "outputs": [
    {
     "name": "stdout",
     "output_type": "stream",
     "text": [
      "1\n",
      "2\n",
      "3\n"
     ]
    }
   ],
   "source": [
    "#Example\n",
    "my_list = [1, 2, 3]\n",
    "my_iterator = iter(my_list)\n",
    "print(next(my_iterator))  \n",
    "print(next(my_iterator))  \n",
    "print(next(my_iterator)) "
   ]
  },
  {
   "cell_type": "markdown",
   "id": "2629f3f8-fef2-40fc-8cff-292423a33516",
   "metadata": {},
   "source": [
    "Key differences between iterators and iterables\n",
    "\n",
    "1. Purpose: An iterable is a collection of elements that can be iterated over, while an iterator is an object that keeps track of its position within an iterable and returns the next element.\n",
    "2. Creation: An iterable is created using a literal syntax (e.g., [1, 2, 3]) or a constructor function (e.g., list()), while an iterator is created using the iter() function.\n",
    "3. Behavior: An iterable can be iterated over multiple times, while an iterator can only be iterated over once. Once an iterator is exhausted, it cannot be reused.\n"
   ]
  },
  {
   "cell_type": "markdown",
   "id": "a62439d4-9c1f-4362-83f4-c983fe2a7f32",
   "metadata": {},
   "source": [
    "Q6. Explain the concept of generators in Python and how they are defined?\n",
    "\n",
    "Ans:- In Python, a generator is a special type of function that can be used to generate a sequence of values instead of computing them all at once and returning them in a list, for example.\n",
    "\n",
    "Defining a Generator\n",
    "\n",
    "A generator is defined using a function definition, but instead of using the return statement to return a value, you use the yield statement to produce a value."
   ]
  },
  {
   "cell_type": "code",
   "execution_count": 43,
   "id": "1c2803e6-0246-4719-9873-35044e28a105",
   "metadata": {},
   "outputs": [
    {
     "name": "stdout",
     "output_type": "stream",
     "text": [
      "0\n",
      "1\n",
      "2\n",
      "3\n",
      "4\n",
      "5\n",
      "6\n",
      "7\n",
      "8\n",
      "9\n"
     ]
    }
   ],
   "source": [
    "#Example\n",
    "\n",
    "def infinite_sequence():\n",
    "    num = 0\n",
    "    while True:\n",
    "        yield num\n",
    "        num += 1\n",
    "gen = infinite_sequence()       # Create a generator object\n",
    "for _ in range(10):                 # Print the first 10 values\n",
    "    print(next(gen))\n"
   ]
  },
  {
   "cell_type": "markdown",
   "id": "15035f38-d50c-4720-8a3d-98b1cf2718c2",
   "metadata": {},
   "source": [
    "How Generators Work\n",
    "\n",
    "When a generator is called, it doesn't execute immediately. Instead, it returns a generator object, which is an iterator that produces values on demand.\n",
    "\n",
    "When you call next() on a generator object, it executes the generator function until it reaches the first yield statement, at which point it returns the yielded value. The generator function's execution is then suspended until the next next() call.\n",
    "\n",
    "Benefits of Generators\n",
    "\n",
    "Generators have several benefits, including:\n",
    "\n",
    "1. Memory Efficiency: Generators only store the current state of the iteration, making them memory-efficient for large datasets.\n",
    "2. Lazy Evaluation: Generators only compute values on demand, which can improve performance by avoiding unnecessary computations.\n",
    "3. Flexibility: Generators can be used to implement complex iteration logic and can be easily composed with other generators.\n"
   ]
  },
  {
   "cell_type": "markdown",
   "id": "0673f279-14fb-4d4e-8eed-17348a1a53f7",
   "metadata": {},
   "source": [
    "Q7. What are the advantages of using generators over regular functions?\n",
    "\n",
    "Ans:-Generators have several advantages over regular functions:\n",
    "\n",
    "Advantages of Generators\n",
    "\n",
    "1. Memory Efficiency\n",
    "\n",
    "Generators use significantly less memory than regular functions because they only store the current state of the iteration, rather than storing the entire sequence of values.\n",
    "\n",
    "2. Lazy Evaluation\n",
    "\n",
    "Generators only compute values on demand, which can improve performance by avoiding unnecessary computations. This is particularly useful when working with large datasets.\n",
    "\n",
    "3. Flexibility\n",
    "\n",
    "Generators can be used to implement complex iteration logic and can be easily composed with other generators.\n",
    "\n",
    "4. Infinite Sequences\n",
    "\n",
    "Generators can be used to handle infinite sequences, such as generating prime numbers or Fibonacci numbers on the fly.\n",
    "\n",
    "5. Cooperative Multitasking\n",
    "\n",
    "Generators can be used to implement cooperative multitasking, where tasks yield control to each other voluntarily.\n",
    "\n",
    "6. Improved Performance\n",
    "\n",
    "Generators can improve performance by reducing the overhead of creating and destroying objects.\n",
    "\n",
    "7. Simplified Code\n",
    "\n",
    "Generators can simplify code by eliminating the need for explicit loops and indexing."
   ]
  },
  {
   "cell_type": "code",
   "execution_count": 4,
   "id": "60cde338-05db-4880-ac6c-63507b867d05",
   "metadata": {},
   "outputs": [
    {
     "name": "stdout",
     "output_type": "stream",
     "text": [
      "Fibonacci sequence:\n",
      "0\n",
      "1\n",
      "1\n",
      "2\n",
      "3\n",
      "5\n",
      "8\n",
      "13\n",
      "21\n",
      "34\n"
     ]
    }
   ],
   "source": [
    "#Example\n",
    "\n",
    "n = 10\n",
    "print(\"Fibonacci sequence:\")\n",
    "for num in fibonacci(n):\n",
    "    print(num)"
   ]
  },
  {
   "cell_type": "markdown",
   "id": "68ee387e-c6c1-4e16-b314-d574cbe87009",
   "metadata": {},
   "source": [
    "Q8. What is a lambda function in Python and when is it typically used?\n",
    "\n",
    "Ans:-In Python, a lambda function is a small, anonymous function that can be defined inline within a larger expression. It's called \"anonymous\" because it's not declared with a def statement, which means it doesn't have a name.\n",
    "\n",
    "The syntax for a lambda function is:\n",
    "\n",
    "lambda arguments: expression\n",
    "\n",
    "Where:\n",
    "\n",
    "- arguments is a comma-separated list of variables that will be passed to the function.\n",
    "- expression is the code that will be executed when the function is called.\n",
    "\n",
    "When to use lambda functions\n",
    "\n",
    "Lambda functions are typically used when:\n",
    "\n",
    "1. You need a small, one-time-use function: Lambda functions are perfect for situations where you need a simple function that will only be used once.\n",
    "2. You want to pass a function as an argument: Lambda functions can be passed as arguments to higher-order functions, such as map(), filter(), and reduce().\n",
    "3. You need to define a function inline: Lambda functions can be defined directly within a larger expression, making your code more concise."
   ]
  },
  {
   "cell_type": "code",
   "execution_count": 7,
   "id": "a6c47774-3abb-4d7f-bdfb-f108437a20e0",
   "metadata": {},
   "outputs": [
    {
     "name": "stdout",
     "output_type": "stream",
     "text": [
      "10\n"
     ]
    }
   ],
   "source": [
    "#Example\n",
    "double = lambda x:x * 2\n",
    "print(double(5))"
   ]
  },
  {
   "cell_type": "markdown",
   "id": "2e8ea28d-4dfd-41ae-8eae-7870a1622f08",
   "metadata": {},
   "source": [
    "Q9. Explain the purpose and usage of the `map()` function in Python?\n",
    "\n",
    "Ans:-In Python, the map() function is a built-in function that applies a given function to each item of an iterable (such as a list, tuple, or string) and returns a map object, which is an iterator.\n",
    "\n",
    "The primary purpose of the map() function is to:\n",
    "\n",
    "1. Apply a transformation: Apply a given function to each item of an iterable, transforming the data in some way.\n",
    "2. Create a new iterable: Return a new iterable (a map object) that yields the transformed values.\n",
    "\n",
    "Usage\n",
    "\n",
    "The general syntax of the map() function is:\n",
    "\n",
    "map(function, iterable)\n",
    "\n",
    "Where:\n",
    "\n",
    "- function is the function you want to apply to each item of the iterable.\n",
    "- iterable is the iterable (such as a list, tuple, or string) that you want to transform."
   ]
  },
  {
   "cell_type": "code",
   "execution_count": 8,
   "id": "5c54c82c-2945-46b0-ab8d-bac4c6f11a27",
   "metadata": {},
   "outputs": [
    {
     "name": "stdout",
     "output_type": "stream",
     "text": [
      "[1, 4, 9, 16, 25]\n"
     ]
    }
   ],
   "source": [
    "#Example\n",
    "\n",
    "def square(x):\n",
    "    return x ** 2\n",
    "numbers = [1, 2, 3, 4, 5]\n",
    "squared_numbers = list(map(square, numbers))\n",
    "print(squared_numbers)"
   ]
  },
  {
   "cell_type": "markdown",
   "id": "76d06c1b-59c0-4fc0-be04-69e06c09a3dc",
   "metadata": {},
   "source": [
    "Q10. What is the difference between `map()`, `reduce()`, and `filter()` functions in Python?\n",
    "\n",
    "Ans:-In Python, map(), reduce(), and filter() are three fundamental functions that operate on iterables (such as lists, tuples, or strings). While they share some similarities, each function serves a distinct purpose.\n",
    "\n",
    "1. map() function\n",
    "\n",
    "The map() function applies a given function to each item of an iterable and returns a new iterable with the transformed values.\n",
    "\n",
    "Syntax:\n",
    " \n",
    "  map(function, iterable)\n",
    "  \n",
    "Purpose: \n",
    "\n",
    "Transform each item in an iterable using a given function."
   ]
  },
  {
   "cell_type": "code",
   "execution_count": 10,
   "id": "d1507429-5512-4df4-89e5-7aed128ff87e",
   "metadata": {},
   "outputs": [
    {
     "name": "stdout",
     "output_type": "stream",
     "text": [
      "[1, 4, 9]\n"
     ]
    }
   ],
   "source": [
    "#Example\n",
    "numbers = [1, 2, 3];\n",
    "squared_numbers = list(map(lambda x: x ** 2, numbers))\n",
    "print(squared_numbers)"
   ]
  },
  {
   "cell_type": "markdown",
   "id": "64aacb4c-8782-4c1e-8a4d-b76abef8419d",
   "metadata": {},
   "source": [
    "2. reduce() function\n",
    "\n",
    "The reduce() function applies a given function to the first two items of an iterable, then to the result and the next item, and so on, until only one item remains.\n",
    "\n",
    "Syntax:\n",
    "   reduce(function, iterable)\n",
    "   \n",
    "Purpose:\n",
    "    Reduce an iterable to a single value by applying a given function."
   ]
  },
  {
   "cell_type": "code",
   "execution_count": 11,
   "id": "1c42d576-9277-4a4a-9e88-c3568e7677ff",
   "metadata": {},
   "outputs": [
    {
     "name": "stdout",
     "output_type": "stream",
     "text": [
      "6\n"
     ]
    }
   ],
   "source": [
    "#Example\n",
    "import functools;\n",
    "numbers = [1, 2, 3];\n",
    "sum_of_numbers = functools.reduce(lambda x, y: x + y, numbers)\n",
    "print(sum_of_numbers)"
   ]
  },
  {
   "cell_type": "markdown",
   "id": "b810d7e5-23d2-470e-9d24-bfb5f471ee09",
   "metadata": {},
   "source": [
    "3. filter() function\n",
    "\n",
    "The filter() function constructs an iterator from elements of an iterable for which a given function returns True.\n",
    "\n",
    "Syntax:\n",
    "    filter(function, iterable)\n",
    "Purpose: \n",
    "    Filter an iterable to include only items for which a given function returns True."
   ]
  },
  {
   "cell_type": "code",
   "execution_count": 18,
   "id": "02fc4c6b-9ade-4e7f-a7f1-56b6ddc266a8",
   "metadata": {},
   "outputs": [
    {
     "name": "stdout",
     "output_type": "stream",
     "text": [
      "[2, 4]\n"
     ]
    }
   ],
   "source": [
    "#Example\n",
    "num = [1, 2, 3, 4, 5];\n",
    "even_nums = list(filter(lambda x: x % 2 == 0, num))\n",
    "print(even_nums)"
   ]
  },
  {
   "cell_type": "markdown",
   "id": "6c577b31-6af4-4962-8d06-fd3a5d467244",
   "metadata": {},
   "source": [
    "Q11. Using pen & Paper write the internal mechanism for sum operation using  reduce function on this given\n",
    "list:[47,11,42,13]?\n",
    "\n",
    "Ans:- *Answer is attached in the google doc link........*\n"
   ]
  },
  {
   "cell_type": "markdown",
   "id": "d4f43bc8-3eb5-4c96-9373-33e6e56151a8",
   "metadata": {},
   "source": [
    ">>Practical Questions"
   ]
  },
  {
   "cell_type": "code",
   "execution_count": 61,
   "id": "4131f58e-f035-4c6b-9b92-ec4e82f247d9",
   "metadata": {},
   "outputs": [
    {
     "name": "stdout",
     "output_type": "stream",
     "text": [
      "sum of even numbers: 12\n"
     ]
    },
    {
     "data": {
      "text/plain": [
       "\u001b[1;31mInit signature:\u001b[0m \u001b[0mlist\u001b[0m\u001b[1;33m(\u001b[0m\u001b[0miterable\u001b[0m\u001b[1;33m=\u001b[0m\u001b[1;33m(\u001b[0m\u001b[1;33m)\u001b[0m\u001b[1;33m,\u001b[0m \u001b[1;33m/\u001b[0m\u001b[1;33m)\u001b[0m\u001b[1;33m\u001b[0m\u001b[1;33m\u001b[0m\u001b[0m\n",
       "\u001b[1;31mDocstring:\u001b[0m     \n",
       "Built-in mutable sequence.\n",
       "\n",
       "If no argument is given, the constructor creates a new empty list.\n",
       "The argument must be an iterable if specified.\n",
       "\u001b[1;31mType:\u001b[0m           type\n",
       "\u001b[1;31mSubclasses:\u001b[0m     _List, _HashedSeq, StackSummary, _Threads, ConvertingList, DeferredConfigList, _ymd, SList, _ImmutableLineList, FormattedText, ..."
      ]
     },
     "metadata": {},
     "output_type": "display_data"
    }
   ],
   "source": [
    "#1. Write a Python function that takes a list of numbers as input and returns the sum of all even numbers in\n",
    "the list?\n",
    "\n",
    "def sum_even_numbers(numbers):\n",
    "    even_sum = 0\n",
    "    for num in numbers:\n",
    "        if num % 2 == 0:\n",
    "            even_sum += num\n",
    "    return even_sum\n",
    "numbers = [1, 2, 3, 4, 5, 6]       \n",
    "result = sum_even_numbers(numbers)\n",
    "print(\"sum of even numbers:\", result)"
   ]
  },
  {
   "cell_type": "code",
   "execution_count": 62,
   "id": "81d77288-1778-42ab-801b-1b81c83b040d",
   "metadata": {},
   "outputs": [
    {
     "name": "stdout",
     "output_type": "stream",
     "text": [
      "!dlroW ,olleH\n"
     ]
    }
   ],
   "source": [
    "#2. Create a Python function that accepts a string and returns the reverse of that string?\n",
    "\n",
    "def reverse_string(input_string):\n",
    "    input_str = \"Hello, World!\"\n",
    "    return input_string[::-1]\n",
    "reversed_str = reverse_string(input_str)\n",
    "print(reversed_str)"
   ]
  },
  {
   "cell_type": "code",
   "execution_count": 63,
   "id": "fd63ffac-ef08-4ed2-917d-6a127d13c031",
   "metadata": {},
   "outputs": [
    {
     "name": "stdout",
     "output_type": "stream",
     "text": [
      "[1, 4, 9, 16, 25]\n"
     ]
    }
   ],
   "source": [
    "#3. Implement a Python function that takes a list of integers and returns a new list containing the squares of each number?\n",
    "\n",
    "def square_numbers(numbers):\n",
    "    numbers = [1, 2, 3, 4, 5]\n",
    "    return [num ** 2 for num in numbers]\n",
    "squared_numbers = square_numbers(numbers)\n",
    "print(squared_numbers)"
   ]
  },
  {
   "cell_type": "code",
   "execution_count": 64,
   "id": "892f51a1-03a2-44bc-8300-dac44dc0dfde",
   "metadata": {},
   "outputs": [
    {
     "name": "stdout",
     "output_type": "stream",
     "text": [
      "1 is not a prime number\n",
      "2 is a prime number\n",
      "3 is a prime number\n",
      "4 is not a prime number\n",
      "5 is a prime number\n",
      "6 is not a prime number\n",
      "7 is a prime number\n",
      "8 is not a prime number\n",
      "9 is not a prime number\n",
      "10 is not a prime number\n",
      "11 is a prime number\n",
      "12 is not a prime number\n",
      "13 is a prime number\n",
      "14 is not a prime number\n",
      "15 is not a prime number\n",
      "16 is not a prime number\n",
      "17 is a prime number\n",
      "18 is not a prime number\n",
      "19 is a prime number\n",
      "20 is not a prime number\n",
      "21 is not a prime number\n",
      "22 is not a prime number\n",
      "23 is a prime number\n",
      "24 is not a prime number\n",
      "25 is not a prime number\n",
      "26 is not a prime number\n",
      "27 is not a prime number\n",
      "28 is not a prime number\n",
      "29 is a prime number\n",
      "30 is not a prime number\n",
      "31 is a prime number\n",
      "32 is not a prime number\n",
      "33 is not a prime number\n",
      "34 is not a prime number\n",
      "35 is not a prime number\n",
      "36 is not a prime number\n",
      "37 is a prime number\n",
      "38 is not a prime number\n",
      "39 is not a prime number\n",
      "40 is not a prime number\n",
      "41 is a prime number\n",
      "42 is not a prime number\n",
      "43 is a prime number\n",
      "44 is not a prime number\n",
      "45 is not a prime number\n",
      "46 is not a prime number\n",
      "47 is a prime number\n",
      "48 is not a prime number\n",
      "49 is not a prime number\n",
      "50 is not a prime number\n",
      "51 is not a prime number\n",
      "52 is not a prime number\n",
      "53 is a prime number\n",
      "54 is not a prime number\n",
      "55 is not a prime number\n",
      "56 is not a prime number\n",
      "57 is not a prime number\n",
      "58 is not a prime number\n",
      "59 is a prime number\n",
      "60 is not a prime number\n",
      "61 is a prime number\n",
      "62 is not a prime number\n",
      "63 is not a prime number\n",
      "64 is not a prime number\n",
      "65 is not a prime number\n",
      "66 is not a prime number\n",
      "67 is a prime number\n",
      "68 is not a prime number\n",
      "69 is not a prime number\n",
      "70 is not a prime number\n",
      "71 is a prime number\n",
      "72 is not a prime number\n",
      "73 is a prime number\n",
      "74 is not a prime number\n",
      "75 is not a prime number\n",
      "76 is not a prime number\n",
      "77 is not a prime number\n",
      "78 is not a prime number\n",
      "79 is a prime number\n",
      "80 is not a prime number\n",
      "81 is not a prime number\n",
      "82 is not a prime number\n",
      "83 is a prime number\n",
      "84 is not a prime number\n",
      "85 is not a prime number\n",
      "86 is not a prime number\n",
      "87 is not a prime number\n",
      "88 is not a prime number\n",
      "89 is a prime number\n",
      "90 is not a prime number\n",
      "91 is not a prime number\n",
      "92 is not a prime number\n",
      "93 is not a prime number\n",
      "94 is not a prime number\n",
      "95 is not a prime number\n",
      "96 is not a prime number\n",
      "97 is a prime number\n",
      "98 is not a prime number\n",
      "99 is not a prime number\n",
      "100 is not a prime number\n",
      "101 is a prime number\n",
      "102 is not a prime number\n",
      "103 is a prime number\n",
      "104 is not a prime number\n",
      "105 is not a prime number\n",
      "106 is not a prime number\n",
      "107 is a prime number\n",
      "108 is not a prime number\n",
      "109 is a prime number\n",
      "110 is not a prime number\n",
      "111 is not a prime number\n",
      "112 is not a prime number\n",
      "113 is a prime number\n",
      "114 is not a prime number\n",
      "115 is not a prime number\n",
      "116 is not a prime number\n",
      "117 is not a prime number\n",
      "118 is not a prime number\n",
      "119 is not a prime number\n",
      "120 is not a prime number\n",
      "121 is not a prime number\n",
      "122 is not a prime number\n",
      "123 is not a prime number\n",
      "124 is not a prime number\n",
      "125 is not a prime number\n",
      "126 is not a prime number\n",
      "127 is a prime number\n",
      "128 is not a prime number\n",
      "129 is not a prime number\n",
      "130 is not a prime number\n",
      "131 is a prime number\n",
      "132 is not a prime number\n",
      "133 is not a prime number\n",
      "134 is not a prime number\n",
      "135 is not a prime number\n",
      "136 is not a prime number\n",
      "137 is a prime number\n",
      "138 is not a prime number\n",
      "139 is a prime number\n",
      "140 is not a prime number\n",
      "141 is not a prime number\n",
      "142 is not a prime number\n",
      "143 is not a prime number\n",
      "144 is not a prime number\n",
      "145 is not a prime number\n",
      "146 is not a prime number\n",
      "147 is not a prime number\n",
      "148 is not a prime number\n",
      "149 is a prime number\n",
      "150 is not a prime number\n",
      "151 is a prime number\n",
      "152 is not a prime number\n",
      "153 is not a prime number\n",
      "154 is not a prime number\n",
      "155 is not a prime number\n",
      "156 is not a prime number\n",
      "157 is a prime number\n",
      "158 is not a prime number\n",
      "159 is not a prime number\n",
      "160 is not a prime number\n",
      "161 is not a prime number\n",
      "162 is not a prime number\n",
      "163 is a prime number\n",
      "164 is not a prime number\n",
      "165 is not a prime number\n",
      "166 is not a prime number\n",
      "167 is a prime number\n",
      "168 is not a prime number\n",
      "169 is not a prime number\n",
      "170 is not a prime number\n",
      "171 is not a prime number\n",
      "172 is not a prime number\n",
      "173 is a prime number\n",
      "174 is not a prime number\n",
      "175 is not a prime number\n",
      "176 is not a prime number\n",
      "177 is not a prime number\n",
      "178 is not a prime number\n",
      "179 is a prime number\n",
      "180 is not a prime number\n",
      "181 is a prime number\n",
      "182 is not a prime number\n",
      "183 is not a prime number\n",
      "184 is not a prime number\n",
      "185 is not a prime number\n",
      "186 is not a prime number\n",
      "187 is not a prime number\n",
      "188 is not a prime number\n",
      "189 is not a prime number\n",
      "190 is not a prime number\n",
      "191 is a prime number\n",
      "192 is not a prime number\n",
      "193 is a prime number\n",
      "194 is not a prime number\n",
      "195 is not a prime number\n",
      "196 is not a prime number\n",
      "197 is a prime number\n",
      "198 is not a prime number\n",
      "199 is a prime number\n",
      "200 is not a prime number\n"
     ]
    }
   ],
   "source": [
    "#4. Write a Python function that checks if a given number is prime or not from 1 to 200?\n",
    "\n",
    "\n",
    "def check_prime(n):\n",
    "    if n <= 1:\n",
    "        return False\n",
    "    for i in range(2, int(n ** 0.5) + 1):\n",
    "        if n % i == 0:\n",
    "            return False\n",
    "    return True\n",
    "\n",
    "for num in range(1, 201):\n",
    "    if check_prime(num):\n",
    "        print(f\"{num} is a prime number\")\n",
    "    else:\n",
    "     print(f\"{num} is not a prime number\")\n"
   ]
  },
  {
   "cell_type": "code",
   "execution_count": 65,
   "id": "32a3b214-a7dc-4bf5-b1f3-795ff0eec4a3",
   "metadata": {},
   "outputs": [
    {
     "name": "stdout",
     "output_type": "stream",
     "text": [
      "F(0) = 0\n",
      "F(1) = 1\n",
      "F(2) = 1\n",
      "F(3) = 2\n",
      "F(4) = 3\n",
      "F(5) = 5\n",
      "F(6) = 8\n",
      "F(7) = 13\n",
      "F(8) = 21\n",
      "F(9) = 34\n"
     ]
    }
   ],
   "source": [
    "#5. Create an iterator class in Python that generates the Fibonacci sequence up to a specified number of terms?\n",
    "\n",
    "class FibonacciIterator:\n",
    "    def __init__(self, n):\n",
    "        self.n = n\n",
    "        self.a, self.b = 0, 1\n",
    "        self.current_term = 0\n",
    "\n",
    "    def __iter__(self):\n",
    "        return self\n",
    "\n",
    "    def __next__(self):\n",
    "        if self.current_term >= self.n:\n",
    "            raise StopIteration\n",
    "        result = self.a\n",
    "        self.a, self.b = self.b, self.a + self.b\n",
    "        self.current_term += 1\n",
    "        return result\n",
    "\n",
    "n = 10\n",
    "fib_iterator = FibonacciIterator(n)\n",
    "\n",
    "for i, term in enumerate(fib_iterator):\n",
    "    print(f\"F({i}) = {term}\")"
   ]
  },
  {
   "cell_type": "code",
   "execution_count": 66,
   "id": "d48983e6-a97d-464a-a043-aac04b8b5b10",
   "metadata": {},
   "outputs": [
    {
     "name": "stdout",
     "output_type": "stream",
     "text": [
      "1\n",
      "2\n",
      "4\n",
      "8\n",
      "16\n",
      "32\n"
     ]
    }
   ],
   "source": [
    "#6.  Write a generator function in Python that yields the powers of 2 up to a given exponent?\n",
    "\n",
    "def powers_of_two(exponent):\n",
    "    for i in range(exponent + 1):\n",
    "        yield 2 ** i\n",
    "\n",
    "exponent = 5\n",
    "for power in powers_of_two(exponent):\n",
    "    print(power)"
   ]
  },
  {
   "cell_type": "code",
   "execution_count": 84,
   "id": "b5efcdef-d81f-4315-90ee-b86f225bbf43",
   "metadata": {
    "scrolled": true
   },
   "outputs": [
    {
     "name": "stdout",
     "output_type": "stream",
     "text": [
      "Line 1: 1.kisan\n",
      "Line 2: 2.bishal\n",
      "Line 3: 3.ram\n",
      "Line 4: 4.shubham\n",
      "Line 5: 5.shyam\n"
     ]
    }
   ],
   "source": [
    "#7. Implement a generator function that reads a file line by line and yields each line as a string?\n",
    "\n",
    "\n",
    "def read_file_lines(file_path):\n",
    "    with open(file_path, 'r') as file:\n",
    "        for line in file:\n",
    "            yield line.strip()\n",
    "\n",
    "file_path = 'my.txt'\n",
    "for index, line in enumerate(read_file_lines(file_path)):\n",
    "    print(f\"Line {index+1}: {line}\")\n"
   ]
  },
  {
   "cell_type": "code",
   "execution_count": 1,
   "id": "52d15241-a379-48a7-b43e-171be9ab2071",
   "metadata": {},
   "outputs": [
    {
     "name": "stdout",
     "output_type": "stream",
     "text": [
      "Sorted Tuples:\n",
      "(5, 1)\n",
      "(2, 4)\n",
      "(3, 6)\n",
      "(7, 8)\n",
      "(1, 9)\n"
     ]
    }
   ],
   "source": [
    "#8. Use a lambda function in Python to sort a list of tuples based on the second element of each tuple?\n",
    "\n",
    "tuples_list = [(3, 6), (1, 9), (2, 4), (5, 1), (7, 8)]\n",
    "sorted_tuples = sorted(tuples_list, key=lambda x: x[1])\n",
    "print(\"Sorted Tuples:\")\n",
    "for tuple in sorted_tuples:\n",
    "    print(tuple)"
   ]
  },
  {
   "cell_type": "code",
   "execution_count": 3,
   "id": "a23ef9a5-01b7-4b5d-ac45-cc5a2d1e2591",
   "metadata": {},
   "outputs": [
    {
     "name": "stdout",
     "output_type": "stream",
     "text": [
      "Celsius Temperatures: [0, 10, 20, 30, 40]\n",
      "Fahrenheit Temperatures: [32.0, 50.0, 68.0, 86.0, 104.0]\n"
     ]
    }
   ],
   "source": [
    "#9. Write a Python program that uses map() to convert a list of temperatures from Celsius to Fahrenheit?\n",
    "\n",
    "def celsius_to_fahrenheit(celsius):\n",
    "    return (celsius * 9/5) + 32\n",
    "celsius_temperatures = [0, 10, 20, 30, 40]\n",
    "fahrenheit_temperatures = list(map(celsius_to_fahrenheit, celsius_temperatures))\n",
    "print(\"Celsius Temperatures:\", celsius_temperatures)\n",
    "print(\"Fahrenheit Temperatures:\", fahrenheit_temperatures)"
   ]
  },
  {
   "cell_type": "code",
   "execution_count": 4,
   "id": "59fea412-9182-4aaa-a4e0-a2615be6c130",
   "metadata": {},
   "outputs": [
    {
     "name": "stdout",
     "output_type": "stream",
     "text": [
      "Original String: I Am Kisan Barnwal\n",
      "Vowel-Free String:  m Ksn Brnwl\n"
     ]
    }
   ],
   "source": [
    "#10. Create a Python program that uses filter() to remove all the vowels from a given string?\n",
    "\n",
    "def is_vowel(char):\n",
    "    vowels = 'aeiouAEIOU'\n",
    "    return char in vowels\n",
    "input_string = \"I Am Kisan Barnwal\"\n",
    "vowel_free_string = ''.join(filter(lambda char: not is_vowel(char), input_string))\n",
    "print(\"Original String:\", input_string)\n",
    "print(\"Vowel-Free String:\", vowel_free_string)"
   ]
  },
  {
   "cell_type": "code",
   "execution_count": null,
   "id": "e56fd20e-4130-4630-bf8f-8db0161b8473",
   "metadata": {},
   "outputs": [],
   "source": [
    "'''\n",
    "11.Imagine an accounting routine used in a book shop. It works on a list with sublists, which look like this: \n",
    "\n",
    "Order Number\t           Book Title and Author\t  Quantity\t   Price per Item\n",
    "34587\t                Learning Python, Mark Lutz\t     4\t             40.95\n",
    "98762\t               Programming Python, Mark Lutz\t 5\t             56.80\n",
    "77226\t               Head First Python, Paul Barry\t 3\t             32.95\n",
    "88112\t           Einführung in Python3, Bernd Klein\t 3\t             24.99\n",
    "\n",
    "\n",
    "Write a Python program, which returns a list with 2-tuples. Each tuple consists of a the order number and the product of the price per items and the quantity. The product should be increased by 10,- € if the value of the order is less than 100,00 €. \n",
    "Write a Python program using lambda and map.\n",
    "'''"
   ]
  },
  {
   "cell_type": "code",
   "execution_count": 1,
   "id": "c3bd0ec9-0309-49f9-beef-ac4be9391afe",
   "metadata": {},
   "outputs": [
    {
     "name": "stdout",
     "output_type": "stream",
     "text": [
      "Order 34587: Total = 139.96 €\n",
      "Order 98762: Total = 39.99 €\n",
      "Order 13579: Total = 49.98 €\n",
      "Order 24680: Total = 119.97 €\n"
     ]
    }
   ],
   "source": [
    "orders = [\n",
    "    [34587, \"Learning Python\", \"Books\", 4, 34.99],\n",
    "    [98762, \"Programming Cookbook\", \"Books\", 1, 29.99],\n",
    "    [13579, \"Python for Beginners\", \"Books\", 2, 19.99],\n",
    "    [24680, \"Data Structures\", \"Books\", 3, 39.99]\n",
    "]\n",
    "order_totals = list(map(\n",
    "    lambda order: (order[0], order[4] * order[3] + (10 if order[4] * order[3] < 100 else 0)),\n",
    "    orders\n",
    "))\n",
    "for order in order_totals:\n",
    "    print(f\"Order {order[0]}: Total = {order[1]:.2f} €\")\n"
   ]
  },
  {
   "cell_type": "code",
   "execution_count": 17,
   "id": "6a2e6fa4-a474-4ebb-ac60-3d69a151b3d2",
   "metadata": {},
   "outputs": [
    {
     "name": "stdout",
     "output_type": "stream",
     "text": [
      "Sum of the numbers: 113\n"
     ]
    }
   ],
   "source": [
    "from functools import reduce\n",
    "numbers = [47, 11, 42, 13]\n",
    "sum_result = (reduce(lambda x, y: x + y, numbers))\n",
    "print(\"Sum of the numbers:\", sum_result)"
   ]
  }
 ],
 "metadata": {
  "kernelspec": {
   "display_name": "Python 3 (ipykernel)",
   "language": "python",
   "name": "python3"
  },
  "language_info": {
   "codemirror_mode": {
    "name": "ipython",
    "version": 3
   },
   "file_extension": ".py",
   "mimetype": "text/x-python",
   "name": "python",
   "nbconvert_exporter": "python",
   "pygments_lexer": "ipython3",
   "version": "3.13.0"
  }
 },
 "nbformat": 4,
 "nbformat_minor": 5
}
